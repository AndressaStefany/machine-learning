{
  "nbformat": 4,
  "nbformat_minor": 0,
  "metadata": {
    "colab": {
      "name": "myFirst-end-to-end.ipynb",
      "version": "0.3.2",
      "provenance": [],
      "collapsed_sections": [],
      "toc_visible": true
<<<<<<< HEAD
    },
    "kernelspec": {
      "name": "python3",
      "display_name": "Python 3"
=======
>>>>>>> e52d6251c6346a2073f341ba39a46174247df09b
    }
  },
  "cells": [
    {
      "metadata": {
        "id": "Jcsn7t5F-AhN",
        "colab_type": "text"
      },
      "cell_type": "markdown",
      "source": [
        "#Projeto fim a fim utilizando Regressão Linear\n",
        "---"
      ]
    },
    {
      "metadata": {
        "id": "r70_pTdr9f-_",
        "colab_type": "text"
      },
      "cell_type": "markdown",
      "source": [
        "# 1.0 Introdução"
      ]
    },
    {
      "metadata": {
        "id": "EAPWy8qnOQqp",
        "colab_type": "text"
      },
      "cell_type": "markdown",
      "source": [
        "O dataset utilizado possui notas dos alunos de vários cursos da UFRN do ano de 2015 a 2017. A ideia é achar a relação entre as notas da primeira unidade e da segunda unidade da matéria de Cálculo I.\n",
        "\n",
        "Para padronizar o conteúdo estudade em cada unidade pelos alunos, será selecionado apenas os alunos do curso de Ciências e Tecnologia, visto que a amostra é um conjunto de dados com uma quantidade significante."
      ]
    },
    {
      "metadata": {
        "id": "kunjXwhOc_br",
        "colab_type": "text"
      },
      "cell_type": "markdown",
      "source": [
        "## 1.1 Medida de desempenho"
      ]
    },
    {
      "metadata": {
        "id": "PFBvUVS8LuHo",
        "colab_type": "text"
      },
      "cell_type": "markdown",
      "source": [
        "# 2.0 Carregando os dados"
      ]
    },
    {
      "metadata": {
        "id": "hYifU7AZzUU8",
        "colab_type": "text"
      },
      "cell_type": "markdown",
      "source": [
        "## 2.1 Acesar arquivo do drive"
      ]
    },
    {
      "metadata": {
        "id": "8-Ibp1DezYao",
        "colab_type": "code",
<<<<<<< HEAD
        "colab": {
          "base_uri": "https://localhost:8080/",
          "height": 145
        },
        "outputId": "14016fbc-d4cd-42d1-a763-4cbbcf588348"
=======
        "colab": {}
>>>>>>> e52d6251c6346a2073f341ba39a46174247df09b
      },
      "cell_type": "code",
      "source": [
        "#1. Install a Drive FUSE wrapper google-drive-ocamlfuse.\n",
        "!apt-get install -y -qq software-properties-common python-software-properties module-init-tools\n",
        "!add-apt-repository -y ppa:alessandro-strada/ppa 2>&1 > /dev/null\n",
        "!apt-get update -qq 2>&1 > /dev/null\n",
        "!apt-get -y install -qq google-drive-ocamlfuse fuse"
      ],
<<<<<<< HEAD
      "execution_count": 2,
      "outputs": [
        {
          "output_type": "stream",
          "text": [
            "gpg: keybox '/tmp/tmpp70mh7zo/pubring.gpg' created\n",
            "gpg: /tmp/tmpp70mh7zo/trustdb.gpg: trustdb created\n",
            "gpg: key AD5F235DF639B041: public key \"Launchpad PPA for Alessandro Strada\" imported\n",
            "gpg: Total number processed: 1\n",
            "gpg:               imported: 1\n",
            "Warning: apt-key output should not be parsed (stdout is not a terminal)\n"
          ],
          "name": "stdout"
        }
      ]
=======
      "execution_count": 0,
      "outputs": []
>>>>>>> e52d6251c6346a2073f341ba39a46174247df09b
    },
    {
      "metadata": {
        "id": "CSyiuS5KzdYC",
        "colab_type": "code",
        "colab": {}
      },
      "cell_type": "code",
      "source": [
        "#2. Generate auth tokens for Colab\n",
        "from google.colab import auth\n",
        "auth.authenticate_user()"
      ],
      "execution_count": 0,
      "outputs": []
    },
    {
      "metadata": {
        "id": "44iUSz0kzd7x",
        "colab_type": "code",
<<<<<<< HEAD
        "colab": {
          "base_uri": "https://localhost:8080/",
          "height": 109
        },
        "outputId": "ca8736ca-9b8b-42fb-cc14-21cbf64b3bd0"
=======
        "colab": {}
>>>>>>> e52d6251c6346a2073f341ba39a46174247df09b
      },
      "cell_type": "code",
      "source": [
        "#3. Generate creds for the Drive FUSE library.\n",
        "from oauth2client.client import GoogleCredentials\n",
        "creds = GoogleCredentials.get_application_default()\n",
        "import getpass\n",
        "!google-drive-ocamlfuse -headless -id={creds.client_id} -secret={creds.client_secret} < /dev/null 2>&1 | grep URL\n",
        "vcode = getpass.getpass()\n",
        "!echo {vcode} | google-drive-ocamlfuse -headless -id={creds.client_id} -secret={creds.client_secret}"
      ],
<<<<<<< HEAD
      "execution_count": 3,
      "outputs": [
        {
          "output_type": "stream",
          "text": [
            "Please, open the following URL in a web browser: https://accounts.google.com/o/oauth2/auth?client_id=32555940559.apps.googleusercontent.com&redirect_uri=urn%3Aietf%3Awg%3Aoauth%3A2.0%3Aoob&scope=https%3A%2F%2Fwww.googleapis.com%2Fauth%2Fdrive&response_type=code&access_type=offline&approval_prompt=force\n",
            "··········\n",
            "Please, open the following URL in a web browser: https://accounts.google.com/o/oauth2/auth?client_id=32555940559.apps.googleusercontent.com&redirect_uri=urn%3Aietf%3Awg%3Aoauth%3A2.0%3Aoob&scope=https%3A%2F%2Fwww.googleapis.com%2Fauth%2Fdrive&response_type=code&access_type=offline&approval_prompt=force\n",
            "Please enter the verification code: Access token retrieved correctly.\n"
          ],
          "name": "stdout"
        }
      ]
=======
      "execution_count": 0,
      "outputs": []
>>>>>>> e52d6251c6346a2073f341ba39a46174247df09b
    },
    {
      "metadata": {
        "id": "5293NpPSzhzS",
        "colab_type": "code",
        "colab": {}
      },
      "cell_type": "code",
      "source": [
        "#4. Create a directory and mount Google Drive using that directory.\n",
        "!mkdir -p drive\n",
        "!google-drive-ocamlfuse drive"
      ],
      "execution_count": 0,
      "outputs": []
    },
    {
      "metadata": {
        "id": "GGNjGae06vJZ",
        "colab_type": "code",
        "colab": {}
      },
      "cell_type": "code",
      "source": [
        "# commando to umount \n",
        "# !fusermount -u ML"
      ],
      "execution_count": 0,
      "outputs": []
    },
    {
      "metadata": {
        "id": "9JgY_cRbzijL",
        "colab_type": "code",
        "colab": {}
      },
      "cell_type": "code",
      "source": [
        "import os\n",
        "os.chdir(\"/content/\")"
      ],
      "execution_count": 0,
      "outputs": []
    },
    {
      "metadata": {
<<<<<<< HEAD
=======
        "id": "NqxLma9lLw47",
        "colab_type": "code",
        "colab": {}
      },
      "cell_type": "code",
      "source": [
        "!cp -r drive/Mestrado/Primeiro/MachineLearning/MyActivities/LinearRegression/datasets /content/"
      ],
      "execution_count": 0,
      "outputs": []
    },
    {
      "metadata": {
>>>>>>> e52d6251c6346a2073f341ba39a46174247df09b
        "id": "NySwIPdY46d-",
        "colab_type": "code",
        "colab": {
          "base_uri": "https://localhost:8080/",
<<<<<<< HEAD
          "height": 35
        },
        "outputId": "fac6b76d-9fba-40af-d2ff-ab3817a89b08"
=======
          "height": 269
        },
        "outputId": "93a231d6-229b-40a2-d8d2-20c857cf6720"
>>>>>>> e52d6251c6346a2073f341ba39a46174247df09b
      },
      "cell_type": "code",
      "source": [
        "!ls"
      ],
<<<<<<< HEAD
      "execution_count": 3,
=======
      "execution_count": 222,
>>>>>>> e52d6251c6346a2073f341ba39a46174247df09b
      "outputs": [
        {
          "output_type": "stream",
          "text": [
<<<<<<< HEAD
            "adc.json  datasets  drive  sample_data\n"
=======
            "adc.json\n",
            "AmesHousing.txt\n",
            "brain_body.txt\n",
            "componentes-curriculares-presenciais.csv\n",
            "datasets\n",
            "drive\n",
            "housing.csv\n",
            "idTurma-idComponente-2015a2017.csv\n",
            "idTurma-idComponente-componentes-2015a2017.csv\n",
            "matriculas2015-2017 (1).csv\n",
            "matriculas2015-2017.csv\n",
            "matriculas-de-2015.1.csv\n",
            "sample_data\n",
            "turmas2015-2017.csv\n"
>>>>>>> e52d6251c6346a2073f341ba39a46174247df09b
          ],
          "name": "stdout"
        }
      ]
    },
    {
      "metadata": {
        "id": "vfLe8-htfL-V",
        "colab_type": "text"
      },
      "cell_type": "markdown",
      "source": [
        "## 2.2 Carregando os arquivos locais"
      ]
    },
    {
      "metadata": {
        "id": "_lcvjQcOfSJ7",
        "colab_type": "code",
        "colab": {}
      },
      "cell_type": "code",
      "source": [
<<<<<<< HEAD
        "!cp -r drive/Mestrado/Primeiro/MachineLearning/MyActivities/LinearRegression/datasets/ /content/"
=======
        "!cp -r drive/Mestrado/Primeiro/MachineLearning/MyActivities/LinearRegression/datasets /content/"
>>>>>>> e52d6251c6346a2073f341ba39a46174247df09b
      ],
      "execution_count": 0,
      "outputs": []
    },
    {
      "metadata": {
        "id": "kjG43eSlEDbK",
        "colab_type": "code",
        "colab": {
          "base_uri": "https://localhost:8080/",
          "height": 53
        },
<<<<<<< HEAD
        "outputId": "b64bd698-2e83-4b4b-91a2-a3fe47bba5a5"
=======
        "outputId": "3024a50c-3318-4e1e-8636-08b5d075111b"
>>>>>>> e52d6251c6346a2073f341ba39a46174247df09b
      },
      "cell_type": "code",
      "source": [
        "!ls datasets/"
      ],
<<<<<<< HEAD
      "execution_count": 8,
=======
      "execution_count": 104,
>>>>>>> e52d6251c6346a2073f341ba39a46174247df09b
      "outputs": [
        {
          "output_type": "stream",
          "text": [
            "componentes-curriculares-presenciais.csv  matriculas\n",
            "cursos-graduacao.csv\t\t\t  turmas\n"
          ],
          "name": "stdout"
        }
      ]
    },
    {
      "metadata": {
        "id": "rSWPJTcRtViP",
        "colab_type": "text"
      },
      "cell_type": "markdown",
      "source": [
        "## 2.3 Estrutura dos dados"
      ]
    },
    {
      "metadata": {
        "id": "42XsR5-iGyIM",
        "colab_type": "code",
        "colab": {}
      },
      "cell_type": "code",
      "source": [
        "import pandas as pd"
      ],
      "execution_count": 0,
      "outputs": []
    },
    {
      "metadata": {
        "id": "Jp9ZugLmLyZX",
        "colab_type": "code",
        "colab": {
          "base_uri": "https://localhost:8080/",
          "height": 403
        },
<<<<<<< HEAD
        "outputId": "86cb7c1e-e222-4316-955b-597a83b99ddb"
=======
        "outputId": "e1638967-9ef3-4849-dd56-dfd5dca9f120"
>>>>>>> e52d6251c6346a2073f341ba39a46174247df09b
      },
      "cell_type": "code",
      "source": [
        "df_matriculas = pd.DataFrame()\n",
        "\n",
        "# importando matriculas de 2015 a 2017\n",
        "for i in range(15,18):\n",
        "    for j in range(1,3):\n",
        "        print('20'+str(i)+str(j))\n",
        "        df_matricula = pd.read_csv('datasets/matriculas/matriculas-de-20'+str(i)+str(j)+'.csv',sep=';')\n",
        "        #concatena as tabelas\n",
        "        df_matriculas = pd.concat([df_matriculas, df_matricula])\n",
        "        \n",
        "print(\"\\nDataFrame de Matrículas:\")\n",
        "print(df_matriculas.shape)\n",
        "display(df_matriculas.head())"
      ],
<<<<<<< HEAD
      "execution_count": 5,
=======
      "execution_count": 98,
>>>>>>> e52d6251c6346a2073f341ba39a46174247df09b
      "outputs": [
        {
          "output_type": "stream",
          "text": [
            "20151\n",
            "20152\n",
            "20161\n",
            "20162\n",
            "20171\n",
            "20172\n",
            "\n",
            "DataFrame de Matrículas:\n",
            "(4089836, 11)\n"
          ],
          "name": "stdout"
        },
        {
          "output_type": "display_data",
          "data": {
<<<<<<< HEAD
=======
            "text/plain": [
              "   Unnamed: 10  descricao                          discente  faltas_unidade  \\\n",
              "0          NaN  REPROVADO  8833c0e056f90497742882bfcc81b685             0.0   \n",
              "1          NaN  REPROVADO  8833c0e056f90497742882bfcc81b685             0.0   \n",
              "2          NaN   APROVADO  7a0a661326418111f7d17aab098757aa             0.0   \n",
              "3          NaN   APROVADO  7a0a661326418111f7d17aab098757aa             0.0   \n",
              "4          NaN   APROVADO  7a0a661326418111f7d17aab098757aa             0.0   \n",
              "\n",
              "      id_curso  id_turma  media_final  nota  numero_total_faltas reposicao  \\\n",
              "0  100300443.0  57562481          0.0   0.0                  0.0         f   \n",
              "1  100300443.0  57562481          0.0   0.0                  0.0         f   \n",
              "2  100300443.0  57562481          8.9   8.9                  0.0         f   \n",
              "3  100300443.0  57562481          8.9   8.9                  0.0         f   \n",
              "4  100300443.0  57562481          8.9   8.9                  0.0         f   \n",
              "\n",
              "   unidade  \n",
              "0      2.0  \n",
              "1      3.0  \n",
              "2      1.0  \n",
              "3      2.0  \n",
              "4      3.0  "
            ],
>>>>>>> e52d6251c6346a2073f341ba39a46174247df09b
            "text/html": [
              "<div>\n",
              "<style scoped>\n",
              "    .dataframe tbody tr th:only-of-type {\n",
              "        vertical-align: middle;\n",
              "    }\n",
              "\n",
              "    .dataframe tbody tr th {\n",
              "        vertical-align: top;\n",
              "    }\n",
              "\n",
              "    .dataframe thead th {\n",
              "        text-align: right;\n",
              "    }\n",
              "</style>\n",
              "<table border=\"1\" class=\"dataframe\">\n",
              "  <thead>\n",
              "    <tr style=\"text-align: right;\">\n",
              "      <th></th>\n",
              "      <th>Unnamed: 10</th>\n",
              "      <th>descricao</th>\n",
              "      <th>discente</th>\n",
              "      <th>faltas_unidade</th>\n",
              "      <th>id_curso</th>\n",
              "      <th>id_turma</th>\n",
              "      <th>media_final</th>\n",
              "      <th>nota</th>\n",
              "      <th>numero_total_faltas</th>\n",
              "      <th>reposicao</th>\n",
              "      <th>unidade</th>\n",
              "    </tr>\n",
              "  </thead>\n",
              "  <tbody>\n",
              "    <tr>\n",
              "      <th>0</th>\n",
              "      <td>NaN</td>\n",
              "      <td>REPROVADO</td>\n",
              "      <td>8833c0e056f90497742882bfcc81b685</td>\n",
              "      <td>0.0</td>\n",
              "      <td>100300443.0</td>\n",
              "      <td>57562481</td>\n",
              "      <td>0.0</td>\n",
              "      <td>0.0</td>\n",
              "      <td>0.0</td>\n",
              "      <td>f</td>\n",
              "      <td>2.0</td>\n",
              "    </tr>\n",
              "    <tr>\n",
              "      <th>1</th>\n",
              "      <td>NaN</td>\n",
              "      <td>REPROVADO</td>\n",
              "      <td>8833c0e056f90497742882bfcc81b685</td>\n",
              "      <td>0.0</td>\n",
              "      <td>100300443.0</td>\n",
              "      <td>57562481</td>\n",
              "      <td>0.0</td>\n",
              "      <td>0.0</td>\n",
              "      <td>0.0</td>\n",
              "      <td>f</td>\n",
              "      <td>3.0</td>\n",
              "    </tr>\n",
              "    <tr>\n",
              "      <th>2</th>\n",
              "      <td>NaN</td>\n",
              "      <td>APROVADO</td>\n",
              "      <td>7a0a661326418111f7d17aab098757aa</td>\n",
              "      <td>0.0</td>\n",
              "      <td>100300443.0</td>\n",
              "      <td>57562481</td>\n",
              "      <td>8.9</td>\n",
              "      <td>8.9</td>\n",
              "      <td>0.0</td>\n",
              "      <td>f</td>\n",
              "      <td>1.0</td>\n",
              "    </tr>\n",
              "    <tr>\n",
              "      <th>3</th>\n",
              "      <td>NaN</td>\n",
              "      <td>APROVADO</td>\n",
              "      <td>7a0a661326418111f7d17aab098757aa</td>\n",
              "      <td>0.0</td>\n",
              "      <td>100300443.0</td>\n",
              "      <td>57562481</td>\n",
              "      <td>8.9</td>\n",
              "      <td>8.9</td>\n",
              "      <td>0.0</td>\n",
              "      <td>f</td>\n",
              "      <td>2.0</td>\n",
              "    </tr>\n",
              "    <tr>\n",
              "      <th>4</th>\n",
              "      <td>NaN</td>\n",
              "      <td>APROVADO</td>\n",
              "      <td>7a0a661326418111f7d17aab098757aa</td>\n",
              "      <td>0.0</td>\n",
              "      <td>100300443.0</td>\n",
              "      <td>57562481</td>\n",
              "      <td>8.9</td>\n",
              "      <td>8.9</td>\n",
              "      <td>0.0</td>\n",
              "      <td>f</td>\n",
              "      <td>3.0</td>\n",
              "    </tr>\n",
              "  </tbody>\n",
              "</table>\n",
              "</div>"
<<<<<<< HEAD
            ],
            "text/plain": [
              "   Unnamed: 10  descricao                          discente  faltas_unidade  \\\n",
              "0          NaN  REPROVADO  8833c0e056f90497742882bfcc81b685             0.0   \n",
              "1          NaN  REPROVADO  8833c0e056f90497742882bfcc81b685             0.0   \n",
              "2          NaN   APROVADO  7a0a661326418111f7d17aab098757aa             0.0   \n",
              "3          NaN   APROVADO  7a0a661326418111f7d17aab098757aa             0.0   \n",
              "4          NaN   APROVADO  7a0a661326418111f7d17aab098757aa             0.0   \n",
              "\n",
              "      id_curso  id_turma  media_final  nota  numero_total_faltas reposicao  \\\n",
              "0  100300443.0  57562481          0.0   0.0                  0.0         f   \n",
              "1  100300443.0  57562481          0.0   0.0                  0.0         f   \n",
              "2  100300443.0  57562481          8.9   8.9                  0.0         f   \n",
              "3  100300443.0  57562481          8.9   8.9                  0.0         f   \n",
              "4  100300443.0  57562481          8.9   8.9                  0.0         f   \n",
              "\n",
              "   unidade  \n",
              "0      2.0  \n",
              "1      3.0  \n",
              "2      1.0  \n",
              "3      2.0  \n",
              "4      3.0  "
=======
>>>>>>> e52d6251c6346a2073f341ba39a46174247df09b
            ]
          },
          "metadata": {
            "tags": []
          }
        }
      ]
    },
    {
      "metadata": {
        "id": "R9-fEPdpRlku",
        "colab_type": "text"
      },
      "cell_type": "markdown",
      "source": [
        "Esse dataset representa a relação das matrículas em componentes dos cursos da instituição. Cada coluna significa:\n",
        "\n",
        "- **descrição**: Situação final do discente nessa turma.\n",
        "- **discente**: Identificador do discente da matrícula.\n",
        "- **faltas_unidade**: Quantidade de faltas na unidade.\n",
        "- **id_curso**: Identificador do curso do discente.\n",
        "- **id_turma**: Identificador da turma do discente.\n",
        "- **media_final**: Média final do discente.\n",
        "- **nota**: Nota do discente na unidade.\n",
        "- **numero_total_faltas**: Quantidade total de faltas.\n",
        "- **reposição**: Indica se o discente ficou em reposição.\n",
        "- **unidade**: Unidade corrente do período letivo."
      ]
    },
    {
      "metadata": {
        "id": "ougv2Z7fxLnA",
        "colab_type": "code",
        "colab": {
          "base_uri": "https://localhost:8080/",
<<<<<<< HEAD
          "height": 295
        },
        "outputId": "973ba385-9767-475d-a5af-e4984769633d"
=======
          "height": 305
        },
        "outputId": "d0b20881-8122-49de-d8ea-2ccbdfaa729d"
>>>>>>> e52d6251c6346a2073f341ba39a46174247df09b
      },
      "cell_type": "code",
      "source": [
        "df_matriculas.info(null_counts=True)"
      ],
<<<<<<< HEAD
      "execution_count": 15,
=======
      "execution_count": 100,
>>>>>>> e52d6251c6346a2073f341ba39a46174247df09b
      "outputs": [
        {
          "output_type": "stream",
          "text": [
            "<class 'pandas.core.frame.DataFrame'>\n",
            "Int64Index: 4089836 entries, 0 to 632453\n",
            "Data columns (total 11 columns):\n",
            "Unnamed: 10            0 non-null float64\n",
            "descricao              4089836 non-null object\n",
            "discente               4089836 non-null object\n",
            "faltas_unidade         3467465 non-null float64\n",
            "id_curso               4068862 non-null float64\n",
            "id_turma               4089836 non-null int64\n",
            "media_final            3510693 non-null float64\n",
            "nota                   3356750 non-null float64\n",
            "numero_total_faltas    3609525 non-null float64\n",
            "reposicao              3467465 non-null object\n",
            "unidade                3467465 non-null float64\n",
            "dtypes: float64(7), int64(1), object(3)\n",
            "memory usage: 374.4+ MB\n"
          ],
          "name": "stdout"
        }
      ]
    },
    {
      "metadata": {
        "id": "f-7j53mCUkpR",
        "colab_type": "text"
      },
      "cell_type": "markdown",
      "source": [
        "- A primeira coluna do dataset é formado apenas por elementos nulos;\n",
        "- Apenas as colunas \"descrição\", \"discente\" e \"id_turma\" não possuem elementos nulos."
      ]
    },
    {
      "metadata": {
        "id": "DlAGQ6DRVd96",
        "colab_type": "code",
        "colab": {
          "base_uri": "https://localhost:8080/",
          "height": 585
        },
<<<<<<< HEAD
        "outputId": "cc137b07-b8eb-457c-9ce8-3ac340ac8d25"
=======
        "outputId": "b4821c41-3b65-4d21-9a97-b04b047904f5"
>>>>>>> e52d6251c6346a2073f341ba39a46174247df09b
      },
      "cell_type": "code",
      "source": [
        "# concatenar todas as turmas de 2015 a 2017\n",
        "df_turmas = pd.DataFrame()\n",
        "\n",
        "for i in range(15,18):\n",
        "    for j in range(1,3):\n",
        "        print(\"20\"+str(i)+str(j))\n",
        "        f = open('datasets/turmas/turmas-20'+str(i)+str(j)+'.csv')\n",
        "        d = f.read()\n",
        "        d = d.replace(\"\\n\",\"\")\n",
        "        x = d.split(\"\\\";\\\"\")\n",
        "        a = []\n",
        "        step = 25\n",
        "        for b in range(0, len(x), step):\n",
        "            a.append(x[b:b+step])\n",
        "        df = pd.DataFrame(a[1:],columns=['id_turma']+a[0][1:])\n",
        "        df_turmas = pd.concat([df_turmas, df])\n",
        "        \n",
        "# conversoes\n",
        "df_turmas['id_turma'] = df_turmas.id_turma.astype(int)\n",
        "df_turmas['id_componente_curricular'] = df_turmas.id_componente_curricular.astype(int)\n",
        "df_turmas['ano'] = df_turmas.ano.astype(int)\n",
        "df_turmas['periodo'] = df_turmas.periodo.astype(int)\n",
        "        \n",
        "print(\"\\nDataFrame dos dados das Turmas:\")\n",
        "print(df_turmas.shape)\n",
        "display(df_turmas.head())"
      ],
<<<<<<< HEAD
      "execution_count": 6,
=======
      "execution_count": 147,
>>>>>>> e52d6251c6346a2073f341ba39a46174247df09b
      "outputs": [
        {
          "output_type": "stream",
          "text": [
            "20151\n",
            "20152\n",
            "20161\n",
            "20162\n",
            "20171\n",
            "20172\n",
            "\n",
            "DataFrame dos dados das Turmas:\n",
            "(86527, 25)\n"
          ],
          "name": "stdout"
        },
        {
          "output_type": "display_data",
          "data": {
<<<<<<< HEAD
=======
            "text/plain": [
              "   id_turma codigo_turma id_docente_interno id_docente_externo observacao  \\\n",
              "0   1217099           01              18225                                 \n",
              "1   1217100           01              18695                                 \n",
              "2   1217101           01            5753068                                 \n",
              "3   1217102           01                             109565716              \n",
              "4   1217102           01                             109565745              \n",
              "\n",
              "   id_componente_curricular nivel_ensino campus_turma  \\\n",
              "0                     52922   LATO SENSU                \n",
              "1                     52921   LATO SENSU                \n",
              "2                     52925   LATO SENSU                \n",
              "3                     52920   LATO SENSU                \n",
              "4                     52920   LATO SENSU                \n",
              "\n",
              "                                 local   ano           ...             \\\n",
              "0  Depto. de Oceanografia e Limnologia  2015           ...              \n",
              "1  Depto. de Oceanografia e Limnologia  2015           ...              \n",
              "2  Depto. de Oceanografia e Limnologia  2015           ...              \n",
              "3  Depto. de Oceanografia e Limnologia  2015           ...              \n",
              "4  Depto. de Oceanografia e Limnologia  2015           ...              \n",
              "\n",
              "   capacidade_aluno     tipo distancia        data_consolidacao agrupadora  \\\n",
              "0                26  REGULAR         f  2015-06-01 12:53:14.625          f   \n",
              "1                26  REGULAR         f  2015-10-08 16:19:21.901          f   \n",
              "2                26  REGULAR         f  2015-06-01 12:50:38.962          f   \n",
              "3                26  REGULAR         f  2015-08-26 11:48:34.146          f   \n",
              "4                26  REGULAR         f  2015-08-26 11:48:34.146          f   \n",
              "\n",
              "  id_turma_agrupadora qtd_aulas_lancadas situacao_turma convenio  \\\n",
              "0                                     15    CONSOLIDADA            \n",
              "1                                      8    CONSOLIDADA            \n",
              "2                                     30    CONSOLIDADA            \n",
              "3                                     24    CONSOLIDADA            \n",
              "4                                     24    CONSOLIDADA            \n",
              "\n",
              "  modalidade_participantes  \n",
              "0               Presencial  \n",
              "1               Presencial  \n",
              "2               Presencial  \n",
              "3               Presencial  \n",
              "4               Presencial  \n",
              "\n",
              "[5 rows x 25 columns]"
            ],
>>>>>>> e52d6251c6346a2073f341ba39a46174247df09b
            "text/html": [
              "<div>\n",
              "<style scoped>\n",
              "    .dataframe tbody tr th:only-of-type {\n",
              "        vertical-align: middle;\n",
              "    }\n",
              "\n",
              "    .dataframe tbody tr th {\n",
              "        vertical-align: top;\n",
              "    }\n",
              "\n",
              "    .dataframe thead th {\n",
              "        text-align: right;\n",
              "    }\n",
              "</style>\n",
              "<table border=\"1\" class=\"dataframe\">\n",
              "  <thead>\n",
              "    <tr style=\"text-align: right;\">\n",
              "      <th></th>\n",
              "      <th>id_turma</th>\n",
              "      <th>codigo_turma</th>\n",
              "      <th>id_docente_interno</th>\n",
              "      <th>id_docente_externo</th>\n",
              "      <th>observacao</th>\n",
              "      <th>id_componente_curricular</th>\n",
              "      <th>nivel_ensino</th>\n",
              "      <th>campus_turma</th>\n",
              "      <th>local</th>\n",
              "      <th>ano</th>\n",
              "      <th>...</th>\n",
              "      <th>capacidade_aluno</th>\n",
              "      <th>tipo</th>\n",
              "      <th>distancia</th>\n",
              "      <th>data_consolidacao</th>\n",
              "      <th>agrupadora</th>\n",
              "      <th>id_turma_agrupadora</th>\n",
              "      <th>qtd_aulas_lancadas</th>\n",
              "      <th>situacao_turma</th>\n",
              "      <th>convenio</th>\n",
              "      <th>modalidade_participantes</th>\n",
              "    </tr>\n",
              "  </thead>\n",
              "  <tbody>\n",
              "    <tr>\n",
              "      <th>0</th>\n",
              "      <td>1217099</td>\n",
              "      <td>01</td>\n",
              "      <td>18225</td>\n",
              "      <td></td>\n",
              "      <td></td>\n",
              "      <td>52922</td>\n",
              "      <td>LATO SENSU</td>\n",
              "      <td></td>\n",
              "      <td>Depto. de Oceanografia e Limnologia</td>\n",
              "      <td>2015</td>\n",
              "      <td>...</td>\n",
              "      <td>26</td>\n",
              "      <td>REGULAR</td>\n",
              "      <td>f</td>\n",
              "      <td>2015-06-01 12:53:14.625</td>\n",
              "      <td>f</td>\n",
              "      <td></td>\n",
              "      <td>15</td>\n",
              "      <td>CONSOLIDADA</td>\n",
              "      <td></td>\n",
              "      <td>Presencial</td>\n",
              "    </tr>\n",
              "    <tr>\n",
              "      <th>1</th>\n",
              "      <td>1217100</td>\n",
              "      <td>01</td>\n",
              "      <td>18695</td>\n",
              "      <td></td>\n",
              "      <td></td>\n",
              "      <td>52921</td>\n",
              "      <td>LATO SENSU</td>\n",
              "      <td></td>\n",
              "      <td>Depto. de Oceanografia e Limnologia</td>\n",
              "      <td>2015</td>\n",
              "      <td>...</td>\n",
              "      <td>26</td>\n",
              "      <td>REGULAR</td>\n",
              "      <td>f</td>\n",
              "      <td>2015-10-08 16:19:21.901</td>\n",
              "      <td>f</td>\n",
              "      <td></td>\n",
              "      <td>8</td>\n",
              "      <td>CONSOLIDADA</td>\n",
              "      <td></td>\n",
              "      <td>Presencial</td>\n",
              "    </tr>\n",
              "    <tr>\n",
              "      <th>2</th>\n",
              "      <td>1217101</td>\n",
              "      <td>01</td>\n",
              "      <td>5753068</td>\n",
              "      <td></td>\n",
              "      <td></td>\n",
              "      <td>52925</td>\n",
              "      <td>LATO SENSU</td>\n",
              "      <td></td>\n",
              "      <td>Depto. de Oceanografia e Limnologia</td>\n",
              "      <td>2015</td>\n",
              "      <td>...</td>\n",
              "      <td>26</td>\n",
              "      <td>REGULAR</td>\n",
              "      <td>f</td>\n",
              "      <td>2015-06-01 12:50:38.962</td>\n",
              "      <td>f</td>\n",
              "      <td></td>\n",
              "      <td>30</td>\n",
              "      <td>CONSOLIDADA</td>\n",
              "      <td></td>\n",
              "      <td>Presencial</td>\n",
              "    </tr>\n",
              "    <tr>\n",
              "      <th>3</th>\n",
              "      <td>1217102</td>\n",
              "      <td>01</td>\n",
              "      <td></td>\n",
              "      <td>109565716</td>\n",
              "      <td></td>\n",
              "      <td>52920</td>\n",
              "      <td>LATO SENSU</td>\n",
              "      <td></td>\n",
              "      <td>Depto. de Oceanografia e Limnologia</td>\n",
              "      <td>2015</td>\n",
              "      <td>...</td>\n",
              "      <td>26</td>\n",
              "      <td>REGULAR</td>\n",
              "      <td>f</td>\n",
              "      <td>2015-08-26 11:48:34.146</td>\n",
              "      <td>f</td>\n",
              "      <td></td>\n",
              "      <td>24</td>\n",
              "      <td>CONSOLIDADA</td>\n",
              "      <td></td>\n",
              "      <td>Presencial</td>\n",
              "    </tr>\n",
              "    <tr>\n",
              "      <th>4</th>\n",
              "      <td>1217102</td>\n",
              "      <td>01</td>\n",
              "      <td></td>\n",
              "      <td>109565745</td>\n",
              "      <td></td>\n",
              "      <td>52920</td>\n",
              "      <td>LATO SENSU</td>\n",
              "      <td></td>\n",
              "      <td>Depto. de Oceanografia e Limnologia</td>\n",
              "      <td>2015</td>\n",
              "      <td>...</td>\n",
              "      <td>26</td>\n",
              "      <td>REGULAR</td>\n",
              "      <td>f</td>\n",
              "      <td>2015-08-26 11:48:34.146</td>\n",
              "      <td>f</td>\n",
              "      <td></td>\n",
              "      <td>24</td>\n",
              "      <td>CONSOLIDADA</td>\n",
              "      <td></td>\n",
              "      <td>Presencial</td>\n",
              "    </tr>\n",
              "  </tbody>\n",
              "</table>\n",
              "<p>5 rows × 25 columns</p>\n",
              "</div>"
<<<<<<< HEAD
            ],
            "text/plain": [
              "   id_turma codigo_turma id_docente_interno id_docente_externo observacao  \\\n",
              "0   1217099           01              18225                                 \n",
              "1   1217100           01              18695                                 \n",
              "2   1217101           01            5753068                                 \n",
              "3   1217102           01                             109565716              \n",
              "4   1217102           01                             109565745              \n",
              "\n",
              "   id_componente_curricular nivel_ensino campus_turma  \\\n",
              "0                     52922   LATO SENSU                \n",
              "1                     52921   LATO SENSU                \n",
              "2                     52925   LATO SENSU                \n",
              "3                     52920   LATO SENSU                \n",
              "4                     52920   LATO SENSU                \n",
              "\n",
              "                                 local   ano           ...             \\\n",
              "0  Depto. de Oceanografia e Limnologia  2015           ...              \n",
              "1  Depto. de Oceanografia e Limnologia  2015           ...              \n",
              "2  Depto. de Oceanografia e Limnologia  2015           ...              \n",
              "3  Depto. de Oceanografia e Limnologia  2015           ...              \n",
              "4  Depto. de Oceanografia e Limnologia  2015           ...              \n",
              "\n",
              "   capacidade_aluno     tipo distancia        data_consolidacao agrupadora  \\\n",
              "0                26  REGULAR         f  2015-06-01 12:53:14.625          f   \n",
              "1                26  REGULAR         f  2015-10-08 16:19:21.901          f   \n",
              "2                26  REGULAR         f  2015-06-01 12:50:38.962          f   \n",
              "3                26  REGULAR         f  2015-08-26 11:48:34.146          f   \n",
              "4                26  REGULAR         f  2015-08-26 11:48:34.146          f   \n",
              "\n",
              "  id_turma_agrupadora qtd_aulas_lancadas situacao_turma convenio  \\\n",
              "0                                     15    CONSOLIDADA            \n",
              "1                                      8    CONSOLIDADA            \n",
              "2                                     30    CONSOLIDADA            \n",
              "3                                     24    CONSOLIDADA            \n",
              "4                                     24    CONSOLIDADA            \n",
              "\n",
              "  modalidade_participantes  \n",
              "0               Presencial  \n",
              "1               Presencial  \n",
              "2               Presencial  \n",
              "3               Presencial  \n",
              "4               Presencial  \n",
              "\n",
              "[5 rows x 25 columns]"
=======
>>>>>>> e52d6251c6346a2073f341ba39a46174247df09b
            ]
          },
          "metadata": {
            "tags": []
          }
        }
      ]
    },
    {
      "metadata": {
        "id": "y09u4qtaWGgg",
        "colab_type": "text"
      },
      "cell_type": "markdown",
      "source": [
        "O dataset acima possui a relação de turmas dos cursos de nível médio, técnio, graduação e pós-graduação da UFRN. Suas colunas são:\n",
        "- **id_turma**: Identificador da turma.\n",
        "- **codigo_turma**: Código de identificação da turma.\n",
        "- **id_docente_interno**: Identificador do docente interno (id_servidor - caso seja um docente servidor da instituição).\n",
        "- **id_docente_externo**: Identificador do docente externo (caso não seja um docente servidor da instituição).\n",
        "- **observação**: Observação para a turma.\n",
        "- **id_componente_curricular**: Identificador do componente curricular da turma.\n",
        "- **nível**: Nível de ensino da turma.\n",
        "- **campus_turma**: Campus onde a turma é ofertada.\n",
        "- **local**: Local físico de oferta da turma.\n",
        "- **ano**: Ano de oferta da turma.\n",
        "- **período**: Período de oferta da turma.\n",
        "- **data_início**: Data de início da turma.\n",
        "- **data_fim**: Data de término da turma.\n",
        "- **descrição_horário**: Descrição textual da expressão de horário.\n",
        "- **total_solicitações**: Total de solicitações de matrícula cadastradas para a turma.\n",
        "- **capacidade_aluno**: Capacidade de discentes na turma.\n",
        "- **tipo**: Identificador para informar o tipo da Turma.\n",
        "- **distância**: Condicional para informar se a turma é oferta na\n",
        "modalidade a distância.\n",
        "- **data_consolidação**: Data de consolidação da turma.\n",
        "- **agrupadora**: Condicional para informar se a turma funciona\n",
        "como agrupadora para subturmas.\n",
        "- **id_turma_agrupadora**: Corresponde ao id_turma da agrupadora desta turma.\n",
        "- **qtd_aulas_lançadas**: Quantitativo de aulas lançadas pelo docente.\n",
        "- **situação_turma**: Situação da turma.\n",
        "- **convênio**: Convênio de vínculo com a turma\n",
        "- **modalidade_participantes**: Modalidade de educação para alunos destinados a turma."
      ]
    },
    {
      "metadata": {
        "id": "GN2ppc_UY-Cx",
        "colab_type": "code",
        "colab": {
          "base_uri": "https://localhost:8080/",
<<<<<<< HEAD
          "height": 538
        },
        "outputId": "a5d6e1eb-d529-4771-83fe-b737135ad24c"
=======
          "height": 557
        },
        "outputId": "bcf32051-cda5-4b7e-846b-f8ee6b9d5681"
>>>>>>> e52d6251c6346a2073f341ba39a46174247df09b
      },
      "cell_type": "code",
      "source": [
        "df_turmas.info()"
      ],
<<<<<<< HEAD
      "execution_count": 17,
=======
      "execution_count": 148,
>>>>>>> e52d6251c6346a2073f341ba39a46174247df09b
      "outputs": [
        {
          "output_type": "stream",
          "text": [
            "<class 'pandas.core.frame.DataFrame'>\n",
            "Int64Index: 86527 entries, 0 to 14471\n",
            "Data columns (total 25 columns):\n",
            "id_turma                    86527 non-null int64\n",
            "codigo_turma                86527 non-null object\n",
            "id_docente_interno          86527 non-null object\n",
            "id_docente_externo          86527 non-null object\n",
            "observacao                  86527 non-null object\n",
            "id_componente_curricular    86527 non-null int64\n",
            "nivel_ensino                86527 non-null object\n",
            "campus_turma                86527 non-null object\n",
            "local                       86527 non-null object\n",
            "ano                         86527 non-null int64\n",
            "periodo                     86527 non-null int64\n",
            "data_inicio                 86527 non-null object\n",
            "data_fim                    86527 non-null object\n",
            "descricao_horario           86527 non-null object\n",
            "total_solicitacoes          86527 non-null object\n",
            "capacidade_aluno            86527 non-null object\n",
            "tipo                        86527 non-null object\n",
            "distancia                   86527 non-null object\n",
            "data_consolidacao           86527 non-null object\n",
            "agrupadora                  86527 non-null object\n",
            "id_turma_agrupadora         86527 non-null object\n",
            "qtd_aulas_lancadas          86527 non-null object\n",
            "situacao_turma              86527 non-null object\n",
            "convenio                    86527 non-null object\n",
            "modalidade_participantes    86527 non-null object\n",
            "dtypes: int64(4), object(21)\n",
            "memory usage: 17.2+ MB\n"
          ],
          "name": "stdout"
        }
      ]
    },
    {
      "metadata": {
        "id": "xEwNqxhtZGSi",
        "colab_type": "text"
      },
      "cell_type": "markdown",
      "source": [
        "- É possível observar que esse dataset não possui dados nulos."
      ]
    },
    {
      "metadata": {
        "id": "xRJqArsNZwod",
        "colab_type": "code",
        "colab": {
          "base_uri": "https://localhost:8080/",
          "height": 493
        },
<<<<<<< HEAD
        "outputId": "3979d8de-7243-4d3f-cfbe-5f8a870ff17a"
=======
        "outputId": "63d389c1-954b-4266-e03c-8fd604664594"
>>>>>>> e52d6251c6346a2073f341ba39a46174247df09b
      },
      "cell_type": "code",
      "source": [
        "# tabela dos cursos de graduação da UFRN\n",
        "cursos = pd.read_csv('datasets/cursos-graduacao.csv',sep=';')\n",
        "\n",
        "print(\"Tabela dos cursos de graduação da UFRN:\")\n",
        "print(cursos.shape)\n",
        "display(cursos.head())"
      ],
<<<<<<< HEAD
      "execution_count": 7,
=======
      "execution_count": 170,
>>>>>>> e52d6251c6346a2073f341ba39a46174247df09b
      "outputs": [
        {
          "output_type": "stream",
          "text": [
            "Tabela dos cursos de graduação da UFRN:\n",
            "(116, 23)\n"
          ],
          "name": "stdout"
        },
        {
          "output_type": "display_data",
          "data": {
<<<<<<< HEAD
=======
            "text/plain": [
              "   id_curso                                   nome  id_coordenador  \\\n",
              "0   2000004                          ADMINISTRAÇÃO         24415.0   \n",
              "1  15315770                  ADMINISTRAÇÃO PÚBLICA         23122.0   \n",
              "2   2576632                              AGRONOMIA       5758350.0   \n",
              "3  94598200  ANÁLISE E DESENVOLVIMENTO DE SISTEMAS       5757908.0   \n",
              "4   2000005                ARQUITETURA E URBANISMO       5756800.0   \n",
              "\n",
              "                          coordenador situacao_curso nivel_ensino  \\\n",
              "0     ANDREA CRISTINA SANTOS DE JESUS          ATIVO    GRADUAÇÃO   \n",
              "1          MATILDE MEDEIROS DE ARAÚJO          ATIVO    GRADUAÇÃO   \n",
              "2        JOSE HAMILTON DA COSTA FILHO          ATIVO    GRADUAÇÃO   \n",
              "3             TANIRO CHACON RODRIGUES          ATIVO    GRADUAÇÃO   \n",
              "4  GLAUCE LILIAN ALVES DE ALBUQUERQUE          ATIVO    GRADUAÇÃO   \n",
              "\n",
              "  grau_academico modalidade_educacao           area_conhecimento tipo_oferta  \\\n",
              "0    BACHARELADO          Presencial  Ciências Sociais Aplicadas     Regular   \n",
              "1    BACHARELADO         A Distância  Ciências Sociais Aplicadas     Regular   \n",
              "2    BACHARELADO          Presencial           Ciências Agrárias     Regular   \n",
              "3    TECNOLÓGICO          Presencial                       Outra       Anual   \n",
              "4    BACHARELADO          Presencial                 Engenharias     Regular   \n",
              "\n",
              "      ...                    campus id_unidade_responsavel  \\\n",
              "0     ...      Campus Currais Novos                   1482   \n",
              "1     ...                       NaN                    443   \n",
              "2     ...                       NaN                    351   \n",
              "3     ...                       NaN                    351   \n",
              "4     ...            Campus Central                    445   \n",
              "\n",
              "                    unidade_responsavel website  data_funcionamento  \\\n",
              "0  CENTRO DE  ENSINO SUPERIOR DO SERIDÓ     NaN          1978-09-15   \n",
              "1  CENTRO DE CIÊNCIAS SOCIAIS APLICADAS     NaN                 NaN   \n",
              "2            ESCOLA AGRÍCOLA DE JUNDIAÍ     NaN                 NaN   \n",
              "3            ESCOLA AGRÍCOLA DE JUNDIAÍ     NaN                 NaN   \n",
              "4                  CENTRO DE TECNOLOGIA     NaN          1973-08-13   \n",
              "\n",
              "  codigo_inep         dou            portaria_reconhecimento  \\\n",
              "0     12355.0  2017-04-04         Portaria nº 272/2017 - MEC   \n",
              "1   1151028.0  2014-04-11   Portaria nº 226/2014 - DIREG/MEC   \n",
              "2   1127694.0  2018-03-02         Portaria Nº 133/2018 - MEC   \n",
              "3   1188193.0  2015-12-24  Portaria nº 1034/2015 - DIREG/MEC   \n",
              "4     12343.0  2015-12-30  Portaria nº 1098/2015 - DIREG/MEC   \n",
              "\n",
              "   convenio_academico Unnamed: 22  \n",
              "0                 NaN         NaN  \n",
              "1                 NaN         NaN  \n",
              "2                 NaN         NaN  \n",
              "3                 NaN         NaN  \n",
              "4                 NaN         NaN  \n",
              "\n",
              "[5 rows x 23 columns]"
            ],
>>>>>>> e52d6251c6346a2073f341ba39a46174247df09b
            "text/html": [
              "<div>\n",
              "<style scoped>\n",
              "    .dataframe tbody tr th:only-of-type {\n",
              "        vertical-align: middle;\n",
              "    }\n",
              "\n",
              "    .dataframe tbody tr th {\n",
              "        vertical-align: top;\n",
              "    }\n",
              "\n",
              "    .dataframe thead th {\n",
              "        text-align: right;\n",
              "    }\n",
              "</style>\n",
              "<table border=\"1\" class=\"dataframe\">\n",
              "  <thead>\n",
              "    <tr style=\"text-align: right;\">\n",
              "      <th></th>\n",
              "      <th>id_curso</th>\n",
              "      <th>nome</th>\n",
              "      <th>id_coordenador</th>\n",
              "      <th>coordenador</th>\n",
              "      <th>situacao_curso</th>\n",
              "      <th>nivel_ensino</th>\n",
              "      <th>grau_academico</th>\n",
              "      <th>modalidade_educacao</th>\n",
              "      <th>area_conhecimento</th>\n",
              "      <th>tipo_oferta</th>\n",
              "      <th>...</th>\n",
              "      <th>campus</th>\n",
              "      <th>id_unidade_responsavel</th>\n",
              "      <th>unidade_responsavel</th>\n",
              "      <th>website</th>\n",
              "      <th>data_funcionamento</th>\n",
              "      <th>codigo_inep</th>\n",
              "      <th>dou</th>\n",
              "      <th>portaria_reconhecimento</th>\n",
              "      <th>convenio_academico</th>\n",
              "      <th>Unnamed: 22</th>\n",
              "    </tr>\n",
              "  </thead>\n",
              "  <tbody>\n",
              "    <tr>\n",
              "      <th>0</th>\n",
              "      <td>2000004</td>\n",
              "      <td>ADMINISTRAÇÃO</td>\n",
              "      <td>24415.0</td>\n",
              "      <td>ANDREA CRISTINA SANTOS DE JESUS</td>\n",
              "      <td>ATIVO</td>\n",
              "      <td>GRADUAÇÃO</td>\n",
              "      <td>BACHARELADO</td>\n",
              "      <td>Presencial</td>\n",
              "      <td>Ciências Sociais Aplicadas</td>\n",
              "      <td>Regular</td>\n",
              "      <td>...</td>\n",
              "      <td>Campus Currais Novos</td>\n",
              "      <td>1482</td>\n",
              "      <td>CENTRO DE  ENSINO SUPERIOR DO SERIDÓ</td>\n",
              "      <td>NaN</td>\n",
              "      <td>1978-09-15</td>\n",
              "      <td>12355.0</td>\n",
              "      <td>2017-04-04</td>\n",
              "      <td>Portaria nº 272/2017 - MEC</td>\n",
              "      <td>NaN</td>\n",
              "      <td>NaN</td>\n",
              "    </tr>\n",
              "    <tr>\n",
              "      <th>1</th>\n",
              "      <td>15315770</td>\n",
              "      <td>ADMINISTRAÇÃO PÚBLICA</td>\n",
              "      <td>23122.0</td>\n",
              "      <td>MATILDE MEDEIROS DE ARAÚJO</td>\n",
              "      <td>ATIVO</td>\n",
              "      <td>GRADUAÇÃO</td>\n",
              "      <td>BACHARELADO</td>\n",
              "      <td>A Distância</td>\n",
              "      <td>Ciências Sociais Aplicadas</td>\n",
              "      <td>Regular</td>\n",
              "      <td>...</td>\n",
              "      <td>NaN</td>\n",
              "      <td>443</td>\n",
              "      <td>CENTRO DE CIÊNCIAS SOCIAIS APLICADAS</td>\n",
              "      <td>NaN</td>\n",
              "      <td>NaN</td>\n",
              "      <td>1151028.0</td>\n",
              "      <td>2014-04-11</td>\n",
              "      <td>Portaria nº 226/2014 - DIREG/MEC</td>\n",
              "      <td>NaN</td>\n",
              "      <td>NaN</td>\n",
              "    </tr>\n",
              "    <tr>\n",
              "      <th>2</th>\n",
              "      <td>2576632</td>\n",
              "      <td>AGRONOMIA</td>\n",
              "      <td>5758350.0</td>\n",
              "      <td>JOSE HAMILTON DA COSTA FILHO</td>\n",
              "      <td>ATIVO</td>\n",
              "      <td>GRADUAÇÃO</td>\n",
              "      <td>BACHARELADO</td>\n",
              "      <td>Presencial</td>\n",
              "      <td>Ciências Agrárias</td>\n",
              "      <td>Regular</td>\n",
              "      <td>...</td>\n",
              "      <td>NaN</td>\n",
              "      <td>351</td>\n",
              "      <td>ESCOLA AGRÍCOLA DE JUNDIAÍ</td>\n",
              "      <td>NaN</td>\n",
              "      <td>NaN</td>\n",
              "      <td>1127694.0</td>\n",
              "      <td>2018-03-02</td>\n",
              "      <td>Portaria Nº 133/2018 - MEC</td>\n",
              "      <td>NaN</td>\n",
              "      <td>NaN</td>\n",
              "    </tr>\n",
              "    <tr>\n",
              "      <th>3</th>\n",
              "      <td>94598200</td>\n",
              "      <td>ANÁLISE E DESENVOLVIMENTO DE SISTEMAS</td>\n",
              "      <td>5757908.0</td>\n",
              "      <td>TANIRO CHACON RODRIGUES</td>\n",
              "      <td>ATIVO</td>\n",
              "      <td>GRADUAÇÃO</td>\n",
              "      <td>TECNOLÓGICO</td>\n",
              "      <td>Presencial</td>\n",
              "      <td>Outra</td>\n",
              "      <td>Anual</td>\n",
              "      <td>...</td>\n",
              "      <td>NaN</td>\n",
              "      <td>351</td>\n",
              "      <td>ESCOLA AGRÍCOLA DE JUNDIAÍ</td>\n",
              "      <td>NaN</td>\n",
              "      <td>NaN</td>\n",
              "      <td>1188193.0</td>\n",
              "      <td>2015-12-24</td>\n",
              "      <td>Portaria nº 1034/2015 - DIREG/MEC</td>\n",
              "      <td>NaN</td>\n",
              "      <td>NaN</td>\n",
              "    </tr>\n",
              "    <tr>\n",
              "      <th>4</th>\n",
              "      <td>2000005</td>\n",
              "      <td>ARQUITETURA E URBANISMO</td>\n",
              "      <td>5756800.0</td>\n",
              "      <td>GLAUCE LILIAN ALVES DE ALBUQUERQUE</td>\n",
              "      <td>ATIVO</td>\n",
              "      <td>GRADUAÇÃO</td>\n",
              "      <td>BACHARELADO</td>\n",
              "      <td>Presencial</td>\n",
              "      <td>Engenharias</td>\n",
              "      <td>Regular</td>\n",
              "      <td>...</td>\n",
              "      <td>Campus Central</td>\n",
              "      <td>445</td>\n",
              "      <td>CENTRO DE TECNOLOGIA</td>\n",
              "      <td>NaN</td>\n",
              "      <td>1973-08-13</td>\n",
              "      <td>12343.0</td>\n",
              "      <td>2015-12-30</td>\n",
              "      <td>Portaria nº 1098/2015 - DIREG/MEC</td>\n",
              "      <td>NaN</td>\n",
              "      <td>NaN</td>\n",
              "    </tr>\n",
              "  </tbody>\n",
              "</table>\n",
              "<p>5 rows × 23 columns</p>\n",
              "</div>"
<<<<<<< HEAD
            ],
            "text/plain": [
              "   id_curso                                   nome  id_coordenador  \\\n",
              "0   2000004                          ADMINISTRAÇÃO         24415.0   \n",
              "1  15315770                  ADMINISTRAÇÃO PÚBLICA         23122.0   \n",
              "2   2576632                              AGRONOMIA       5758350.0   \n",
              "3  94598200  ANÁLISE E DESENVOLVIMENTO DE SISTEMAS       5757908.0   \n",
              "4   2000005                ARQUITETURA E URBANISMO       5756800.0   \n",
              "\n",
              "                          coordenador situacao_curso nivel_ensino  \\\n",
              "0     ANDREA CRISTINA SANTOS DE JESUS          ATIVO    GRADUAÇÃO   \n",
              "1          MATILDE MEDEIROS DE ARAÚJO          ATIVO    GRADUAÇÃO   \n",
              "2        JOSE HAMILTON DA COSTA FILHO          ATIVO    GRADUAÇÃO   \n",
              "3             TANIRO CHACON RODRIGUES          ATIVO    GRADUAÇÃO   \n",
              "4  GLAUCE LILIAN ALVES DE ALBUQUERQUE          ATIVO    GRADUAÇÃO   \n",
              "\n",
              "  grau_academico modalidade_educacao           area_conhecimento tipo_oferta  \\\n",
              "0    BACHARELADO          Presencial  Ciências Sociais Aplicadas     Regular   \n",
              "1    BACHARELADO         A Distância  Ciências Sociais Aplicadas     Regular   \n",
              "2    BACHARELADO          Presencial           Ciências Agrárias     Regular   \n",
              "3    TECNOLÓGICO          Presencial                       Outra       Anual   \n",
              "4    BACHARELADO          Presencial                 Engenharias     Regular   \n",
              "\n",
              "      ...                    campus id_unidade_responsavel  \\\n",
              "0     ...      Campus Currais Novos                   1482   \n",
              "1     ...                       NaN                    443   \n",
              "2     ...                       NaN                    351   \n",
              "3     ...                       NaN                    351   \n",
              "4     ...            Campus Central                    445   \n",
              "\n",
              "                    unidade_responsavel website  data_funcionamento  \\\n",
              "0  CENTRO DE  ENSINO SUPERIOR DO SERIDÓ     NaN          1978-09-15   \n",
              "1  CENTRO DE CIÊNCIAS SOCIAIS APLICADAS     NaN                 NaN   \n",
              "2            ESCOLA AGRÍCOLA DE JUNDIAÍ     NaN                 NaN   \n",
              "3            ESCOLA AGRÍCOLA DE JUNDIAÍ     NaN                 NaN   \n",
              "4                  CENTRO DE TECNOLOGIA     NaN          1973-08-13   \n",
              "\n",
              "  codigo_inep         dou            portaria_reconhecimento  \\\n",
              "0     12355.0  2017-04-04         Portaria nº 272/2017 - MEC   \n",
              "1   1151028.0  2014-04-11   Portaria nº 226/2014 - DIREG/MEC   \n",
              "2   1127694.0  2018-03-02         Portaria Nº 133/2018 - MEC   \n",
              "3   1188193.0  2015-12-24  Portaria nº 1034/2015 - DIREG/MEC   \n",
              "4     12343.0  2015-12-30  Portaria nº 1098/2015 - DIREG/MEC   \n",
              "\n",
              "   convenio_academico Unnamed: 22  \n",
              "0                 NaN         NaN  \n",
              "1                 NaN         NaN  \n",
              "2                 NaN         NaN  \n",
              "3                 NaN         NaN  \n",
              "4                 NaN         NaN  \n",
              "\n",
              "[5 rows x 23 columns]"
=======
>>>>>>> e52d6251c6346a2073f341ba39a46174247df09b
            ]
          },
          "metadata": {
            "tags": []
          }
        }
      ]
    },
    {
      "metadata": {
        "id": "fGPtu6absiy7",
        "colab_type": "text"
      },
      "cell_type": "markdown",
      "source": [
        "Acima tem-se a relação dos cursos de graduação, onde suas colunas são:\n",
        "- **id_curso**: Identificador do curso.\n",
        "- **nome**: Nome do curso.\n",
        "- **id_coordenador**: Identificador do coordenador (id_servidor) do curso.\n",
        "- **coordenador**: Nome do coordenador do curso.\n",
        "- **situacao_curso**: Situação de controle curso.\n",
        "- **nivel_ensino**: Nível de ensino do curso.\n",
        "- **grau_academico**: Grau acadêmico do curso. \n",
        "- **modalidade_educacao**: Modalidade de educação em relação a forma de oferta.\n",
        "- **area_conhecimento**: Área de conhecimento do curso.\n",
        "- **tipo_oferta**: Tipo de oferta do curso.\n",
        "- **turno**: Turno do curso.\n",
        "- **tipo_ciclo_formacao**: Ciclo de formação do curso: Um ciclo ou Dois\n",
        "ciclos.\n",
        "- **municipio**: Município de atuação do curso.\n",
        "- **campus**: Campus onde é oferecido o curso.\n",
        "- **id_unidade_responsavel**: Identificador da unidade acadêmica responsável pelo curso.\n",
        "- **unidade_responsavel**: Unidade acadêmica responsável pelo curso.\n",
        "- **website**: Site contendo mais informação sobre o curso.\n",
        "- **data_funcionamento**: Data de inicio de funcionamento do curso.\n",
        "- **codigo_inep**: Código INEP do curso junto ao MEC.\n",
        "- **dou**: Data da portaria de liberação do curso.\n",
        "- **portaria_reconhecimento**: Portaria de reconhecimento junto ao MEC.\n",
        "- **convenio_academico**: Convênio acadêmico do curso.\n"
      ]
    },
    {
      "metadata": {
        "id": "heE6cdkksf2Z",
        "colab_type": "code",
        "colab": {
          "base_uri": "https://localhost:8080/",
<<<<<<< HEAD
          "height": 503
        },
        "outputId": "86816a7f-421b-4345-f0ed-80bce33a303b"
=======
          "height": 521
        },
        "outputId": "2fb5fe9e-148f-459a-d8c2-0eb5c4db65e4"
>>>>>>> e52d6251c6346a2073f341ba39a46174247df09b
      },
      "cell_type": "code",
      "source": [
        "cursos.info()"
      ],
<<<<<<< HEAD
      "execution_count": 19,
=======
      "execution_count": 171,
>>>>>>> e52d6251c6346a2073f341ba39a46174247df09b
      "outputs": [
        {
          "output_type": "stream",
          "text": [
            "<class 'pandas.core.frame.DataFrame'>\n",
            "RangeIndex: 116 entries, 0 to 115\n",
            "Data columns (total 23 columns):\n",
            "id_curso                   116 non-null int64\n",
            "nome                       116 non-null object\n",
            "id_coordenador             114 non-null float64\n",
            "coordenador                114 non-null object\n",
            "situacao_curso             116 non-null object\n",
            "nivel_ensino               116 non-null object\n",
            "grau_academico             116 non-null object\n",
            "modalidade_educacao        116 non-null object\n",
            "area_conhecimento          116 non-null object\n",
            "tipo_oferta                116 non-null object\n",
            "turno                      70 non-null object\n",
            "tipo_ciclo_formacao        116 non-null object\n",
            "municipio                  116 non-null object\n",
            "campus                     65 non-null object\n",
            "id_unidade_responsavel     116 non-null int64\n",
            "unidade_responsavel        116 non-null object\n",
            "website                    68 non-null object\n",
            "data_funcionamento         70 non-null object\n",
            "codigo_inep                115 non-null float64\n",
            "dou                        111 non-null object\n",
            "portaria_reconhecimento    111 non-null object\n",
            "convenio_academico         3 non-null object\n",
            "Unnamed: 22                0 non-null float64\n",
            "dtypes: float64(3), int64(2), object(18)\n",
            "memory usage: 20.9+ KB\n"
          ],
          "name": "stdout"
        }
      ]
    },
    {
      "metadata": {
        "id": "HP9nmxDDa1T5",
        "colab_type": "code",
        "colab": {
          "base_uri": "https://localhost:8080/",
          "height": 443
        },
<<<<<<< HEAD
        "outputId": "b5615fc1-e5af-4d39-ef82-fb05a4bff86f"
=======
        "outputId": "9278dc34-e305-421d-86e3-6a98f6dff0ca"
>>>>>>> e52d6251c6346a2073f341ba39a46174247df09b
      },
      "cell_type": "code",
      "source": [
        "# tabela dos componentes curriculares presenciais dos cursos da UFRN\n",
        "componentes = pd.read_csv('datasets/componentes-curriculares-presenciais.csv')\n",
        "\n",
        "print(\"\\nTabela dos componentes curriculares presenciais dos cursos:\")\n",
        "print(componentes.shape)\n",
        "display(componentes.head())"
      ],
<<<<<<< HEAD
      "execution_count": 8,
=======
      "execution_count": 173,
>>>>>>> e52d6251c6346a2073f341ba39a46174247df09b
      "outputs": [
        {
          "output_type": "stream",
          "text": [
            "\n",
            "Tabela dos componentes curriculares presenciais dos cursos:\n",
            "(34951, 30)\n"
          ],
          "name": "stdout"
        },
        {
          "output_type": "display_data",
          "data": {
<<<<<<< HEAD
=======
            "text/plain": [
              "   Unnamed: 0  id_componente tipo_componente  codigo nivel  \\\n",
              "0           0          18643      DISCIPLINA  MUT508     T   \n",
              "1           1          18644      DISCIPLINA  MUT516     T   \n",
              "2           2          18645      DISCIPLINA  MUT520     T   \n",
              "3           3          18646      DISCIPLINA  MUT165     T   \n",
              "4           4          18647      DISCIPLINA  MUT167     T   \n",
              "\n",
              "                               nome unidade_responsavel  ch_teorico  \\\n",
              "0  COMPOSIÇÃO EM MÚSICA POPULAR III    ESCOLA DE MÚSICA          60   \n",
              "1                      CO-REPETIÇÃO    ESCOLA DE MÚSICA          30   \n",
              "2            CONTRABAIXO ACÚSTICO I    ESCOLA DE MÚSICA          30   \n",
              "3              PIANO COMPLEMENTAR I    ESCOLA DE MÚSICA          15   \n",
              "4            PIANO COMPLEMENTAR III    ESCOLA DE MÚSICA          15   \n",
              "\n",
              "   ch_pratico  ch_estagio       ...         ementa  bibliografia  objetivos  \\\n",
              "0           0           0       ...            NaN           NaN        NaN   \n",
              "1           0           0       ...            NaN           NaN        NaN   \n",
              "2           0           0       ...            NaN           NaN        NaN   \n",
              "3           0           0       ...            NaN           NaN        NaN   \n",
              "4           0           0       ...            NaN           NaN        NaN   \n",
              "\n",
              "   conteudo competencias_habilidades  referencias ano_programa  \\\n",
              "0       NaN                      NaN          NaN          NaN   \n",
              "1       NaN                      NaN          NaN          NaN   \n",
              "2       NaN                      NaN          NaN          NaN   \n",
              "3       NaN                      NaN          NaN          NaN   \n",
              "4       NaN                      NaN          NaN          NaN   \n",
              "\n",
              "  periodo_programa  modalidade curso_componente  \n",
              "0              NaN  Presencial              NaN  \n",
              "1              NaN  Presencial              NaN  \n",
              "2              NaN  Presencial              NaN  \n",
              "3              NaN  Presencial              NaN  \n",
              "4              NaN  Presencial              NaN  \n",
              "\n",
              "[5 rows x 30 columns]"
            ],
>>>>>>> e52d6251c6346a2073f341ba39a46174247df09b
            "text/html": [
              "<div>\n",
              "<style scoped>\n",
              "    .dataframe tbody tr th:only-of-type {\n",
              "        vertical-align: middle;\n",
              "    }\n",
              "\n",
              "    .dataframe tbody tr th {\n",
              "        vertical-align: top;\n",
              "    }\n",
              "\n",
              "    .dataframe thead th {\n",
              "        text-align: right;\n",
              "    }\n",
              "</style>\n",
              "<table border=\"1\" class=\"dataframe\">\n",
              "  <thead>\n",
              "    <tr style=\"text-align: right;\">\n",
              "      <th></th>\n",
              "      <th>Unnamed: 0</th>\n",
              "      <th>id_componente</th>\n",
              "      <th>tipo_componente</th>\n",
              "      <th>codigo</th>\n",
              "      <th>nivel</th>\n",
              "      <th>nome</th>\n",
              "      <th>unidade_responsavel</th>\n",
              "      <th>ch_teorico</th>\n",
              "      <th>ch_pratico</th>\n",
              "      <th>ch_estagio</th>\n",
              "      <th>...</th>\n",
              "      <th>ementa</th>\n",
              "      <th>bibliografia</th>\n",
              "      <th>objetivos</th>\n",
              "      <th>conteudo</th>\n",
              "      <th>competencias_habilidades</th>\n",
              "      <th>referencias</th>\n",
              "      <th>ano_programa</th>\n",
              "      <th>periodo_programa</th>\n",
              "      <th>modalidade</th>\n",
              "      <th>curso_componente</th>\n",
              "    </tr>\n",
              "  </thead>\n",
              "  <tbody>\n",
              "    <tr>\n",
              "      <th>0</th>\n",
              "      <td>0</td>\n",
              "      <td>18643</td>\n",
              "      <td>DISCIPLINA</td>\n",
              "      <td>MUT508</td>\n",
              "      <td>T</td>\n",
              "      <td>COMPOSIÇÃO EM MÚSICA POPULAR III</td>\n",
              "      <td>ESCOLA DE MÚSICA</td>\n",
              "      <td>60</td>\n",
              "      <td>0</td>\n",
              "      <td>0</td>\n",
              "      <td>...</td>\n",
              "      <td>NaN</td>\n",
              "      <td>NaN</td>\n",
              "      <td>NaN</td>\n",
              "      <td>NaN</td>\n",
              "      <td>NaN</td>\n",
              "      <td>NaN</td>\n",
              "      <td>NaN</td>\n",
              "      <td>NaN</td>\n",
              "      <td>Presencial</td>\n",
              "      <td>NaN</td>\n",
              "    </tr>\n",
              "    <tr>\n",
              "      <th>1</th>\n",
              "      <td>1</td>\n",
              "      <td>18644</td>\n",
              "      <td>DISCIPLINA</td>\n",
              "      <td>MUT516</td>\n",
              "      <td>T</td>\n",
              "      <td>CO-REPETIÇÃO</td>\n",
              "      <td>ESCOLA DE MÚSICA</td>\n",
              "      <td>30</td>\n",
              "      <td>0</td>\n",
              "      <td>0</td>\n",
              "      <td>...</td>\n",
              "      <td>NaN</td>\n",
              "      <td>NaN</td>\n",
              "      <td>NaN</td>\n",
              "      <td>NaN</td>\n",
              "      <td>NaN</td>\n",
              "      <td>NaN</td>\n",
              "      <td>NaN</td>\n",
              "      <td>NaN</td>\n",
              "      <td>Presencial</td>\n",
              "      <td>NaN</td>\n",
              "    </tr>\n",
              "    <tr>\n",
              "      <th>2</th>\n",
              "      <td>2</td>\n",
              "      <td>18645</td>\n",
              "      <td>DISCIPLINA</td>\n",
              "      <td>MUT520</td>\n",
              "      <td>T</td>\n",
              "      <td>CONTRABAIXO ACÚSTICO I</td>\n",
              "      <td>ESCOLA DE MÚSICA</td>\n",
              "      <td>30</td>\n",
              "      <td>0</td>\n",
              "      <td>0</td>\n",
              "      <td>...</td>\n",
              "      <td>NaN</td>\n",
              "      <td>NaN</td>\n",
              "      <td>NaN</td>\n",
              "      <td>NaN</td>\n",
              "      <td>NaN</td>\n",
              "      <td>NaN</td>\n",
              "      <td>NaN</td>\n",
              "      <td>NaN</td>\n",
              "      <td>Presencial</td>\n",
              "      <td>NaN</td>\n",
              "    </tr>\n",
              "    <tr>\n",
              "      <th>3</th>\n",
              "      <td>3</td>\n",
              "      <td>18646</td>\n",
              "      <td>DISCIPLINA</td>\n",
              "      <td>MUT165</td>\n",
              "      <td>T</td>\n",
              "      <td>PIANO COMPLEMENTAR I</td>\n",
              "      <td>ESCOLA DE MÚSICA</td>\n",
              "      <td>15</td>\n",
              "      <td>0</td>\n",
              "      <td>0</td>\n",
              "      <td>...</td>\n",
              "      <td>NaN</td>\n",
              "      <td>NaN</td>\n",
              "      <td>NaN</td>\n",
              "      <td>NaN</td>\n",
              "      <td>NaN</td>\n",
              "      <td>NaN</td>\n",
              "      <td>NaN</td>\n",
              "      <td>NaN</td>\n",
              "      <td>Presencial</td>\n",
              "      <td>NaN</td>\n",
              "    </tr>\n",
              "    <tr>\n",
              "      <th>4</th>\n",
              "      <td>4</td>\n",
              "      <td>18647</td>\n",
              "      <td>DISCIPLINA</td>\n",
              "      <td>MUT167</td>\n",
              "      <td>T</td>\n",
              "      <td>PIANO COMPLEMENTAR III</td>\n",
              "      <td>ESCOLA DE MÚSICA</td>\n",
              "      <td>15</td>\n",
              "      <td>0</td>\n",
              "      <td>0</td>\n",
              "      <td>...</td>\n",
              "      <td>NaN</td>\n",
              "      <td>NaN</td>\n",
              "      <td>NaN</td>\n",
              "      <td>NaN</td>\n",
              "      <td>NaN</td>\n",
              "      <td>NaN</td>\n",
              "      <td>NaN</td>\n",
              "      <td>NaN</td>\n",
              "      <td>Presencial</td>\n",
              "      <td>NaN</td>\n",
              "    </tr>\n",
              "  </tbody>\n",
              "</table>\n",
              "<p>5 rows × 30 columns</p>\n",
              "</div>"
<<<<<<< HEAD
            ],
            "text/plain": [
              "   Unnamed: 0  id_componente tipo_componente  codigo nivel  \\\n",
              "0           0          18643      DISCIPLINA  MUT508     T   \n",
              "1           1          18644      DISCIPLINA  MUT516     T   \n",
              "2           2          18645      DISCIPLINA  MUT520     T   \n",
              "3           3          18646      DISCIPLINA  MUT165     T   \n",
              "4           4          18647      DISCIPLINA  MUT167     T   \n",
              "\n",
              "                               nome unidade_responsavel  ch_teorico  \\\n",
              "0  COMPOSIÇÃO EM MÚSICA POPULAR III    ESCOLA DE MÚSICA          60   \n",
              "1                      CO-REPETIÇÃO    ESCOLA DE MÚSICA          30   \n",
              "2            CONTRABAIXO ACÚSTICO I    ESCOLA DE MÚSICA          30   \n",
              "3              PIANO COMPLEMENTAR I    ESCOLA DE MÚSICA          15   \n",
              "4            PIANO COMPLEMENTAR III    ESCOLA DE MÚSICA          15   \n",
              "\n",
              "   ch_pratico  ch_estagio       ...         ementa  bibliografia  objetivos  \\\n",
              "0           0           0       ...            NaN           NaN        NaN   \n",
              "1           0           0       ...            NaN           NaN        NaN   \n",
              "2           0           0       ...            NaN           NaN        NaN   \n",
              "3           0           0       ...            NaN           NaN        NaN   \n",
              "4           0           0       ...            NaN           NaN        NaN   \n",
              "\n",
              "   conteudo competencias_habilidades  referencias ano_programa  \\\n",
              "0       NaN                      NaN          NaN          NaN   \n",
              "1       NaN                      NaN          NaN          NaN   \n",
              "2       NaN                      NaN          NaN          NaN   \n",
              "3       NaN                      NaN          NaN          NaN   \n",
              "4       NaN                      NaN          NaN          NaN   \n",
              "\n",
              "  periodo_programa  modalidade curso_componente  \n",
              "0              NaN  Presencial              NaN  \n",
              "1              NaN  Presencial              NaN  \n",
              "2              NaN  Presencial              NaN  \n",
              "3              NaN  Presencial              NaN  \n",
              "4              NaN  Presencial              NaN  \n",
              "\n",
              "[5 rows x 30 columns]"
=======
>>>>>>> e52d6251c6346a2073f341ba39a46174247df09b
            ]
          },
          "metadata": {
            "tags": []
          }
        }
      ]
    },
    {
      "metadata": {
        "id": "wPQIaAvNud51",
        "colab_type": "text"
      },
      "cell_type": "markdown",
      "source": [
        "Relação de componentes curriculares oferecidos pela UFRN na modalidade de ensino presencial. Sendo as colunas:\n",
        "- **id_componente**: Identificador do componente curricular.\n",
        "- **tipo_componente**: Informa o tipo de componente curricular.\n",
        "- **codigo**: Código do componente curricular. \n",
        "- **nivel**: Nível de ensino acadêmico.\n",
        "- **nome**: Nome do componente.\n",
        "- **unidade_responsavel**: Unidade acadêmica de responsabilidade sobre o componente.\n",
        "- **ch_teorico**: Valor da carga horária teórica do componente.\n",
        "- **ch_pratico**: Valor da carga horária prática do componente.\n",
        "- **ch_estagio**: Valor da carga horária de estágio do componente.\n",
        "- **ch_total**: Valor da carga horária total do componente.\n",
        "- **ch_dedicada_docente**: Valor da carga horária de dedicação exclusiva do docente as turmas do componente.\n",
        "- **ch_ead**: Valor da carga horária de ensino a distância do componente.\n",
        "- **cr_max_ead**: Porcentagem máxima permitida de créditos de aula à distância em relação ao total de créditos.\n",
        "- **permite_horario_flexivel**: Indica se o componente permite horário flexível.\n",
        "- **qtd_unidades**: Número de unidades de avaliações.\n",
        "- **procedimentos_avaliacao**: Procedimentos acadêmicos utilizados para avaliação das competências dos alunos sobre o componente curricular.\n",
        "- **equivalencia**: Componentes equivalentes ao componente curricular.\n",
        "- **pre_requisito**: Componentes pré-requisitos para o componente curricular.\n",
        "- **co_requisito**: Componentes co-requisitos do componente curricular.\n",
        "- **ementa**: Ementa referente ao componente curricular.\n",
        "- **bibliografia**: Referências bibliográficas. \n",
        "- **objetivos**: Objetivos alcançados no cumprimento do componente.\n",
        "- **conteudo**: Conteúdo descritivo do componente.\n",
        "- **competencias_habilidades**: Competências e habilidade adquiridas ao término do componente curricular.\n",
        "- **referencias**: Referências de estudo para o componente.\n",
        "- **ano_programa**: Ano letivo do último conteúdo programático registrado.\n",
        "- **periodo_programa**: Período letivo do último conteúdo programático registrado.\n",
        "- **modalidade**: Modalidade de educação aplicada no componente, conforme sua natureza, se presencial ou distância.\n",
        "- **curso_componente**: Lista de cursos que utilizam o componente em sua estrutura curricular."
      ]
    },
    {
      "metadata": {
        "id": "hZoH8rABuSvI",
        "colab_type": "code",
        "colab": {
          "base_uri": "https://localhost:8080/",
<<<<<<< HEAD
          "height": 625
        },
        "outputId": "d14c9c39-fb94-402b-c56e-3cc95ccca5b8"
=======
          "height": 647
        },
        "outputId": "373a027b-fb0a-4900-9f57-8324dfc41ff7"
>>>>>>> e52d6251c6346a2073f341ba39a46174247df09b
      },
      "cell_type": "code",
      "source": [
        "componentes.info()"
      ],
<<<<<<< HEAD
      "execution_count": 21,
=======
      "execution_count": 174,
>>>>>>> e52d6251c6346a2073f341ba39a46174247df09b
      "outputs": [
        {
          "output_type": "stream",
          "text": [
            "<class 'pandas.core.frame.DataFrame'>\n",
            "RangeIndex: 34951 entries, 0 to 34950\n",
            "Data columns (total 30 columns):\n",
            "Unnamed: 0                  34951 non-null int64\n",
            "id_componente               34951 non-null int64\n",
            "tipo_componente             34951 non-null object\n",
            "codigo                      34951 non-null object\n",
            "nivel                       34951 non-null object\n",
            "nome                        34950 non-null object\n",
            "unidade_responsavel         34951 non-null object\n",
            "ch_teorico                  34951 non-null int64\n",
            "ch_pratico                  34951 non-null int64\n",
            "ch_estagio                  34951 non-null int64\n",
            "ch_total                    34951 non-null int64\n",
            "ch_dedicada_docente         34951 non-null int64\n",
            "ch_ead                      34951 non-null int64\n",
            "cr_max_ead                  34951 non-null int64\n",
            "permite_horario_flexivel    34951 non-null object\n",
            "qtd_unidades                28194 non-null float64\n",
            "procedimentos_avaliacao     4448 non-null object\n",
            "equivalencia                10332 non-null object\n",
            "pre_requisito               9030 non-null object\n",
            "co_requisito                870 non-null object\n",
            "ementa                      29718 non-null object\n",
            "bibliografia                0 non-null float64\n",
            "objetivos                   9737 non-null object\n",
            "conteudo                    9735 non-null object\n",
            "competencias_habilidades    9579 non-null object\n",
            "referencias                 4445 non-null object\n",
            "ano_programa                9693 non-null float64\n",
            "periodo_programa            9693 non-null float64\n",
            "modalidade                  34951 non-null object\n",
            "curso_componente            8348 non-null object\n",
            "dtypes: float64(4), int64(9), object(17)\n",
            "memory usage: 8.0+ MB\n"
          ],
          "name": "stdout"
        }
      ]
    },
    {
      "metadata": {
        "id": "JIu0SsA2bZrp",
        "colab_type": "text"
      },
      "cell_type": "markdown",
      "source": [
        "## 2.4 Filtrando os valores que importam"
      ]
    },
    {
      "metadata": {
        "id": "Bxx7CAvHbfiX",
        "colab_type": "text"
      },
      "cell_type": "markdown",
      "source": [
        "Atualmente, temos todos os dados dos anos de 2015 a 2017 dos alunos da UFRN, agora será filtrado as notas dos alunos nas turmas de Cálculo I do curso de Ciências e Tecnologia.\n",
        "\n",
        "Para obter esses dados, primeiro será preciso o ID do curso de Ciências e Tecnologia que será obtido na tabela \"cursos de graduação\"."
      ]
    },
    {
      "metadata": {
        "id": "j7NpJV1Lcfbk",
        "colab_type": "code",
        "colab": {
          "base_uri": "https://localhost:8080/",
          "height": 249
        },
<<<<<<< HEAD
        "outputId": "d55b53df-bc5b-4451-fd13-346744afe347"
=======
        "outputId": "aca81a27-172e-4058-9a2b-40c8c96ec678"
>>>>>>> e52d6251c6346a2073f341ba39a46174247df09b
      },
      "cell_type": "code",
      "source": [
        "id_cet = cursos[cursos['nome']=='CIÊNCIAS E TECNOLOGIA'].id_curso\n",
        "print(\"ID de CeT:\"+str(id_cet.values)+\"\\n\")\n",
        "\n",
        "df_matriculasCeT = df_matriculas[df_matriculas['id_curso']==float(id_cet)].reset_index()\n",
        "\n",
        "colunas = ['descricao',\t'discente',\t'faltas_unidade',\t'id_turma',\n",
        "           'media_final',\t'nota',\t'numero_total_faltas',\t'reposicao',\t'unidade']\n",
        "df_matriculasCeT = df_matriculasCeT[colunas]\n",
        "\n",
        "df_matriculasCeT.head(3)"
      ],
<<<<<<< HEAD
      "execution_count": 9,
=======
      "execution_count": 128,
>>>>>>> e52d6251c6346a2073f341ba39a46174247df09b
      "outputs": [
        {
          "output_type": "stream",
          "text": [
            "ID de CeT:[10320810]\n",
            "\n"
          ],
          "name": "stdout"
        },
        {
          "output_type": "execute_result",
          "data": {
            "text/html": [
              "<div>\n",
              "<style scoped>\n",
              "    .dataframe tbody tr th:only-of-type {\n",
              "        vertical-align: middle;\n",
              "    }\n",
              "\n",
              "    .dataframe tbody tr th {\n",
              "        vertical-align: top;\n",
              "    }\n",
              "\n",
              "    .dataframe thead th {\n",
              "        text-align: right;\n",
              "    }\n",
              "</style>\n",
              "<table border=\"1\" class=\"dataframe\">\n",
              "  <thead>\n",
              "    <tr style=\"text-align: right;\">\n",
              "      <th></th>\n",
              "      <th>descricao</th>\n",
              "      <th>discente</th>\n",
              "      <th>faltas_unidade</th>\n",
              "      <th>id_turma</th>\n",
              "      <th>media_final</th>\n",
              "      <th>nota</th>\n",
              "      <th>numero_total_faltas</th>\n",
              "      <th>reposicao</th>\n",
              "      <th>unidade</th>\n",
              "    </tr>\n",
              "  </thead>\n",
              "  <tbody>\n",
              "    <tr>\n",
              "      <th>0</th>\n",
              "      <td>APROVADO POR NOTA</td>\n",
              "      <td>dbe7197a41191f5a94486623cb99d2bf</td>\n",
              "      <td>0.0</td>\n",
              "      <td>1242771</td>\n",
              "      <td>6.7</td>\n",
              "      <td>7.5</td>\n",
              "      <td>0.0</td>\n",
              "      <td>f</td>\n",
              "      <td>1.0</td>\n",
              "    </tr>\n",
              "    <tr>\n",
              "      <th>1</th>\n",
              "      <td>APROVADO POR NOTA</td>\n",
              "      <td>dbe7197a41191f5a94486623cb99d2bf</td>\n",
              "      <td>0.0</td>\n",
              "      <td>1242771</td>\n",
              "      <td>6.7</td>\n",
              "      <td>5.0</td>\n",
              "      <td>0.0</td>\n",
              "      <td>f</td>\n",
              "      <td>2.0</td>\n",
              "    </tr>\n",
              "    <tr>\n",
              "      <th>2</th>\n",
              "      <td>APROVADO POR NOTA</td>\n",
              "      <td>dbe7197a41191f5a94486623cb99d2bf</td>\n",
              "      <td>0.0</td>\n",
              "      <td>1242771</td>\n",
              "      <td>6.7</td>\n",
              "      <td>7.5</td>\n",
              "      <td>0.0</td>\n",
              "      <td>f</td>\n",
              "      <td>3.0</td>\n",
              "    </tr>\n",
              "  </tbody>\n",
              "</table>\n",
              "</div>"
            ],
            "text/plain": [
              "           descricao                          discente  faltas_unidade  \\\n",
              "0  APROVADO POR NOTA  dbe7197a41191f5a94486623cb99d2bf             0.0   \n",
              "1  APROVADO POR NOTA  dbe7197a41191f5a94486623cb99d2bf             0.0   \n",
              "2  APROVADO POR NOTA  dbe7197a41191f5a94486623cb99d2bf             0.0   \n",
              "\n",
              "   id_turma  media_final  nota  numero_total_faltas reposicao  unidade  \n",
              "0   1242771          6.7   7.5                  0.0         f      1.0  \n",
              "1   1242771          6.7   5.0                  0.0         f      2.0  \n",
              "2   1242771          6.7   7.5                  0.0         f      3.0  "
            ]
          },
          "metadata": {
            "tags": []
          },
<<<<<<< HEAD
          "execution_count": 9
=======
          "execution_count": 128
>>>>>>> e52d6251c6346a2073f341ba39a46174247df09b
        }
      ]
    },
    {
      "metadata": {
        "id": "PZJt_J_1jJH_",
        "colab_type": "text"
      },
      "cell_type": "markdown",
      "source": [
        "Através do *id_turma* de *df_matriculasCeT* será selecionada apenas os dados de cálculo I, para isso, faremos a relação de *id componente* da disciplina com *id turma* através das tabelas dos componentes curriculares e das turmas."
      ]
    },
    {
      "metadata": {
        "id": "QZAPYpSFjRkx",
        "colab_type": "code",
        "colab": {
          "base_uri": "https://localhost:8080/",
          "height": 35
        },
<<<<<<< HEAD
        "outputId": "7ac84aaf-a0a1-4019-ce46-4fff16d7be77"
=======
        "outputId": "09947f83-6926-46f2-dd7e-7d3e21ce7fe0"
>>>>>>> e52d6251c6346a2073f341ba39a46174247df09b
      },
      "cell_type": "code",
      "source": [
        "# criando um tipo series que é composto pelos ids da disciplina cálculo I\n",
        "componente_calc = componentes[(componentes['nome']=='CÁLCULO I') & \n",
        "                            (componentes['unidade_responsavel']=='ESCOLA DE CIÊNCIAS E TECNOLOGIA')]\n",
        "\n",
        "series_idCalc = componente_calc['id_componente']\n",
        "print(series_idCalc.values)"
      ],
<<<<<<< HEAD
      "execution_count": 10,
=======
      "execution_count": 149,
>>>>>>> e52d6251c6346a2073f341ba39a46174247df09b
      "outputs": [
        {
          "output_type": "stream",
          "text": [
            "[  48582   57587 2050801]\n"
          ],
          "name": "stdout"
        }
      ]
    },
    {
      "metadata": {
        "id": "_CT5e343mS5Z",
        "colab_type": "code",
        "colab": {
          "base_uri": "https://localhost:8080/",
          "height": 160
        },
<<<<<<< HEAD
        "outputId": "1ba32769-dabb-416c-93ce-4d4e48d7d786"
      },
      "cell_type": "code",
      "source": [
        "# criando um DataFrame que possui todos os ids turmas de cálculo I\n",
        "df_TurmasComp = df_turmas[['id_turma', 'id_componente_curricular','ano','periodo']]\n",
=======
        "outputId": "3459cdc7-06b6-449e-83f7-5abb4218884d"
      },
      "cell_type": "code",
      "source": [
        "# criando um DataFrame que possui todas os ids turmas de cálculo I\n",
        "df_TurmasComp = df_turmas[['id_turma', 'id_componente_curricular']]\n",
>>>>>>> e52d6251c6346a2073f341ba39a46174247df09b
        "turmas_calc = df_TurmasComp[df_TurmasComp['id_componente_curricular'].isin(series_idCalc)].reset_index()\n",
        "print(turmas_calc.shape)\n",
        "turmas_calc.head(3)"
      ],
<<<<<<< HEAD
      "execution_count": 11,
=======
      "execution_count": 157,
>>>>>>> e52d6251c6346a2073f341ba39a46174247df09b
      "outputs": [
        {
          "output_type": "stream",
          "text": [
<<<<<<< HEAD
            "(52, 5)\n"
=======
            "(52, 3)\n"
>>>>>>> e52d6251c6346a2073f341ba39a46174247df09b
          ],
          "name": "stdout"
        },
        {
          "output_type": "execute_result",
          "data": {
            "text/html": [
              "<div>\n",
              "<style scoped>\n",
              "    .dataframe tbody tr th:only-of-type {\n",
              "        vertical-align: middle;\n",
              "    }\n",
              "\n",
              "    .dataframe tbody tr th {\n",
              "        vertical-align: top;\n",
              "    }\n",
              "\n",
              "    .dataframe thead th {\n",
              "        text-align: right;\n",
              "    }\n",
              "</style>\n",
              "<table border=\"1\" class=\"dataframe\">\n",
              "  <thead>\n",
              "    <tr style=\"text-align: right;\">\n",
              "      <th></th>\n",
              "      <th>index</th>\n",
              "      <th>id_turma</th>\n",
              "      <th>id_componente_curricular</th>\n",
<<<<<<< HEAD
              "      <th>ano</th>\n",
              "      <th>periodo</th>\n",
=======
>>>>>>> e52d6251c6346a2073f341ba39a46174247df09b
              "    </tr>\n",
              "  </thead>\n",
              "  <tbody>\n",
              "    <tr>\n",
              "      <th>0</th>\n",
              "      <td>5819</td>\n",
              "      <td>1242580</td>\n",
              "      <td>57587</td>\n",
<<<<<<< HEAD
              "      <td>2015</td>\n",
              "      <td>1</td>\n",
=======
>>>>>>> e52d6251c6346a2073f341ba39a46174247df09b
              "    </tr>\n",
              "    <tr>\n",
              "      <th>1</th>\n",
              "      <td>5824</td>\n",
              "      <td>1242585</td>\n",
              "      <td>57587</td>\n",
<<<<<<< HEAD
              "      <td>2015</td>\n",
              "      <td>1</td>\n",
=======
>>>>>>> e52d6251c6346a2073f341ba39a46174247df09b
              "    </tr>\n",
              "    <tr>\n",
              "      <th>2</th>\n",
              "      <td>5828</td>\n",
              "      <td>1242589</td>\n",
              "      <td>57587</td>\n",
<<<<<<< HEAD
              "      <td>2015</td>\n",
              "      <td>1</td>\n",
=======
>>>>>>> e52d6251c6346a2073f341ba39a46174247df09b
              "    </tr>\n",
              "  </tbody>\n",
              "</table>\n",
              "</div>"
            ],
            "text/plain": [
<<<<<<< HEAD
              "   index  id_turma  id_componente_curricular   ano  periodo\n",
              "0   5819   1242580                     57587  2015        1\n",
              "1   5824   1242585                     57587  2015        1\n",
              "2   5828   1242589                     57587  2015        1"
=======
              "   index  id_turma  id_componente_curricular\n",
              "0   5819   1242580                     57587\n",
              "1   5824   1242585                     57587\n",
              "2   5828   1242589                     57587"
>>>>>>> e52d6251c6346a2073f341ba39a46174247df09b
            ]
          },
          "metadata": {
            "tags": []
          },
<<<<<<< HEAD
          "execution_count": 11
=======
          "execution_count": 157
>>>>>>> e52d6251c6346a2073f341ba39a46174247df09b
        }
      ]
    },
    {
      "metadata": {
        "id": "mPVxzCzIpx_-",
        "colab_type": "code",
        "colab": {
          "base_uri": "https://localhost:8080/",
          "height": 35
        },
<<<<<<< HEAD
        "outputId": "2d7deae0-536b-4165-8832-8ccebf67a973"
=======
        "outputId": "d64c67a9-534f-4ed3-fc7f-e2ca774170e4"
>>>>>>> e52d6251c6346a2073f341ba39a46174247df09b
      },
      "cell_type": "code",
      "source": [
        "# filtrando apenas as notas de cálculo I\n",
<<<<<<< HEAD
        "df_calc = df_matriculasCeT[df_matriculasCeT['id_turma'].isin(turmas_calc['id_turma'])]\n",
        "df_calc.shape"
      ],
      "execution_count": 12,
=======
        "df_final = df_matriculasCeT[df_matriculasCeT['id_turma'].isin(turmas_calc['id_turma'])]\n",
        "df_final.shape"
      ],
      "execution_count": 176,
>>>>>>> e52d6251c6346a2073f341ba39a46174247df09b
      "outputs": [
        {
          "output_type": "execute_result",
          "data": {
            "text/plain": [
              "(19174, 9)"
            ]
          },
          "metadata": {
            "tags": []
          },
<<<<<<< HEAD
          "execution_count": 12
        }
      ]
    },
    {
      "metadata": {
        "id": "5rTfeb0nEz0t",
        "colab_type": "code",
        "colab": {
          "base_uri": "https://localhost:8080/",
          "height": 269
        },
        "outputId": "d0718522-0688-42d9-fdf8-e2f362ba9827"
      },
      "cell_type": "code",
      "source": [
        "df_calc.info()"
      ],
      "execution_count": 13,
      "outputs": [
        {
          "output_type": "stream",
          "text": [
            "<class 'pandas.core.frame.DataFrame'>\n",
            "Int64Index: 19174 entries, 2107 to 415768\n",
            "Data columns (total 9 columns):\n",
            "descricao              19174 non-null object\n",
            "discente               19174 non-null object\n",
            "faltas_unidade         15330 non-null float64\n",
            "id_turma               19174 non-null int64\n",
            "media_final            14793 non-null float64\n",
            "nota                   14842 non-null float64\n",
            "numero_total_faltas    15051 non-null float64\n",
            "reposicao              15330 non-null object\n",
            "unidade                15330 non-null float64\n",
            "dtypes: float64(5), int64(1), object(3)\n",
            "memory usage: 1.5+ MB\n"
          ],
          "name": "stdout"
        }
      ]
    },
    {
      "metadata": {
        "id": "4HbGvWVTENTu",
        "colab_type": "code",
        "colab": {}
      },
      "cell_type": "code",
      "source": [
        "# merge para pegar o período que o discente cursou a disciplina\n",
        "# e pegar apenas a primeira vez que foi cursada\n",
        "\n",
        "col_anoperiodo = (turmas_calc['ano'].map(str)+turmas_calc['periodo'].map(str))\n",
        "turmas_calc['anoperiodo'] = col_anoperiodo\n",
        "turmas_for_merge = turmas_calc[['id_turma','anoperiodo']]\n",
        "turmas_for_merge.loc['anoperiodo'] = turmas_for_merge.anoperiodo.astype(int)\n",
        "\n",
        "df_final = pd.DataFrame()\n",
        "df_final = pd.merge(df_calc,turmas_for_merge, how='inner',on='id_turma')\n",
        "df_final = df_final.sort_values(by='anoperiodo')\n",
        "# o drop_duplicates pega o primeiro que encontra e elimina o resto\n",
        "df_finalSemDup = df_final.drop_duplicates(['discente','unidade'])"
      ],
      "execution_count": 0,
      "outputs": []
    },
    {
      "metadata": {
        "id": "QXdquQijZPfM",
        "colab_type": "code",
        "colab": {
          "base_uri": "https://localhost:8080/",
          "height": 35
        },
        "outputId": "0c0597a6-9740-4831-b562-80fd2da27b0a"
      },
      "cell_type": "code",
      "source": [
        "df_finalSemDup.shape"
      ],
      "execution_count": 16,
      "outputs": [
        {
          "output_type": "execute_result",
          "data": {
            "text/plain": [
              "(12388, 10)"
            ]
          },
          "metadata": {
            "tags": []
          },
          "execution_count": 16
        }
      ]
    },
    {
      "metadata": {
        "id": "xpEHzE9cE3EE",
        "colab_type": "code",
        "colab": {
          "base_uri": "https://localhost:8080/",
          "height": 287
        },
        "outputId": "14ac7dd6-114b-4fe8-83fb-6cac8a27036f"
      },
      "cell_type": "code",
      "source": [
        "df_finalSemDup.info()"
      ],
      "execution_count": 18,
      "outputs": [
        {
          "output_type": "stream",
          "text": [
            "<class 'pandas.core.frame.DataFrame'>\n",
            "Int64Index: 12388 entries, 0 to 20263\n",
            "Data columns (total 10 columns):\n",
            "descricao              12388 non-null object\n",
            "discente               12388 non-null object\n",
            "faltas_unidade         10134 non-null float64\n",
            "id_turma               12388 non-null object\n",
            "media_final            9765 non-null float64\n",
            "nota                   9795 non-null float64\n",
            "numero_total_faltas    9906 non-null float64\n",
            "reposicao              10134 non-null object\n",
            "unidade                10134 non-null float64\n",
            "anoperiodo             12388 non-null object\n",
            "dtypes: float64(5), object(5)\n",
            "memory usage: 1.0+ MB\n"
          ],
          "name": "stdout"
=======
          "execution_count": 176
>>>>>>> e52d6251c6346a2073f341ba39a46174247df09b
        }
      ]
    },
    {
      "metadata": {
        "id": "Gp5la6gZxbWT",
        "colab_type": "code",
        "colab": {
          "base_uri": "https://localhost:8080/",
          "height": 297
        },
<<<<<<< HEAD
        "outputId": "d63246b8-3a55-4f49-a007-e46feccb8101"
=======
        "outputId": "f085b80f-90af-4531-e911-ef7cf6a5f379"
>>>>>>> e52d6251c6346a2073f341ba39a46174247df09b
      },
      "cell_type": "code",
      "source": [
        "# resumo dos atributos numéricos\n",
<<<<<<< HEAD
        "for_describe = df_finalSemDup[['faltas_unidade','media_final','nota','numero_total_faltas']]\n",
        "for_describe.describe()"
      ],
      "execution_count": 19,
=======
        "for_describe = df_final[['faltas_unidade','media_final','nota','numero_total_faltas']]\n",
        "for_describe.describe()"
      ],
      "execution_count": 185,
>>>>>>> e52d6251c6346a2073f341ba39a46174247df09b
      "outputs": [
        {
          "output_type": "execute_result",
          "data": {
            "text/html": [
              "<div>\n",
              "<style scoped>\n",
              "    .dataframe tbody tr th:only-of-type {\n",
              "        vertical-align: middle;\n",
              "    }\n",
              "\n",
              "    .dataframe tbody tr th {\n",
              "        vertical-align: top;\n",
              "    }\n",
              "\n",
              "    .dataframe thead th {\n",
              "        text-align: right;\n",
              "    }\n",
              "</style>\n",
              "<table border=\"1\" class=\"dataframe\">\n",
              "  <thead>\n",
              "    <tr style=\"text-align: right;\">\n",
              "      <th></th>\n",
              "      <th>faltas_unidade</th>\n",
              "      <th>media_final</th>\n",
              "      <th>nota</th>\n",
              "      <th>numero_total_faltas</th>\n",
              "    </tr>\n",
              "  </thead>\n",
              "  <tbody>\n",
              "    <tr>\n",
              "      <th>count</th>\n",
<<<<<<< HEAD
              "      <td>10134.0</td>\n",
              "      <td>9765.000000</td>\n",
              "      <td>9795.000000</td>\n",
              "      <td>9906.000000</td>\n",
=======
              "      <td>15330.0</td>\n",
              "      <td>14793.000000</td>\n",
              "      <td>14842.000000</td>\n",
              "      <td>15051.000000</td>\n",
>>>>>>> e52d6251c6346a2073f341ba39a46174247df09b
              "    </tr>\n",
              "    <tr>\n",
              "      <th>mean</th>\n",
              "      <td>0.0</td>\n",
<<<<<<< HEAD
              "      <td>2.917081</td>\n",
              "      <td>2.814609</td>\n",
              "      <td>11.126893</td>\n",
=======
              "      <td>2.803508</td>\n",
              "      <td>2.681781</td>\n",
              "      <td>12.882998</td>\n",
>>>>>>> e52d6251c6346a2073f341ba39a46174247df09b
              "    </tr>\n",
              "    <tr>\n",
              "      <th>std</th>\n",
              "      <td>0.0</td>\n",
<<<<<<< HEAD
              "      <td>3.126537</td>\n",
              "      <td>3.303004</td>\n",
              "      <td>19.183283</td>\n",
=======
              "      <td>3.004307</td>\n",
              "      <td>3.173561</td>\n",
              "      <td>20.053478</td>\n",
>>>>>>> e52d6251c6346a2073f341ba39a46174247df09b
              "    </tr>\n",
              "    <tr>\n",
              "      <th>min</th>\n",
              "      <td>0.0</td>\n",
              "      <td>0.000000</td>\n",
              "      <td>0.000000</td>\n",
              "      <td>0.000000</td>\n",
              "    </tr>\n",
              "    <tr>\n",
              "      <th>25%</th>\n",
              "      <td>0.0</td>\n",
              "      <td>0.000000</td>\n",
              "      <td>0.000000</td>\n",
              "      <td>0.000000</td>\n",
              "    </tr>\n",
              "    <tr>\n",
              "      <th>50%</th>\n",
              "      <td>0.0</td>\n",
<<<<<<< HEAD
              "      <td>1.500000</td>\n",
              "      <td>1.200000</td>\n",
              "      <td>0.000000</td>\n",
=======
              "      <td>1.400000</td>\n",
              "      <td>1.100000</td>\n",
              "      <td>2.000000</td>\n",
>>>>>>> e52d6251c6346a2073f341ba39a46174247df09b
              "    </tr>\n",
              "    <tr>\n",
              "      <th>75%</th>\n",
              "      <td>0.0</td>\n",
<<<<<<< HEAD
              "      <td>5.500000</td>\n",
              "      <td>5.200000</td>\n",
              "      <td>14.000000</td>\n",
=======
              "      <td>5.300000</td>\n",
              "      <td>5.000000</td>\n",
              "      <td>18.000000</td>\n",
>>>>>>> e52d6251c6346a2073f341ba39a46174247df09b
              "    </tr>\n",
              "    <tr>\n",
              "      <th>max</th>\n",
              "      <td>0.0</td>\n",
              "      <td>10.000000</td>\n",
              "      <td>10.000000</td>\n",
              "      <td>80.000000</td>\n",
              "    </tr>\n",
              "  </tbody>\n",
              "</table>\n",
              "</div>"
            ],
            "text/plain": [
<<<<<<< HEAD
              "       faltas_unidade  media_final         nota  numero_total_faltas\n",
              "count         10134.0  9765.000000  9795.000000          9906.000000\n",
              "mean              0.0     2.917081     2.814609            11.126893\n",
              "std               0.0     3.126537     3.303004            19.183283\n",
              "min               0.0     0.000000     0.000000             0.000000\n",
              "25%               0.0     0.000000     0.000000             0.000000\n",
              "50%               0.0     1.500000     1.200000             0.000000\n",
              "75%               0.0     5.500000     5.200000            14.000000\n",
              "max               0.0    10.000000    10.000000            80.000000"
=======
              "       faltas_unidade   media_final          nota  numero_total_faltas\n",
              "count         15330.0  14793.000000  14842.000000         15051.000000\n",
              "mean              0.0      2.803508      2.681781            12.882998\n",
              "std               0.0      3.004307      3.173561            20.053478\n",
              "min               0.0      0.000000      0.000000             0.000000\n",
              "25%               0.0      0.000000      0.000000             0.000000\n",
              "50%               0.0      1.400000      1.100000             2.000000\n",
              "75%               0.0      5.300000      5.000000            18.000000\n",
              "max               0.0     10.000000     10.000000            80.000000"
>>>>>>> e52d6251c6346a2073f341ba39a46174247df09b
            ]
          },
          "metadata": {
            "tags": []
          },
<<<<<<< HEAD
          "execution_count": 19
=======
          "execution_count": 185
>>>>>>> e52d6251c6346a2073f341ba39a46174247df09b
        }
      ]
    },
    {
      "metadata": {
        "id": "xbvgOuL0r8y5",
        "colab_type": "text"
      },
      "cell_type": "markdown",
      "source": [
        "## 2.5 Histograma"
      ]
    },
    {
      "metadata": {
        "id": "HY1fcPfR03EJ",
        "colab_type": "code",
        "colab": {
          "base_uri": "https://localhost:8080/",
<<<<<<< HEAD
          "height": 385
        },
        "outputId": "e2d2e6de-c397-451b-8d9d-9ef467416ae9"
=======
          "height": 365
        },
        "outputId": "075232f4-adce-4ec9-fc9e-0505a859d5b9"
>>>>>>> e52d6251c6346a2073f341ba39a46174247df09b
      },
      "cell_type": "code",
      "source": [
        "import matplotlib.pyplot as plt\n",
        "\n",
<<<<<<< HEAD
        "df_finalSemDup[['media_final','nota']].hist(bins=50, figsize=(12,5))\n",
        "plt.tight_layout()\n",
        "plt.show()"
      ],
      "execution_count": 20,
=======
        "df_final[['media_final','nota']].hist(bins=50, figsize=(12,5))\n",
        "plt.tight_layout()\n",
        "plt.show()"
      ],
      "execution_count": 194,
>>>>>>> e52d6251c6346a2073f341ba39a46174247df09b
      "outputs": [
        {
          "output_type": "display_data",
          "data": {
<<<<<<< HEAD
            "image/png": "iVBORw0KGgoAAAANSUhEUgAAA1QAAAFcCAYAAADPrf8ZAAAABHNCSVQICAgIfAhkiAAAAAlwSFlz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\nAAAAADDo/wH0auLETV9dMgAAAABJRU5ErkJggg==\n",
            "text/plain": [
              "<matplotlib.figure.Figure at 0x7fc3e6ce4400>"
=======
            "image/png": "iVBORw0KGgoAAAANSUhEUgAAA1QAAAFcCAYAAADPrf8ZAAAABHNCSVQICAgIfAhkiAAAAAlwSFlz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\noP8HqQtHo2IvMF8AAAAASUVORK5CYII=\n",
            "text/plain": [
              "<matplotlib.figure.Figure at 0x7f287b8e5910>"
>>>>>>> e52d6251c6346a2073f341ba39a46174247df09b
            ]
          },
          "metadata": {
            "tags": []
          }
        }
      ]
    },
    {
      "metadata": {
        "id": "GorP1xQx1j00",
        "colab_type": "code",
        "colab": {
          "base_uri": "https://localhost:8080/",
<<<<<<< HEAD
          "height": 385
        },
        "outputId": "ad59a1a5-d2b6-4705-c044-1d1fcf3c5463"
=======
          "height": 365
        },
        "outputId": "2aab8e14-059f-46a0-89e7-2b7817e39242"
>>>>>>> e52d6251c6346a2073f341ba39a46174247df09b
      },
      "cell_type": "code",
      "source": [
        "# retirando as notas zero pra ver melhor o comportamento das outras notas\n",
<<<<<<< HEAD
        "sem_zero = df_finalSemDup[(df_finalSemDup['media_final']!=0) &\n",
        "                          (df_finalSemDup['nota']!=0)]\n",
=======
        "sem_zero = df_final[(df_final['media_final']!=0) & (df_final['nota']!=0)]\n",
>>>>>>> e52d6251c6346a2073f341ba39a46174247df09b
        "sem_zero[['media_final','nota']].hist(bins=50, figsize=(12,5))\n",
        "plt.tight_layout()\n",
        "plt.show()"
      ],
<<<<<<< HEAD
      "execution_count": 21,
=======
      "execution_count": 196,
>>>>>>> e52d6251c6346a2073f341ba39a46174247df09b
      "outputs": [
        {
          "output_type": "display_data",
          "data": {
<<<<<<< HEAD
            "image/png": "iVBORw0KGgoAAAANSUhEUgAAA1QAAAFcCAYAAADPrf8ZAAAABHNCSVQICAgIfAhkiAAAAAlwSFlz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\nAAAABhGoAAAAAMAgAhUAAAAAGPT/ANMDCEquZHWFAAAAAElFTkSuQmCC\n",
            "text/plain": [
              "<matplotlib.figure.Figure at 0x7fc3e6e52668>"
=======
            "image/png": "iVBORw0KGgoAAAANSUhEUgAAA1QAAAFcCAYAAADPrf8ZAAAABHNCSVQICAgIfAhkiAAAAAlwSFlz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\nAIYIVAAAAABgiEAFAAAAAIb+H7szAOuQ5F5jAAAAAElFTkSuQmCC\n",
            "text/plain": [
              "<matplotlib.figure.Figure at 0x7f287b518250>"
>>>>>>> e52d6251c6346a2073f341ba39a46174247df09b
            ]
          },
          "metadata": {
            "tags": []
          }
        }
      ]
    },
    {
      "metadata": {
        "id": "OCZND56q2Wc7",
        "colab_type": "code",
<<<<<<< HEAD
        "colab": {}
      },
      "cell_type": "code",
      "source": [
        "# criando um DataFrame onde as colunas são as notas das unidade\n",
        "# função que retorna as colunas sendo as notas das unidades\n",
        "# específica para o caso de 3 unidades\n",
        "def cols_unidades(dataFrame):\n",
        "  notas_1 = dataFrame[dataFrame['unidade']==1.0]\n",
        "  notas_1 = notas_1[['discente','nota']]\n",
        "  notas_1 = notas_1.rename(index=str, columns={\"nota\": \"nota_1\"})\n",
        "\n",
        "  notas_2 = dataFrame[dataFrame['unidade']==2.0]\n",
        "  notas_2 = notas_2[['discente','nota']]\n",
        "  notas_2 = notas_2.rename(index=str, columns={\"nota\": \"nota_2\"})\n",
        "\n",
        "  notas_3 = dataFrame[dataFrame['unidade']==3.0]\n",
        "  notas_3 = notas_3[['discente','nota']]\n",
        "  notas_3 = notas_3.rename(index=str, columns={\"nota\": \"nota_3\"})\n",
        "\n",
        "  notas_12 = pd.merge(notas_1,notas_2,on='discente')\n",
        "  df_porUnidade = pd.merge(notas_12,notas_3,on='discente')\n",
        "  \n",
        "  return df_porUnidade"
      ],
      "execution_count": 0,
      "outputs": []
    },
    {
      "metadata": {
        "id": "71tuyfzkaW30",
        "colab_type": "code",
=======
>>>>>>> e52d6251c6346a2073f341ba39a46174247df09b
        "colab": {
          "base_uri": "https://localhost:8080/",
          "height": 179
        },
<<<<<<< HEAD
        "outputId": "1b1d993b-8ec6-40be-c237-dd8e522e92ab"
      },
      "cell_type": "code",
      "source": [
        "df_porUnidade = cols_unidades(df_finalSemDup)\n",
        "df_porUnidade.info()"
      ],
      "execution_count": 23,
=======
        "outputId": "4bff9412-6775-4dfe-dc41-0c2509a29295"
      },
      "cell_type": "code",
      "source": [
        "notas_1 = df_final[df_final['unidade']==1.0]\n",
        "notas_1 = notas_1[['discente','nota']]\n",
        "notas_1 = notas_1.rename(index=str, columns={\"nota\": \"nota_1\"})\n",
        "\n",
        "notas_2 = df_final[df_final['unidade']==2.0]\n",
        "notas_2 = notas_2[['discente','nota']]\n",
        "notas_2 = notas_2.rename(index=str, columns={\"nota\": \"nota_2\"})\n",
        "\n",
        "notas_3 = df_final[df_final['unidade']==3.0]\n",
        "notas_3 = notas_3[['discente','nota']]\n",
        "notas_3 = notas_3.rename(index=str, columns={\"nota\": \"nota_3\"})\n",
        "\n",
        "notas_12 = pd.merge(notas_1,notas_2,on='discente')\n",
        "df_porUnidade = pd.merge(notas_12,notas_3,on='discente')\n",
        "\n",
        "df_porUnidade.info()"
      ],
      "execution_count": 214,
>>>>>>> e52d6251c6346a2073f341ba39a46174247df09b
      "outputs": [
        {
          "output_type": "stream",
          "text": [
            "<class 'pandas.core.frame.DataFrame'>\n",
<<<<<<< HEAD
            "Int64Index: 3378 entries, 0 to 3377\n",
            "Data columns (total 4 columns):\n",
            "discente    3378 non-null object\n",
            "nota_1      3275 non-null float64\n",
            "nota_2      3265 non-null float64\n",
            "nota_3      3255 non-null float64\n",
            "dtypes: float64(3), object(1)\n",
            "memory usage: 132.0+ KB\n"
=======
            "Int64Index: 25234 entries, 0 to 25233\n",
            "Data columns (total 4 columns):\n",
            "discente    25234 non-null object\n",
            "nota_1      24694 non-null float64\n",
            "nota_2      24503 non-null float64\n",
            "nota_3      24473 non-null float64\n",
            "dtypes: float64(3), object(1)\n",
            "memory usage: 985.7+ KB\n"
>>>>>>> e52d6251c6346a2073f341ba39a46174247df09b
          ],
          "name": "stdout"
        }
      ]
    },
    {
      "metadata": {
        "id": "LZFLxGoI7YZV",
        "colab_type": "code",
        "colab": {
          "base_uri": "https://localhost:8080/",
<<<<<<< HEAD
          "height": 385
        },
        "outputId": "d0fad263-9590-4cc4-a3cf-dbc5808f5dfa"
=======
          "height": 365
        },
        "outputId": "db1aa12a-df86-4670-8a7d-5899c4ceb74e"
>>>>>>> e52d6251c6346a2073f341ba39a46174247df09b
      },
      "cell_type": "code",
      "source": [
        "sem_zero2 = df_porUnidade[(df_porUnidade['nota_1']!=0) &\n",
        "                          (df_porUnidade['nota_2']!=0) &\n",
        "                          (df_porUnidade['nota_3']!=0)]\n",
        "\n",
        "sem_zero2.hist(bins=70, figsize=(12,5))\n",
        "plt.tight_layout()\n",
        "plt.show()"
      ],
<<<<<<< HEAD
      "execution_count": 25,
=======
      "execution_count": 217,
>>>>>>> e52d6251c6346a2073f341ba39a46174247df09b
      "outputs": [
        {
          "output_type": "display_data",
          "data": {
<<<<<<< HEAD
            "image/png": "iVBORw0KGgoAAAANSUhEUgAAA1QAAAFcCAYAAADPrf8ZAAAABHNCSVQICAgIfAhkiAAAAAlwSFlz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\noAIAAAAAgwhUAAAAAGDQ/wNCEqHD+0z68QAAAABJRU5ErkJggg==\n",
            "text/plain": [
              "<matplotlib.figure.Figure at 0x7fc3e75a71d0>"
=======
            "image/png": "iVBORw0KGgoAAAANSUhEUgAAA1QAAAFcCAYAAADPrf8ZAAAABHNCSVQICAgIfAhkiAAAAAlwSFlz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\nAAAAAElFTkSuQmCC\n",
            "text/plain": [
              "<matplotlib.figure.Figure at 0x7f287b38a650>"
>>>>>>> e52d6251c6346a2073f341ba39a46174247df09b
            ]
          },
          "metadata": {
            "tags": []
          }
        }
      ]
    },
    {
      "metadata": {
        "id": "XnbfEDfgr-zj",
        "colab_type": "text"
      },
      "cell_type": "markdown",
      "source": [
        "## 2.6 Conjunto de Teste"
      ]
    },
    {
      "metadata": {
<<<<<<< HEAD
=======
        "id": "reRInxT_85cm",
        "colab_type": "code",
        "colab": {}
      },
      "cell_type": "code",
      "source": [
        "# import numpy as np\n",
        "\n",
        "# # data - dataset\n",
        "# # test_ratio - percentage used to the test set\n",
        "# def split_train_test(data, test_ratio):\n",
        "  \n",
        "#   #scramble the position\n",
        "#   shuffled_indices = np.random.permutation(len(data))\n",
        "#   #find the test set size\n",
        "#   test_set_size = int(len(data) * test_ratio)\n",
        "#   #split the indices\n",
        "#   test_indices = shuffled_indices[:test_set_size]\n",
        "#   train_indices = shuffled_indices[test_set_size:]\n",
        "  \n",
        "#   return data.iloc[train_indices], data.iloc[test_indices]"
      ],
      "execution_count": 0,
      "outputs": []
    },
    {
      "metadata": {
        "id": "LsaTWRdo9QFD",
        "colab_type": "code",
        "colab": {
          "base_uri": "https://localhost:8080/",
          "height": 35
        },
        "outputId": "2b2b8c52-1f07-4a04-a188-577f256d7349"
      },
      "cell_type": "code",
      "source": [
        "# train_set, test_set = split_train_test(df_final, 0.2)\n",
        "# print(\"data has {} atributes, that is the same of {}\\\n",
        "# train instances + {} test intances ({})\".\n",
        "#       format(len(data),len(train_set),len(test_set),len(train_set)+len(test_set)))"
      ],
      "execution_count": 219,
      "outputs": [
        {
          "output_type": "stream",
          "text": [
            "data has 69775 atributes, that is the same of 15340train instances + 3834 test intances (19174)\n"
          ],
          "name": "stdout"
        }
      ]
    },
    {
      "metadata": {
>>>>>>> e52d6251c6346a2073f341ba39a46174247df09b
        "id": "TKlRYSdB-dhn",
        "colab_type": "code",
        "colab": {
          "base_uri": "https://localhost:8080/",
          "height": 71
        },
<<<<<<< HEAD
        "outputId": "f7b9ccea-0734-4e9a-d03d-e0c67bd4a6e1"
=======
        "outputId": "3fc61460-8125-4169-8520-27221d9dce39"
>>>>>>> e52d6251c6346a2073f341ba39a46174247df09b
      },
      "cell_type": "code",
      "source": [
        "from sklearn.model_selection import train_test_split\n",
        "\n",
<<<<<<< HEAD
        "train_set, test_set = train_test_split(df_finalSemDup, \n",
=======
        "train_set, test_set = train_test_split(df_final, \n",
>>>>>>> e52d6251c6346a2073f341ba39a46174247df09b
        "                                       test_size=0.2, \n",
        "                                       random_state=35)\n",
        "\n",
        "print(\"data has {} instances\\n {} train instances\\n {} test intances\".\n",
<<<<<<< HEAD
        "      format(len(df_finalSemDup),len(train_set),len(test_set)))"
      ],
      "execution_count": 26,
=======
        "      format(len(data),len(train_set),len(test_set)))"
      ],
      "execution_count": 224,
>>>>>>> e52d6251c6346a2073f341ba39a46174247df09b
      "outputs": [
        {
          "output_type": "stream",
          "text": [
<<<<<<< HEAD
            "data has 12388 instances\n",
            " 9910 train instances\n",
            " 2478 test intances\n"
=======
            "data has 69775 instances\n",
            " 15339 train instances\n",
            " 3835 test intances\n"
>>>>>>> e52d6251c6346a2073f341ba39a46174247df09b
          ],
          "name": "stdout"
        }
      ]
    },
    {
      "metadata": {
        "id": "h4Eh06yXLy7F",
        "colab_type": "text"
      },
      "cell_type": "markdown",
      "source": [
        "# 3.0 Visualizando os dados"
      ]
    },
    {
      "metadata": {
        "id": "yx58jwGuQ89y",
        "colab_type": "code",
        "colab": {}
      },
      "cell_type": "code",
      "source": [
        "treinamento = train_set.copy()"
      ],
      "execution_count": 0,
      "outputs": []
    },
    {
      "metadata": {
<<<<<<< HEAD
        "id": "joPzp31KNxsl",
=======
        "id": "621rZWMIbBt2",
>>>>>>> e52d6251c6346a2073f341ba39a46174247df09b
        "colab_type": "code",
        "colab": {}
      },
      "cell_type": "code",
      "source": [
        "cols_train = ['descricao','discente','id_turma','media_final','nota','reposicao','unidade']\n",
        "treinamento = treinamento[cols_train]"
      ],
      "execution_count": 0,
      "outputs": []
    },
    {
      "metadata": {
        "id": "oQdmgKP1TCte",
        "colab_type": "code",
        "colab": {
          "base_uri": "https://localhost:8080/",
<<<<<<< HEAD
          "height": 376
        },
        "outputId": "bd3a6688-d84e-47e5-aba2-1b055b114998"
=======
          "height": 358
        },
        "outputId": "6cd8cf72-9c2d-4b30-d21b-fcbe80dfe77f"
>>>>>>> e52d6251c6346a2073f341ba39a46174247df09b
      },
      "cell_type": "code",
      "source": [
        "treinamento.plot(kind=\"scatter\", x=\"media_final\", y=\"nota\", alpha=0.4,\n",
        "           c=\"unidade\", cmap=plt.get_cmap(\"jet\"), colorbar=True)\n",
        "plt.legend()"
      ],
<<<<<<< HEAD
      "execution_count": 29,
      "outputs": [
        {
          "output_type": "stream",
          "text": [
            "No handles with labels found to put in legend.\n"
          ],
          "name": "stderr"
        },
        {
          "output_type": "execute_result",
          "data": {
            "text/plain": [
              "<matplotlib.legend.Legend at 0x7fc3e79d96d8>"
=======
      "execution_count": 247,
      "outputs": [
        {
          "output_type": "execute_result",
          "data": {
            "text/plain": [
              "<matplotlib.legend.Legend at 0x7f287bd6ae50>"
>>>>>>> e52d6251c6346a2073f341ba39a46174247df09b
            ]
          },
          "metadata": {
            "tags": []
          },
<<<<<<< HEAD
          "execution_count": 29
=======
          "execution_count": 247
>>>>>>> e52d6251c6346a2073f341ba39a46174247df09b
        },
        {
          "output_type": "display_data",
          "data": {
<<<<<<< HEAD
            "image/png": "iVBORw0KGgoAAAANSUhEUgAAAeEAAAFDCAYAAAANnrbrAAAABHNCSVQICAgIfAhkiAAAAAlwSFlz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\nQMB54v8HdEr7Ctpx5oEAAAAASUVORK5CYII=\n",
            "text/plain": [
              "<matplotlib.figure.Figure at 0x7fc3e79d9898>"
=======
            "image/png": "iVBORw0KGgoAAAANSUhEUgAAAeEAAAFDCAYAAAANnrbrAAAABHNCSVQICAgIfAhkiAAAAAlwSFlz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\n",
            "text/plain": [
              "<matplotlib.figure.Figure at 0x7f287be5b750>"
>>>>>>> e52d6251c6346a2073f341ba39a46174247df09b
            ]
          },
          "metadata": {
            "tags": []
          }
        }
      ]
    },
    {
      "metadata": {
        "id": "Dt0FKHJbUXkF",
        "colab_type": "text"
      },
      "cell_type": "markdown",
      "source": [
        "- Há uma concentração de notas aproximadamente zero na terceira unidade e essas pessoas obtiveram uma média final baixa.\n",
        "- Há também um pequeno grupo que se deu bem nas notas da terceira unidade, aproximadamente 9 e sua média final está entre 5 e 6, mostra que se recuperaram ao longe das unidades."
      ]
    },
    {
      "metadata": {
        "id": "D1bE-5PyVeXL",
        "colab_type": "code",
        "colab": {
          "base_uri": "https://localhost:8080/",
<<<<<<< HEAD
          "height": 89
        },
        "outputId": "22ce6974-fbb5-47a0-ac84-694c6b3119fd"
=======
          "height": 107
        },
        "outputId": "3ee52474-8e4b-493c-d108-afe7d7c98544"
>>>>>>> e52d6251c6346a2073f341ba39a46174247df09b
      },
      "cell_type": "code",
      "source": [
        "corr_matrix = treinamento.corr()\n",
        "corr_matrix[\"nota\"].sort_values(ascending=False)"
      ],
<<<<<<< HEAD
      "execution_count": 30,
=======
      "execution_count": 248,
>>>>>>> e52d6251c6346a2073f341ba39a46174247df09b
      "outputs": [
        {
          "output_type": "execute_result",
          "data": {
            "text/plain": [
              "nota           1.000000\n",
<<<<<<< HEAD
              "media_final    0.915609\n",
              "unidade       -0.060077\n",
=======
              "media_final    0.907490\n",
              "id_turma       0.009052\n",
              "unidade       -0.050193\n",
>>>>>>> e52d6251c6346a2073f341ba39a46174247df09b
              "Name: nota, dtype: float64"
            ]
          },
          "metadata": {
            "tags": []
          },
<<<<<<< HEAD
          "execution_count": 30
=======
          "execution_count": 248
>>>>>>> e52d6251c6346a2073f341ba39a46174247df09b
        }
      ]
    },
    {
      "metadata": {
        "id": "RsmVAMjEarQK",
        "colab_type": "code",
        "colab": {
          "base_uri": "https://localhost:8080/",
          "height": 365
        },
<<<<<<< HEAD
        "outputId": "f5b4cbb1-97ff-45a5-cd70-c128f10d0d4c"
=======
        "outputId": "edfa5699-69be-47bf-aec5-36957bc20592"
>>>>>>> e52d6251c6346a2073f341ba39a46174247df09b
      },
      "cell_type": "code",
      "source": [
        "import seaborn as sns\n",
        "\n",
        "sns.heatmap(treinamento.corr(), annot=True, fmt=\".2f\")"
      ],
<<<<<<< HEAD
      "execution_count": 31,
=======
      "execution_count": 249,
>>>>>>> e52d6251c6346a2073f341ba39a46174247df09b
      "outputs": [
        {
          "output_type": "execute_result",
          "data": {
            "text/plain": [
<<<<<<< HEAD
              "<matplotlib.axes._subplots.AxesSubplot at 0x7fc3e7a6a5c0>"
=======
              "<matplotlib.axes._subplots.AxesSubplot at 0x7f287c06fc10>"
>>>>>>> e52d6251c6346a2073f341ba39a46174247df09b
            ]
          },
          "metadata": {
            "tags": []
          },
<<<<<<< HEAD
          "execution_count": 31
=======
          "execution_count": 249
>>>>>>> e52d6251c6346a2073f341ba39a46174247df09b
        },
        {
          "output_type": "display_data",
          "data": {
<<<<<<< HEAD
            "image/png": "iVBORw0KGgoAAAANSUhEUgAAAcQAAAFKCAYAAACD5S+3AAAABHNCSVQICAgIfAhkiAAAAAlwSFlz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\nAAAAAElFTkSuQmCC\n",
            "text/plain": [
              "<matplotlib.figure.Figure at 0x7fc3e7abf278>"
=======
            "image/png": "iVBORw0KGgoAAAANSUhEUgAAAcQAAAFKCAYAAACD5S+3AAAABHNCSVQICAgIfAhkiAAAAAlwSFlz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\nAAAASUVORK5CYII=\n",
            "text/plain": [
              "<matplotlib.figure.Figure at 0x7f287bb14e90>"
>>>>>>> e52d6251c6346a2073f341ba39a46174247df09b
            ]
          },
          "metadata": {
            "tags": []
          }
        }
      ]
    },
    {
      "metadata": {
        "id": "qH3w4eqBbrKh",
        "colab_type": "text"
      },
      "cell_type": "markdown",
      "source": [
        "A correlação apenas confirma o que já é óbvio, que as notas das unidades influenciam na média final do discente."
      ]
    },
    {
      "metadata": {
        "id": "DWDIq5QtcP5L",
        "colab_type": "code",
        "colab": {
          "base_uri": "https://localhost:8080/",
          "height": 369
        },
<<<<<<< HEAD
        "outputId": "1649d7c9-f26c-4804-e6fe-232763ea84e5"
=======
        "outputId": "28d7760a-60ea-4e0c-b67e-dbf4cd8b52b7"
>>>>>>> e52d6251c6346a2073f341ba39a46174247df09b
      },
      "cell_type": "code",
      "source": [
        "sns.heatmap(df_porUnidade.corr(), annot=True, fmt=\".2f\")"
      ],
<<<<<<< HEAD
      "execution_count": 32,
=======
      "execution_count": 250,
>>>>>>> e52d6251c6346a2073f341ba39a46174247df09b
      "outputs": [
        {
          "output_type": "execute_result",
          "data": {
            "text/plain": [
<<<<<<< HEAD
              "<matplotlib.axes._subplots.AxesSubplot at 0x7fc3e7af72b0>"
=======
              "<matplotlib.axes._subplots.AxesSubplot at 0x7f287b8e2ad0>"
>>>>>>> e52d6251c6346a2073f341ba39a46174247df09b
            ]
          },
          "metadata": {
            "tags": []
          },
<<<<<<< HEAD
          "execution_count": 32
=======
          "execution_count": 250
>>>>>>> e52d6251c6346a2073f341ba39a46174247df09b
        },
        {
          "output_type": "display_data",
          "data": {
<<<<<<< HEAD
            "image/png": "iVBORw0KGgoAAAANSUhEUgAAAcQAAAFOCAYAAAAYdG2hAAAABHNCSVQICAgIfAhkiAAAAAlwSFlz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\nAAAASUVORK5CYII=\n",
            "text/plain": [
              "<matplotlib.figure.Figure at 0x7fc3e7b2edd8>"
=======
            "image/png": "iVBORw0KGgoAAAANSUhEUgAAAb4AAAFOCAYAAAD5H3jwAAAABHNCSVQICAgIfAhkiAAAAAlwSFlz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\neuEAAAAASUVORK5CYII=\n",
            "text/plain": [
              "<matplotlib.figure.Figure at 0x7f287b8f9150>"
>>>>>>> e52d6251c6346a2073f341ba39a46174247df09b
            ]
          },
          "metadata": {
            "tags": []
          }
        }
      ]
    },
    {
      "metadata": {
        "id": "tVKdCfigcZ2P",
        "colab_type": "text"
      },
      "cell_type": "markdown",
      "source": [
        "Acima, é possível observar a correlação entre as notas das unidades."
      ]
    },
    {
      "metadata": {
        "id": "kEB0q-a-dIZt",
        "colab_type": "code",
        "colab": {
          "base_uri": "https://localhost:8080/",
<<<<<<< HEAD
          "height": 255
        },
        "outputId": "bc6811f8-1d81-4424-f3dc-415fc5a49fc2"
=======
          "height": 221
        },
        "outputId": "f4084b70-7406-41e2-e67d-b244309cdc51"
>>>>>>> e52d6251c6346a2073f341ba39a46174247df09b
      },
      "cell_type": "code",
      "source": [
        "treinamento.head()"
      ],
<<<<<<< HEAD
      "execution_count": 33,
=======
      "execution_count": 262,
>>>>>>> e52d6251c6346a2073f341ba39a46174247df09b
      "outputs": [
        {
          "output_type": "execute_result",
          "data": {
            "text/html": [
              "<div>\n",
              "<style scoped>\n",
              "    .dataframe tbody tr th:only-of-type {\n",
              "        vertical-align: middle;\n",
              "    }\n",
              "\n",
              "    .dataframe tbody tr th {\n",
              "        vertical-align: top;\n",
              "    }\n",
              "\n",
              "    .dataframe thead th {\n",
              "        text-align: right;\n",
              "    }\n",
              "</style>\n",
              "<table border=\"1\" class=\"dataframe\">\n",
              "  <thead>\n",
              "    <tr style=\"text-align: right;\">\n",
              "      <th></th>\n",
              "      <th>descricao</th>\n",
              "      <th>discente</th>\n",
              "      <th>id_turma</th>\n",
              "      <th>media_final</th>\n",
              "      <th>nota</th>\n",
              "      <th>reposicao</th>\n",
              "      <th>unidade</th>\n",
              "    </tr>\n",
              "  </thead>\n",
              "  <tbody>\n",
              "    <tr>\n",
<<<<<<< HEAD
              "      <th>1989</th>\n",
              "      <td>APROVADO POR NOTA</td>\n",
              "      <td>6383e6aacfd2aa8a91b33b04ed3db69a</td>\n",
              "      <td>1242595</td>\n",
              "      <td>5.7</td>\n",
              "      <td>2.3</td>\n",
              "      <td>t</td>\n",
              "      <td>2.0</td>\n",
              "    </tr>\n",
              "    <tr>\n",
              "      <th>10612</th>\n",
              "      <td>REPROVADO POR MÉDIA E POR FALTAS</td>\n",
              "      <td>abe06fe4287a886d52fc0e464cbe9819</td>\n",
              "      <td>57585724</td>\n",
              "      <td>0.0</td>\n",
              "      <td>0.0</td>\n",
              "      <td>f</td>\n",
              "      <td>3.0</td>\n",
              "    </tr>\n",
              "    <tr>\n",
              "      <th>14029</th>\n",
              "      <td>REPROVADO</td>\n",
              "      <td>83f9b88bb4e1b945543ebee90a3549e1</td>\n",
              "      <td>57585709</td>\n",
              "      <td>0.0</td>\n",
              "      <td>0.0</td>\n",
              "      <td>f</td>\n",
              "      <td>2.0</td>\n",
              "    </tr>\n",
              "    <tr>\n",
              "      <th>13842</th>\n",
              "      <td>REPROVADO</td>\n",
              "      <td>0f7491d43540602955431a8d7086914a</td>\n",
              "      <td>57585709</td>\n",
              "      <td>1.0</td>\n",
              "      <td>2.0</td>\n",
              "      <td>f</td>\n",
              "      <td>1.0</td>\n",
              "    </tr>\n",
              "    <tr>\n",
              "      <th>17031</th>\n",
              "      <td>REPROVADO</td>\n",
              "      <td>30d35140f1087638c8eab23835cc6c0f</td>\n",
              "      <td>57595053</td>\n",
              "      <td>3.6</td>\n",
              "      <td>2.2</td>\n",
              "      <td>f</td>\n",
              "      <td>1.0</td>\n",
=======
              "      <th>58678</th>\n",
              "      <td>TRANCADO</td>\n",
              "      <td>8c156a4955992d16aaf49c7b5c7bd955</td>\n",
              "      <td>1242595</td>\n",
              "      <td>NaN</td>\n",
              "      <td>NaN</td>\n",
              "      <td>f</td>\n",
              "      <td>2.0</td>\n",
              "    </tr>\n",
              "    <tr>\n",
              "      <th>384134</th>\n",
              "      <td>APROVADO POR NOTA</td>\n",
              "      <td>db032f1b1cc568bec36a780fc3ed661a</td>\n",
              "      <td>57605537</td>\n",
              "      <td>5.2</td>\n",
              "      <td>3.3</td>\n",
              "      <td>f</td>\n",
              "      <td>1.0</td>\n",
              "    </tr>\n",
              "    <tr>\n",
              "      <th>222714</th>\n",
              "      <td>TRANCADO</td>\n",
              "      <td>d65b7b90012df26a2e21778e8320c661</td>\n",
              "      <td>57576610</td>\n",
              "      <td>NaN</td>\n",
              "      <td>NaN</td>\n",
              "      <td>NaN</td>\n",
              "      <td>NaN</td>\n",
              "    </tr>\n",
              "    <tr>\n",
              "      <th>58525</th>\n",
              "      <td>APROVADO</td>\n",
              "      <td>59ee909b3d6ccb760e011abbb51a03bc</td>\n",
              "      <td>1242595</td>\n",
              "      <td>8.7</td>\n",
              "      <td>9.5</td>\n",
              "      <td>f</td>\n",
              "      <td>3.0</td>\n",
              "    </tr>\n",
              "    <tr>\n",
              "      <th>289406</th>\n",
              "      <td>DESISTENCIA</td>\n",
              "      <td>c360cddfc58c07925ced9a6373d9e02a</td>\n",
              "      <td>57585739</td>\n",
              "      <td>NaN</td>\n",
              "      <td>NaN</td>\n",
              "      <td>NaN</td>\n",
              "      <td>NaN</td>\n",
>>>>>>> e52d6251c6346a2073f341ba39a46174247df09b
              "    </tr>\n",
              "  </tbody>\n",
              "</table>\n",
              "</div>"
            ],
            "text/plain": [
<<<<<<< HEAD
              "                              descricao                          discente  \\\n",
              "1989                  APROVADO POR NOTA  6383e6aacfd2aa8a91b33b04ed3db69a   \n",
              "10612  REPROVADO POR MÉDIA E POR FALTAS  abe06fe4287a886d52fc0e464cbe9819   \n",
              "14029                         REPROVADO  83f9b88bb4e1b945543ebee90a3549e1   \n",
              "13842                         REPROVADO  0f7491d43540602955431a8d7086914a   \n",
              "17031                         REPROVADO  30d35140f1087638c8eab23835cc6c0f   \n",
              "\n",
              "       id_turma  media_final  nota reposicao  unidade  \n",
              "1989    1242595          5.7   2.3         t      2.0  \n",
              "10612  57585724          0.0   0.0         f      3.0  \n",
              "14029  57585709          0.0   0.0         f      2.0  \n",
              "13842  57585709          1.0   2.0         f      1.0  \n",
              "17031  57595053          3.6   2.2         f      1.0  "
=======
              "                descricao                          discente  id_turma  \\\n",
              "58678            TRANCADO  8c156a4955992d16aaf49c7b5c7bd955   1242595   \n",
              "384134  APROVADO POR NOTA  db032f1b1cc568bec36a780fc3ed661a  57605537   \n",
              "222714           TRANCADO  d65b7b90012df26a2e21778e8320c661  57576610   \n",
              "58525            APROVADO  59ee909b3d6ccb760e011abbb51a03bc   1242595   \n",
              "289406        DESISTENCIA  c360cddfc58c07925ced9a6373d9e02a  57585739   \n",
              "\n",
              "        media_final  nota reposicao  unidade  \n",
              "58678           NaN   NaN         f      2.0  \n",
              "384134          5.2   3.3         f      1.0  \n",
              "222714          NaN   NaN       NaN      NaN  \n",
              "58525           8.7   9.5         f      3.0  \n",
              "289406          NaN   NaN       NaN      NaN  "
>>>>>>> e52d6251c6346a2073f341ba39a46174247df09b
            ]
          },
          "metadata": {
            "tags": []
          },
<<<<<<< HEAD
          "execution_count": 33
=======
          "execution_count": 262
>>>>>>> e52d6251c6346a2073f341ba39a46174247df09b
        }
      ]
    },
    {
      "metadata": {
        "id": "adv2zapSMcKl",
        "colab_type": "text"
      },
      "cell_type": "markdown",
      "source": [
        "# 4.0 Tratando os dados"
      ]
    },
    {
      "metadata": {
<<<<<<< HEAD
        "id": "K-YwnsnBfGVk",
        "colab_type": "code",
        "colab": {
          "base_uri": "https://localhost:8080/",
          "height": 197
        },
        "outputId": "2f23d2da-31e1-4227-bc69-df35780f329f"
      },
      "cell_type": "code",
      "source": [
        "train_setCopy = train_set.copy()\n",
        "\n",
        "train_setUni = cols_unidades(train_setCopy)\n",
        "print(train_setUni.shape)\n",
        "train_setUni.info()"
      ],
      "execution_count": 60,
      "outputs": [
        {
          "output_type": "stream",
          "text": [
            "(1715, 4)\n",
            "<class 'pandas.core.frame.DataFrame'>\n",
            "Int64Index: 1715 entries, 0 to 1714\n",
            "Data columns (total 4 columns):\n",
            "discente    1715 non-null object\n",
            "nota_1      1668 non-null float64\n",
            "nota_2      1664 non-null float64\n",
            "nota_3      1659 non-null float64\n",
            "dtypes: float64(3), object(1)\n",
            "memory usage: 67.0+ KB\n"
          ],
          "name": "stdout"
        }
      ]
    },
    {
      "metadata": {
        "id": "Fncrqu5UBwpl",
        "colab_type": "code",
        "colab": {}
      },
      "cell_type": "code",
      "source": [
        "train_X = train_setUni.drop(\"nota_3\", axis=1)\n",
        "\n",
        "# y = nota da segunda unidade\n",
        "train_y = train_setUni.nota_3.copy()\n"
      ],
      "execution_count": 0,
      "outputs": []
    },
    {
      "metadata": {
        "id": "WAiTP_xLf6op",
        "colab_type": "text"
      },
      "cell_type": "markdown",
      "source": [
        "## 4.1 Limpeza de Dados"
      ]
    },
    {
      "metadata": {
        "id": "s_4_Ht4_f-7S",
        "colab_type": "code",
        "colab": {
          "base_uri": "https://localhost:8080/",
          "height": 89
        },
        "outputId": "43c49787-97c2-4cd2-8f45-091435e14bc1"
      },
      "cell_type": "code",
      "source": [
        "# vendo a quantidade de elementos ausentes\n",
        "train_X.isnull().sum()"
      ],
      "execution_count": 95,
      "outputs": [
        {
          "output_type": "execute_result",
          "data": {
            "text/plain": [
              "discente     0\n",
              "nota_1      47\n",
              "nota_2      51\n",
              "dtype: int64"
            ]
          },
          "metadata": {
            "tags": []
          },
          "execution_count": 95
        }
      ]
    },
    {
      "metadata": {
        "id": "EVAwSI0ehdT9",
        "colab_type": "code",
        "colab": {
          "base_uri": "https://localhost:8080/",
          "height": 71
        },
        "outputId": "f97fc69c-72e9-4ed9-e19f-9196d22e101d"
      },
      "cell_type": "code",
      "source": [
        "train_set.columns"
      ],
      "execution_count": 96,
      "outputs": [
        {
          "output_type": "execute_result",
          "data": {
            "text/plain": [
              "Index(['descricao', 'discente', 'faltas_unidade', 'id_turma', 'media_final',\n",
              "       'nota', 'numero_total_faltas', 'reposicao', 'unidade', 'anoperiodo'],\n",
              "      dtype='object')"
            ]
          },
          "metadata": {
            "tags": []
          },
          "execution_count": 96
        }
      ]
    },
    {
      "metadata": {
        "id": "6R2fwX05gdll",
        "colab_type": "code",
        "colab": {
          "base_uri": "https://localhost:8080/",
          "height": 35
        },
        "outputId": "db1b9f25-de36-4ac7-f414-70b334dfad8b"
      },
      "cell_type": "code",
      "source": [
        "# substituindo os valores ausentes pela média dos outros valores\n",
        "# da respectiva coluna\n",
        "\n",
        "from sklearn.preprocessing import Imputer\n",
        "imputer = Imputer(strategy=\"median\")\n",
        "\n",
        "# criando uma copia sem os elementos não numéricos\n",
        "train_X_num = train_X.drop(\"discente\", axis=1)\n",
        "\n",
        "# Now you can fit the imputer instance to the training data using \n",
        "# the fit() method:\n",
        "imputer.fit(train_X_num)"
      ],
      "execution_count": 97,
      "outputs": [
        {
          "output_type": "execute_result",
          "data": {
            "text/plain": [
              "Imputer(axis=0, copy=True, missing_values='NaN', strategy='median', verbose=0)"
            ]
          },
          "metadata": {
            "tags": []
          },
          "execution_count": 97
        }
      ]
    },
    {
      "metadata": {
        "id": "jEEsYK6-iHtG",
        "colab_type": "code",
        "colab": {
          "base_uri": "https://localhost:8080/",
          "height": 35
        },
        "outputId": "2a8e133b-8969-4d56-ded7-2c2bc696aea6"
      },
      "cell_type": "code",
      "source": [
        "imputer.statistics_"
      ],
      "execution_count": 98,
      "outputs": [
        {
          "output_type": "execute_result",
          "data": {
            "text/plain": [
              "array([2.20000005, 1.5       ])"
            ]
          },
          "metadata": {
            "tags": []
          },
          "execution_count": 98
        }
      ]
    },
    {
      "metadata": {
        "id": "kjNBuw6miMi7",
        "colab_type": "code",
        "colab": {
          "base_uri": "https://localhost:8080/",
          "height": 35
        },
        "outputId": "7b364978-7061-4184-ada6-ca38596b52c6"
      },
      "cell_type": "code",
      "source": [
        "train_X_num.median().values"
      ],
      "execution_count": 99,
      "outputs": [
        {
          "output_type": "execute_result",
          "data": {
            "text/plain": [
              "array([2.20000005, 1.5       ])"
            ]
          },
          "metadata": {
            "tags": []
          },
          "execution_count": 99
        }
      ]
    },
    {
      "metadata": {
        "id": "VnbM5Nz8igbv",
        "colab_type": "code",
        "colab": {}
      },
      "cell_type": "code",
      "source": [
        "# substituindo os valores ausentes pela média encontrada\n",
        "train_X_num_array = imputer.transform(train_X_num)\n",
        "train_X_num_df = pd.DataFrame(train_X_num_array, columns=train_X_num.columns)"
      ],
      "execution_count": 0,
      "outputs": []
    },
    {
      "metadata": {
        "id": "pK9gRu10iqFR",
        "colab_type": "code",
        "colab": {
          "base_uri": "https://localhost:8080/",
          "height": 143
        },
        "outputId": "141a099a-7f88-461b-dc9b-104402c9092a"
      },
      "cell_type": "code",
      "source": [
        "train_X_num_df.info()"
      ],
      "execution_count": 101,
      "outputs": [
        {
          "output_type": "stream",
          "text": [
            "<class 'pandas.core.frame.DataFrame'>\n",
            "RangeIndex: 1715 entries, 0 to 1714\n",
            "Data columns (total 2 columns):\n",
            "nota_1    1715 non-null float64\n",
            "nota_2    1715 non-null float64\n",
            "dtypes: float64(2)\n",
            "memory usage: 26.9 KB\n"
          ],
          "name": "stdout"
        }
      ]
    },
    {
      "metadata": {
        "id": "McOEWUGRpmEM",
        "colab_type": "text"
      },
      "cell_type": "markdown",
      "source": [
        "## 4.2 Transformadores Personalizados"
      ]
    },
    {
      "metadata": {
        "id": "ptsBs8Sspmph",
        "colab_type": "code",
        "colab": {}
      },
      "cell_type": "code",
      "source": [
        "import numpy as np\n",
        "from sklearn.base import BaseEstimator, TransformerMixin\n",
        "\n",
        "# indices das colunas\n",
        "nota_1ix, nota_2ix = 0, 1\n",
        "\n",
        "class CombinedAttributesAdder(BaseEstimator, TransformerMixin):\n",
        "\n",
        "  def __init__(self, add_uni1_pela_uni2 = True):\n",
        "    self.add_uni1_pela_uni2 = add_uni1_pela_uni2\n",
        "    \n",
        "  def fit(self, X, y=None):\n",
        "    return self\n",
        "  \n",
        "  def transform(self, X, y=None):\n",
        "    denominador = X[:, nota_2ix]\n",
        "    denominador[denominador<.000001] = .000001\n",
        "    \n",
        "    uni1_pela_uni2 = X[:, nota_1ix] / denominador\n",
        "      \n",
        "    return np.c_[X, uni1_pela_uni2]"
      ],
      "execution_count": 0,
      "outputs": []
    },
    {
      "metadata": {
        "id": "-K6At79ZmQaB",
        "colab_type": "text"
      },
      "cell_type": "markdown",
      "source": [
        "## 4.3 Pipelines de Transformação"
      ]
    },
    {
      "metadata": {
        "id": "ErXGvUsLtJ6A",
        "colab_type": "code",
        "colab": {
          "base_uri": "https://localhost:8080/",
          "height": 204
        },
        "outputId": "2521e810-d7bc-432a-ef85-2148a16e92bd"
      },
      "cell_type": "code",
      "source": [
        "train_X_num_df.head()"
      ],
      "execution_count": 105,
      "outputs": [
        {
          "output_type": "execute_result",
          "data": {
            "text/html": [
              "<div>\n",
              "<style scoped>\n",
              "    .dataframe tbody tr th:only-of-type {\n",
              "        vertical-align: middle;\n",
              "    }\n",
              "\n",
              "    .dataframe tbody tr th {\n",
              "        vertical-align: top;\n",
              "    }\n",
              "\n",
              "    .dataframe thead th {\n",
              "        text-align: right;\n",
              "    }\n",
              "</style>\n",
              "<table border=\"1\" class=\"dataframe\">\n",
              "  <thead>\n",
              "    <tr style=\"text-align: right;\">\n",
              "      <th></th>\n",
              "      <th>nota_1</th>\n",
              "      <th>nota_2</th>\n",
              "    </tr>\n",
              "  </thead>\n",
              "  <tbody>\n",
              "    <tr>\n",
              "      <th>0</th>\n",
              "      <td>0.0</td>\n",
              "      <td>0.0</td>\n",
              "    </tr>\n",
              "    <tr>\n",
              "      <th>1</th>\n",
              "      <td>5.2</td>\n",
              "      <td>1.0</td>\n",
              "    </tr>\n",
              "    <tr>\n",
              "      <th>2</th>\n",
              "      <td>10.0</td>\n",
              "      <td>8.8</td>\n",
              "    </tr>\n",
              "    <tr>\n",
              "      <th>3</th>\n",
              "      <td>4.9</td>\n",
              "      <td>5.1</td>\n",
              "    </tr>\n",
              "    <tr>\n",
              "      <th>4</th>\n",
              "      <td>4.0</td>\n",
              "      <td>4.0</td>\n",
              "    </tr>\n",
              "  </tbody>\n",
              "</table>\n",
              "</div>"
            ],
            "text/plain": [
              "   nota_1  nota_2\n",
              "0     0.0     0.0\n",
              "1     5.2     1.0\n",
              "2    10.0     8.8\n",
              "3     4.9     5.1\n",
              "4     4.0     4.0"
            ]
          },
          "metadata": {
            "tags": []
          },
          "execution_count": 105
        }
      ]
    },
    {
      "metadata": {
        "id": "URdNt3h5mTQh",
        "colab_type": "code",
        "colab": {}
      },
      "cell_type": "code",
      "source": [
        "from sklearn.pipeline import Pipeline\n",
        "from sklearn.preprocessing import StandardScaler\n",
        "\n",
        "\n",
        "num_pipeline = Pipeline([('imputer', Imputer(strategy=\"median\")),\n",
        "                         ('attribs_adder', CombinedAttributesAdder()),\n",
        "                         ('std_scaler', StandardScaler())\n",
        "                        ])\n",
        "train_X_num_pipeline = num_pipeline.fit_transform(train_X_num_df)"
      ],
      "execution_count": 0,
      "outputs": []
    },
    {
      "metadata": {
        "id": "NEQzN7rSpbs2",
        "colab_type": "code",
        "colab": {
          "base_uri": "https://localhost:8080/",
          "height": 143
        },
        "outputId": "2d9f09d2-be05-4d6e-c664-485a3f2dc1f6"
      },
      "cell_type": "code",
      "source": [
        "train_X_num_pipeline"
      ],
      "execution_count": 114,
      "outputs": [
        {
          "output_type": "execute_result",
          "data": {
            "text/plain": [
              "array([[-0.96772412, -0.86917306, -0.2892435 ],\n",
              "       [ 0.66137704, -0.55927065, -0.28923781],\n",
              "       [ 2.16516285,  1.85797067, -0.28924226],\n",
              "       ...,\n",
              "       [ 1.44459884,  2.04391225, -0.2892426 ],\n",
              "       [-0.96772412, -0.86917306, -0.2892435 ],\n",
              "       [-0.65443543, -0.86917306,  0.80434376]])"
            ]
          },
          "metadata": {
            "tags": []
          },
          "execution_count": 114
        }
      ]
    },
    {
      "metadata": {
=======
>>>>>>> e52d6251c6346a2073f341ba39a46174247df09b
        "id": "wBL8VSeDMv4N",
        "colab_type": "text"
      },
      "cell_type": "markdown",
      "source": [
        "# 5.0 Selecionando e Treinando o Modelo"
      ]
    },
    {
      "metadata": {
        "id": "eBOx-JDTNIIw",
        "colab_type": "code",
        "colab": {}
      },
      "cell_type": "code",
      "source": [
        ""
      ],
      "execution_count": 0,
      "outputs": []
    },
    {
      "metadata": {
        "id": "x3ci9yUwN-D9",
        "colab_type": "text"
      },
      "cell_type": "markdown",
      "source": [
        "# 6.0 Melhorar o Modelo"
      ]
    },
    {
      "metadata": {
        "id": "Qbeq4PquOJtL",
        "colab_type": "text"
      },
      "cell_type": "markdown",
      "source": [
        "# 7.0 Apresentando a Solução"
      ]
    },
    {
      "metadata": {
        "id": "1rt4dECBOM5Y",
        "colab_type": "code",
        "colab": {}
      },
      "cell_type": "code",
      "source": [
        ""
      ],
      "execution_count": 0,
      "outputs": []
    }
  ]
}