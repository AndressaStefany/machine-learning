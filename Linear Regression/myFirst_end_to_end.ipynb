{
  "nbformat": 4,
  "nbformat_minor": 0,
  "metadata": {
    "colab": {
      "name": "myFirst-end-to-end.ipynb",
      "version": "0.3.2",
      "provenance": [],
      "collapsed_sections": [],
      "toc_visible": true
    },
    "kernelspec": {
      "name": "python3",
      "display_name": "Python 3"
    }
  },
  "cells": [
    {
      "metadata": {
        "id": "Jcsn7t5F-AhN",
        "colab_type": "text"
      },
      "cell_type": "markdown",
      "source": [
        "#Projeto fim a fim utilizando Regressão Linear\n",
        "---"
      ]
    },
    {
      "metadata": {
        "id": "r70_pTdr9f-_",
        "colab_type": "text"
      },
      "cell_type": "markdown",
      "source": [
        "# 1.0 Introdução"
      ]
    },
    {
      "metadata": {
        "id": "EAPWy8qnOQqp",
        "colab_type": "text"
      },
      "cell_type": "markdown",
      "source": [
        "O dataset utilizado possui notas dos alunos de vários cursos da UFRN do ano de 2015 a 2017. A ideia é achar a relação entre as notas da primeira unidade e da segunda unidade da matéria de Cálculo I.\n",
        "\n",
        "Para padronizar o conteúdo estudade em cada unidade pelos alunos, será selecionado apenas os alunos do curso de Ciências e Tecnologia, visto que a amostra é um conjunto de dados com uma quantidade significante."
      ]
    },
    {
      "metadata": {
        "id": "kunjXwhOc_br",
        "colab_type": "text"
      },
      "cell_type": "markdown",
      "source": [
        "## 1.1 Medida de desempenho"
      ]
    },
    {
      "metadata": {
        "id": "PFBvUVS8LuHo",
        "colab_type": "text"
      },
      "cell_type": "markdown",
      "source": [
        "# 2.0 Carregando os dados"
      ]
    },
    {
      "metadata": {
        "id": "hYifU7AZzUU8",
        "colab_type": "text"
      },
      "cell_type": "markdown",
      "source": [
        "## 2.1 Acesar arquivo do drive"
      ]
    },
    {
      "metadata": {
        "id": "8-Ibp1DezYao",
        "colab_type": "code",
        "colab": {
          "base_uri": "https://localhost:8080/",
          "height": 145
        },
        "outputId": "14016fbc-d4cd-42d1-a763-4cbbcf588348"
      },
      "cell_type": "code",
      "source": [
        "#1. Install a Drive FUSE wrapper google-drive-ocamlfuse.\n",
        "!apt-get install -y -qq software-properties-common python-software-properties module-init-tools\n",
        "!add-apt-repository -y ppa:alessandro-strada/ppa 2>&1 > /dev/null\n",
        "!apt-get update -qq 2>&1 > /dev/null\n",
        "!apt-get -y install -qq google-drive-ocamlfuse fuse"
      ],
      "execution_count": 2,
      "outputs": [
        {
          "output_type": "stream",
          "text": [
            "gpg: keybox '/tmp/tmpp70mh7zo/pubring.gpg' created\n",
            "gpg: /tmp/tmpp70mh7zo/trustdb.gpg: trustdb created\n",
            "gpg: key AD5F235DF639B041: public key \"Launchpad PPA for Alessandro Strada\" imported\n",
            "gpg: Total number processed: 1\n",
            "gpg:               imported: 1\n",
            "Warning: apt-key output should not be parsed (stdout is not a terminal)\n"
          ],
          "name": "stdout"
        }
      ]
    },
    {
      "metadata": {
        "id": "CSyiuS5KzdYC",
        "colab_type": "code",
        "colab": {}
      },
      "cell_type": "code",
      "source": [
        "#2. Generate auth tokens for Colab\n",
        "from google.colab import auth\n",
        "auth.authenticate_user()"
      ],
      "execution_count": 0,
      "outputs": []
    },
    {
      "metadata": {
        "id": "44iUSz0kzd7x",
        "colab_type": "code",
        "colab": {
          "base_uri": "https://localhost:8080/",
          "height": 109
        },
        "outputId": "ca8736ca-9b8b-42fb-cc14-21cbf64b3bd0"
      },
      "cell_type": "code",
      "source": [
        "#3. Generate creds for the Drive FUSE library.\n",
        "from oauth2client.client import GoogleCredentials\n",
        "creds = GoogleCredentials.get_application_default()\n",
        "import getpass\n",
        "!google-drive-ocamlfuse -headless -id={creds.client_id} -secret={creds.client_secret} < /dev/null 2>&1 | grep URL\n",
        "vcode = getpass.getpass()\n",
        "!echo {vcode} | google-drive-ocamlfuse -headless -id={creds.client_id} -secret={creds.client_secret}"
      ],
      "execution_count": 3,
      "outputs": [
        {
          "output_type": "stream",
          "text": [
            "Please, open the following URL in a web browser: https://accounts.google.com/o/oauth2/auth?client_id=32555940559.apps.googleusercontent.com&redirect_uri=urn%3Aietf%3Awg%3Aoauth%3A2.0%3Aoob&scope=https%3A%2F%2Fwww.googleapis.com%2Fauth%2Fdrive&response_type=code&access_type=offline&approval_prompt=force\n",
            "··········\n",
            "Please, open the following URL in a web browser: https://accounts.google.com/o/oauth2/auth?client_id=32555940559.apps.googleusercontent.com&redirect_uri=urn%3Aietf%3Awg%3Aoauth%3A2.0%3Aoob&scope=https%3A%2F%2Fwww.googleapis.com%2Fauth%2Fdrive&response_type=code&access_type=offline&approval_prompt=force\n",
            "Please enter the verification code: Access token retrieved correctly.\n"
          ],
          "name": "stdout"
        }
      ]
    },
    {
      "metadata": {
        "id": "5293NpPSzhzS",
        "colab_type": "code",
        "colab": {}
      },
      "cell_type": "code",
      "source": [
        "#4. Create a directory and mount Google Drive using that directory.\n",
        "!mkdir -p drive\n",
        "!google-drive-ocamlfuse drive"
      ],
      "execution_count": 0,
      "outputs": []
    },
    {
      "metadata": {
        "id": "GGNjGae06vJZ",
        "colab_type": "code",
        "colab": {}
      },
      "cell_type": "code",
      "source": [
        "# commando to umount \n",
        "# !fusermount -u ML"
      ],
      "execution_count": 0,
      "outputs": []
    },
    {
      "metadata": {
        "id": "9JgY_cRbzijL",
        "colab_type": "code",
        "colab": {}
      },
      "cell_type": "code",
      "source": [
        "import os\n",
        "os.chdir(\"/content/\")"
      ],
      "execution_count": 0,
      "outputs": []
    },
    {
      "metadata": {
        "id": "NySwIPdY46d-",
        "colab_type": "code",
        "colab": {
          "base_uri": "https://localhost:8080/",
          "height": 35
        },
        "outputId": "fac6b76d-9fba-40af-d2ff-ab3817a89b08"
      },
      "cell_type": "code",
      "source": [
        "!ls"
      ],
      "execution_count": 3,
      "outputs": [
        {
          "output_type": "stream",
          "text": [
            "adc.json  datasets  drive  sample_data\n"
          ],
          "name": "stdout"
        }
      ]
    },
    {
      "metadata": {
        "id": "vfLe8-htfL-V",
        "colab_type": "text"
      },
      "cell_type": "markdown",
      "source": [
        "## 2.2 Carregando os arquivos locais"
      ]
    },
    {
      "metadata": {
        "id": "_lcvjQcOfSJ7",
        "colab_type": "code",
        "colab": {}
      },
      "cell_type": "code",
      "source": [
        "!cp -r drive/Mestrado/Primeiro/MachineLearning/MyActivities/LinearRegression/datasets/ /content/"
      ],
      "execution_count": 0,
      "outputs": []
    },
    {
      "metadata": {
        "id": "kjG43eSlEDbK",
        "colab_type": "code",
        "colab": {
          "base_uri": "https://localhost:8080/",
          "height": 53
        },
        "outputId": "b64bd698-2e83-4b4b-91a2-a3fe47bba5a5"
      },
      "cell_type": "code",
      "source": [
        "!ls datasets/"
      ],
      "execution_count": 8,
      "outputs": [
        {
          "output_type": "stream",
          "text": [
            "componentes-curriculares-presenciais.csv  matriculas\n",
            "cursos-graduacao.csv\t\t\t  turmas\n"
          ],
          "name": "stdout"
        }
      ]
    },
    {
      "metadata": {
        "id": "rSWPJTcRtViP",
        "colab_type": "text"
      },
      "cell_type": "markdown",
      "source": [
        "## 2.3 Estrutura dos dados"
      ]
    },
    {
      "metadata": {
        "id": "42XsR5-iGyIM",
        "colab_type": "code",
        "colab": {}
      },
      "cell_type": "code",
      "source": [
        "import pandas as pd"
      ],
      "execution_count": 0,
      "outputs": []
    },
    {
      "metadata": {
        "id": "Jp9ZugLmLyZX",
        "colab_type": "code",
        "colab": {
          "base_uri": "https://localhost:8080/",
          "height": 403
        },
        "outputId": "86cb7c1e-e222-4316-955b-597a83b99ddb"
      },
      "cell_type": "code",
      "source": [
        "df_matriculas = pd.DataFrame()\n",
        "\n",
        "# importando matriculas de 2015 a 2017\n",
        "for i in range(15,18):\n",
        "    for j in range(1,3):\n",
        "        print('20'+str(i)+str(j))\n",
        "        df_matricula = pd.read_csv('datasets/matriculas/matriculas-de-20'+str(i)+str(j)+'.csv',sep=';')\n",
        "        #concatena as tabelas\n",
        "        df_matriculas = pd.concat([df_matriculas, df_matricula])\n",
        "        \n",
        "print(\"\\nDataFrame de Matrículas:\")\n",
        "print(df_matriculas.shape)\n",
        "display(df_matriculas.head())"
      ],
      "execution_count": 5,
      "outputs": [
        {
          "output_type": "stream",
          "text": [
            "20151\n",
            "20152\n",
            "20161\n",
            "20162\n",
            "20171\n",
            "20172\n",
            "\n",
            "DataFrame de Matrículas:\n",
            "(4089836, 11)\n"
          ],
          "name": "stdout"
        },
        {
          "output_type": "display_data",
          "data": {
            "text/html": [
              "<div>\n",
              "<style scoped>\n",
              "    .dataframe tbody tr th:only-of-type {\n",
              "        vertical-align: middle;\n",
              "    }\n",
              "\n",
              "    .dataframe tbody tr th {\n",
              "        vertical-align: top;\n",
              "    }\n",
              "\n",
              "    .dataframe thead th {\n",
              "        text-align: right;\n",
              "    }\n",
              "</style>\n",
              "<table border=\"1\" class=\"dataframe\">\n",
              "  <thead>\n",
              "    <tr style=\"text-align: right;\">\n",
              "      <th></th>\n",
              "      <th>Unnamed: 10</th>\n",
              "      <th>descricao</th>\n",
              "      <th>discente</th>\n",
              "      <th>faltas_unidade</th>\n",
              "      <th>id_curso</th>\n",
              "      <th>id_turma</th>\n",
              "      <th>media_final</th>\n",
              "      <th>nota</th>\n",
              "      <th>numero_total_faltas</th>\n",
              "      <th>reposicao</th>\n",
              "      <th>unidade</th>\n",
              "    </tr>\n",
              "  </thead>\n",
              "  <tbody>\n",
              "    <tr>\n",
              "      <th>0</th>\n",
              "      <td>NaN</td>\n",
              "      <td>REPROVADO</td>\n",
              "      <td>8833c0e056f90497742882bfcc81b685</td>\n",
              "      <td>0.0</td>\n",
              "      <td>100300443.0</td>\n",
              "      <td>57562481</td>\n",
              "      <td>0.0</td>\n",
              "      <td>0.0</td>\n",
              "      <td>0.0</td>\n",
              "      <td>f</td>\n",
              "      <td>2.0</td>\n",
              "    </tr>\n",
              "    <tr>\n",
              "      <th>1</th>\n",
              "      <td>NaN</td>\n",
              "      <td>REPROVADO</td>\n",
              "      <td>8833c0e056f90497742882bfcc81b685</td>\n",
              "      <td>0.0</td>\n",
              "      <td>100300443.0</td>\n",
              "      <td>57562481</td>\n",
              "      <td>0.0</td>\n",
              "      <td>0.0</td>\n",
              "      <td>0.0</td>\n",
              "      <td>f</td>\n",
              "      <td>3.0</td>\n",
              "    </tr>\n",
              "    <tr>\n",
              "      <th>2</th>\n",
              "      <td>NaN</td>\n",
              "      <td>APROVADO</td>\n",
              "      <td>7a0a661326418111f7d17aab098757aa</td>\n",
              "      <td>0.0</td>\n",
              "      <td>100300443.0</td>\n",
              "      <td>57562481</td>\n",
              "      <td>8.9</td>\n",
              "      <td>8.9</td>\n",
              "      <td>0.0</td>\n",
              "      <td>f</td>\n",
              "      <td>1.0</td>\n",
              "    </tr>\n",
              "    <tr>\n",
              "      <th>3</th>\n",
              "      <td>NaN</td>\n",
              "      <td>APROVADO</td>\n",
              "      <td>7a0a661326418111f7d17aab098757aa</td>\n",
              "      <td>0.0</td>\n",
              "      <td>100300443.0</td>\n",
              "      <td>57562481</td>\n",
              "      <td>8.9</td>\n",
              "      <td>8.9</td>\n",
              "      <td>0.0</td>\n",
              "      <td>f</td>\n",
              "      <td>2.0</td>\n",
              "    </tr>\n",
              "    <tr>\n",
              "      <th>4</th>\n",
              "      <td>NaN</td>\n",
              "      <td>APROVADO</td>\n",
              "      <td>7a0a661326418111f7d17aab098757aa</td>\n",
              "      <td>0.0</td>\n",
              "      <td>100300443.0</td>\n",
              "      <td>57562481</td>\n",
              "      <td>8.9</td>\n",
              "      <td>8.9</td>\n",
              "      <td>0.0</td>\n",
              "      <td>f</td>\n",
              "      <td>3.0</td>\n",
              "    </tr>\n",
              "  </tbody>\n",
              "</table>\n",
              "</div>"
            ],
            "text/plain": [
              "   Unnamed: 10  descricao                          discente  faltas_unidade  \\\n",
              "0          NaN  REPROVADO  8833c0e056f90497742882bfcc81b685             0.0   \n",
              "1          NaN  REPROVADO  8833c0e056f90497742882bfcc81b685             0.0   \n",
              "2          NaN   APROVADO  7a0a661326418111f7d17aab098757aa             0.0   \n",
              "3          NaN   APROVADO  7a0a661326418111f7d17aab098757aa             0.0   \n",
              "4          NaN   APROVADO  7a0a661326418111f7d17aab098757aa             0.0   \n",
              "\n",
              "      id_curso  id_turma  media_final  nota  numero_total_faltas reposicao  \\\n",
              "0  100300443.0  57562481          0.0   0.0                  0.0         f   \n",
              "1  100300443.0  57562481          0.0   0.0                  0.0         f   \n",
              "2  100300443.0  57562481          8.9   8.9                  0.0         f   \n",
              "3  100300443.0  57562481          8.9   8.9                  0.0         f   \n",
              "4  100300443.0  57562481          8.9   8.9                  0.0         f   \n",
              "\n",
              "   unidade  \n",
              "0      2.0  \n",
              "1      3.0  \n",
              "2      1.0  \n",
              "3      2.0  \n",
              "4      3.0  "
            ]
          },
          "metadata": {
            "tags": []
          }
        }
      ]
    },
    {
      "metadata": {
        "id": "R9-fEPdpRlku",
        "colab_type": "text"
      },
      "cell_type": "markdown",
      "source": [
        "Esse dataset representa a relação das matrículas em componentes dos cursos da instituição. Cada coluna significa:\n",
        "\n",
        "- **descrição**: Situação final do discente nessa turma.\n",
        "- **discente**: Identificador do discente da matrícula.\n",
        "- **faltas_unidade**: Quantidade de faltas na unidade.\n",
        "- **id_curso**: Identificador do curso do discente.\n",
        "- **id_turma**: Identificador da turma do discente.\n",
        "- **media_final**: Média final do discente.\n",
        "- **nota**: Nota do discente na unidade.\n",
        "- **numero_total_faltas**: Quantidade total de faltas.\n",
        "- **reposição**: Indica se o discente ficou em reposição.\n",
        "- **unidade**: Unidade corrente do período letivo."
      ]
    },
    {
      "metadata": {
        "id": "ougv2Z7fxLnA",
        "colab_type": "code",
        "colab": {
          "base_uri": "https://localhost:8080/",
          "height": 295
        },
        "outputId": "973ba385-9767-475d-a5af-e4984769633d"
      },
      "cell_type": "code",
      "source": [
        "df_matriculas.info(null_counts=True)"
      ],
      "execution_count": 15,
      "outputs": [
        {
          "output_type": "stream",
          "text": [
            "<class 'pandas.core.frame.DataFrame'>\n",
            "Int64Index: 4089836 entries, 0 to 632453\n",
            "Data columns (total 11 columns):\n",
            "Unnamed: 10            0 non-null float64\n",
            "descricao              4089836 non-null object\n",
            "discente               4089836 non-null object\n",
            "faltas_unidade         3467465 non-null float64\n",
            "id_curso               4068862 non-null float64\n",
            "id_turma               4089836 non-null int64\n",
            "media_final            3510693 non-null float64\n",
            "nota                   3356750 non-null float64\n",
            "numero_total_faltas    3609525 non-null float64\n",
            "reposicao              3467465 non-null object\n",
            "unidade                3467465 non-null float64\n",
            "dtypes: float64(7), int64(1), object(3)\n",
            "memory usage: 374.4+ MB\n"
          ],
          "name": "stdout"
        }
      ]
    },
    {
      "metadata": {
        "id": "f-7j53mCUkpR",
        "colab_type": "text"
      },
      "cell_type": "markdown",
      "source": [
        "- A primeira coluna do dataset é formado apenas por elementos nulos;\n",
        "- Apenas as colunas \"descrição\", \"discente\" e \"id_turma\" não possuem elementos nulos."
      ]
    },
    {
      "metadata": {
        "id": "DlAGQ6DRVd96",
        "colab_type": "code",
        "colab": {
          "base_uri": "https://localhost:8080/",
          "height": 585
        },
        "outputId": "cc137b07-b8eb-457c-9ce8-3ac340ac8d25"
      },
      "cell_type": "code",
      "source": [
        "# concatenar todas as turmas de 2015 a 2017\n",
        "df_turmas = pd.DataFrame()\n",
        "\n",
        "for i in range(15,18):\n",
        "    for j in range(1,3):\n",
        "        print(\"20\"+str(i)+str(j))\n",
        "        f = open('datasets/turmas/turmas-20'+str(i)+str(j)+'.csv')\n",
        "        d = f.read()\n",
        "        d = d.replace(\"\\n\",\"\")\n",
        "        x = d.split(\"\\\";\\\"\")\n",
        "        a = []\n",
        "        step = 25\n",
        "        for b in range(0, len(x), step):\n",
        "            a.append(x[b:b+step])\n",
        "        df = pd.DataFrame(a[1:],columns=['id_turma']+a[0][1:])\n",
        "        df_turmas = pd.concat([df_turmas, df])\n",
        "        \n",
        "# conversoes\n",
        "df_turmas['id_turma'] = df_turmas.id_turma.astype(int)\n",
        "df_turmas['id_componente_curricular'] = df_turmas.id_componente_curricular.astype(int)\n",
        "df_turmas['ano'] = df_turmas.ano.astype(int)\n",
        "df_turmas['periodo'] = df_turmas.periodo.astype(int)\n",
        "        \n",
        "print(\"\\nDataFrame dos dados das Turmas:\")\n",
        "print(df_turmas.shape)\n",
        "display(df_turmas.head())"
      ],
      "execution_count": 6,
      "outputs": [
        {
          "output_type": "stream",
          "text": [
            "20151\n",
            "20152\n",
            "20161\n",
            "20162\n",
            "20171\n",
            "20172\n",
            "\n",
            "DataFrame dos dados das Turmas:\n",
            "(86527, 25)\n"
          ],
          "name": "stdout"
        },
        {
          "output_type": "display_data",
          "data": {
            "text/html": [
              "<div>\n",
              "<style scoped>\n",
              "    .dataframe tbody tr th:only-of-type {\n",
              "        vertical-align: middle;\n",
              "    }\n",
              "\n",
              "    .dataframe tbody tr th {\n",
              "        vertical-align: top;\n",
              "    }\n",
              "\n",
              "    .dataframe thead th {\n",
              "        text-align: right;\n",
              "    }\n",
              "</style>\n",
              "<table border=\"1\" class=\"dataframe\">\n",
              "  <thead>\n",
              "    <tr style=\"text-align: right;\">\n",
              "      <th></th>\n",
              "      <th>id_turma</th>\n",
              "      <th>codigo_turma</th>\n",
              "      <th>id_docente_interno</th>\n",
              "      <th>id_docente_externo</th>\n",
              "      <th>observacao</th>\n",
              "      <th>id_componente_curricular</th>\n",
              "      <th>nivel_ensino</th>\n",
              "      <th>campus_turma</th>\n",
              "      <th>local</th>\n",
              "      <th>ano</th>\n",
              "      <th>...</th>\n",
              "      <th>capacidade_aluno</th>\n",
              "      <th>tipo</th>\n",
              "      <th>distancia</th>\n",
              "      <th>data_consolidacao</th>\n",
              "      <th>agrupadora</th>\n",
              "      <th>id_turma_agrupadora</th>\n",
              "      <th>qtd_aulas_lancadas</th>\n",
              "      <th>situacao_turma</th>\n",
              "      <th>convenio</th>\n",
              "      <th>modalidade_participantes</th>\n",
              "    </tr>\n",
              "  </thead>\n",
              "  <tbody>\n",
              "    <tr>\n",
              "      <th>0</th>\n",
              "      <td>1217099</td>\n",
              "      <td>01</td>\n",
              "      <td>18225</td>\n",
              "      <td></td>\n",
              "      <td></td>\n",
              "      <td>52922</td>\n",
              "      <td>LATO SENSU</td>\n",
              "      <td></td>\n",
              "      <td>Depto. de Oceanografia e Limnologia</td>\n",
              "      <td>2015</td>\n",
              "      <td>...</td>\n",
              "      <td>26</td>\n",
              "      <td>REGULAR</td>\n",
              "      <td>f</td>\n",
              "      <td>2015-06-01 12:53:14.625</td>\n",
              "      <td>f</td>\n",
              "      <td></td>\n",
              "      <td>15</td>\n",
              "      <td>CONSOLIDADA</td>\n",
              "      <td></td>\n",
              "      <td>Presencial</td>\n",
              "    </tr>\n",
              "    <tr>\n",
              "      <th>1</th>\n",
              "      <td>1217100</td>\n",
              "      <td>01</td>\n",
              "      <td>18695</td>\n",
              "      <td></td>\n",
              "      <td></td>\n",
              "      <td>52921</td>\n",
              "      <td>LATO SENSU</td>\n",
              "      <td></td>\n",
              "      <td>Depto. de Oceanografia e Limnologia</td>\n",
              "      <td>2015</td>\n",
              "      <td>...</td>\n",
              "      <td>26</td>\n",
              "      <td>REGULAR</td>\n",
              "      <td>f</td>\n",
              "      <td>2015-10-08 16:19:21.901</td>\n",
              "      <td>f</td>\n",
              "      <td></td>\n",
              "      <td>8</td>\n",
              "      <td>CONSOLIDADA</td>\n",
              "      <td></td>\n",
              "      <td>Presencial</td>\n",
              "    </tr>\n",
              "    <tr>\n",
              "      <th>2</th>\n",
              "      <td>1217101</td>\n",
              "      <td>01</td>\n",
              "      <td>5753068</td>\n",
              "      <td></td>\n",
              "      <td></td>\n",
              "      <td>52925</td>\n",
              "      <td>LATO SENSU</td>\n",
              "      <td></td>\n",
              "      <td>Depto. de Oceanografia e Limnologia</td>\n",
              "      <td>2015</td>\n",
              "      <td>...</td>\n",
              "      <td>26</td>\n",
              "      <td>REGULAR</td>\n",
              "      <td>f</td>\n",
              "      <td>2015-06-01 12:50:38.962</td>\n",
              "      <td>f</td>\n",
              "      <td></td>\n",
              "      <td>30</td>\n",
              "      <td>CONSOLIDADA</td>\n",
              "      <td></td>\n",
              "      <td>Presencial</td>\n",
              "    </tr>\n",
              "    <tr>\n",
              "      <th>3</th>\n",
              "      <td>1217102</td>\n",
              "      <td>01</td>\n",
              "      <td></td>\n",
              "      <td>109565716</td>\n",
              "      <td></td>\n",
              "      <td>52920</td>\n",
              "      <td>LATO SENSU</td>\n",
              "      <td></td>\n",
              "      <td>Depto. de Oceanografia e Limnologia</td>\n",
              "      <td>2015</td>\n",
              "      <td>...</td>\n",
              "      <td>26</td>\n",
              "      <td>REGULAR</td>\n",
              "      <td>f</td>\n",
              "      <td>2015-08-26 11:48:34.146</td>\n",
              "      <td>f</td>\n",
              "      <td></td>\n",
              "      <td>24</td>\n",
              "      <td>CONSOLIDADA</td>\n",
              "      <td></td>\n",
              "      <td>Presencial</td>\n",
              "    </tr>\n",
              "    <tr>\n",
              "      <th>4</th>\n",
              "      <td>1217102</td>\n",
              "      <td>01</td>\n",
              "      <td></td>\n",
              "      <td>109565745</td>\n",
              "      <td></td>\n",
              "      <td>52920</td>\n",
              "      <td>LATO SENSU</td>\n",
              "      <td></td>\n",
              "      <td>Depto. de Oceanografia e Limnologia</td>\n",
              "      <td>2015</td>\n",
              "      <td>...</td>\n",
              "      <td>26</td>\n",
              "      <td>REGULAR</td>\n",
              "      <td>f</td>\n",
              "      <td>2015-08-26 11:48:34.146</td>\n",
              "      <td>f</td>\n",
              "      <td></td>\n",
              "      <td>24</td>\n",
              "      <td>CONSOLIDADA</td>\n",
              "      <td></td>\n",
              "      <td>Presencial</td>\n",
              "    </tr>\n",
              "  </tbody>\n",
              "</table>\n",
              "<p>5 rows × 25 columns</p>\n",
              "</div>"
            ],
            "text/plain": [
              "   id_turma codigo_turma id_docente_interno id_docente_externo observacao  \\\n",
              "0   1217099           01              18225                                 \n",
              "1   1217100           01              18695                                 \n",
              "2   1217101           01            5753068                                 \n",
              "3   1217102           01                             109565716              \n",
              "4   1217102           01                             109565745              \n",
              "\n",
              "   id_componente_curricular nivel_ensino campus_turma  \\\n",
              "0                     52922   LATO SENSU                \n",
              "1                     52921   LATO SENSU                \n",
              "2                     52925   LATO SENSU                \n",
              "3                     52920   LATO SENSU                \n",
              "4                     52920   LATO SENSU                \n",
              "\n",
              "                                 local   ano           ...             \\\n",
              "0  Depto. de Oceanografia e Limnologia  2015           ...              \n",
              "1  Depto. de Oceanografia e Limnologia  2015           ...              \n",
              "2  Depto. de Oceanografia e Limnologia  2015           ...              \n",
              "3  Depto. de Oceanografia e Limnologia  2015           ...              \n",
              "4  Depto. de Oceanografia e Limnologia  2015           ...              \n",
              "\n",
              "   capacidade_aluno     tipo distancia        data_consolidacao agrupadora  \\\n",
              "0                26  REGULAR         f  2015-06-01 12:53:14.625          f   \n",
              "1                26  REGULAR         f  2015-10-08 16:19:21.901          f   \n",
              "2                26  REGULAR         f  2015-06-01 12:50:38.962          f   \n",
              "3                26  REGULAR         f  2015-08-26 11:48:34.146          f   \n",
              "4                26  REGULAR         f  2015-08-26 11:48:34.146          f   \n",
              "\n",
              "  id_turma_agrupadora qtd_aulas_lancadas situacao_turma convenio  \\\n",
              "0                                     15    CONSOLIDADA            \n",
              "1                                      8    CONSOLIDADA            \n",
              "2                                     30    CONSOLIDADA            \n",
              "3                                     24    CONSOLIDADA            \n",
              "4                                     24    CONSOLIDADA            \n",
              "\n",
              "  modalidade_participantes  \n",
              "0               Presencial  \n",
              "1               Presencial  \n",
              "2               Presencial  \n",
              "3               Presencial  \n",
              "4               Presencial  \n",
              "\n",
              "[5 rows x 25 columns]"
            ]
          },
          "metadata": {
            "tags": []
          }
        }
      ]
    },
    {
      "metadata": {
        "id": "y09u4qtaWGgg",
        "colab_type": "text"
      },
      "cell_type": "markdown",
      "source": [
        "O dataset acima possui a relação de turmas dos cursos de nível médio, técnio, graduação e pós-graduação da UFRN. Suas colunas são:\n",
        "- **id_turma**: Identificador da turma.\n",
        "- **codigo_turma**: Código de identificação da turma.\n",
        "- **id_docente_interno**: Identificador do docente interno (id_servidor - caso seja um docente servidor da instituição).\n",
        "- **id_docente_externo**: Identificador do docente externo (caso não seja um docente servidor da instituição).\n",
        "- **observação**: Observação para a turma.\n",
        "- **id_componente_curricular**: Identificador do componente curricular da turma.\n",
        "- **nível**: Nível de ensino da turma.\n",
        "- **campus_turma**: Campus onde a turma é ofertada.\n",
        "- **local**: Local físico de oferta da turma.\n",
        "- **ano**: Ano de oferta da turma.\n",
        "- **período**: Período de oferta da turma.\n",
        "- **data_início**: Data de início da turma.\n",
        "- **data_fim**: Data de término da turma.\n",
        "- **descrição_horário**: Descrição textual da expressão de horário.\n",
        "- **total_solicitações**: Total de solicitações de matrícula cadastradas para a turma.\n",
        "- **capacidade_aluno**: Capacidade de discentes na turma.\n",
        "- **tipo**: Identificador para informar o tipo da Turma.\n",
        "- **distância**: Condicional para informar se a turma é oferta na\n",
        "modalidade a distância.\n",
        "- **data_consolidação**: Data de consolidação da turma.\n",
        "- **agrupadora**: Condicional para informar se a turma funciona\n",
        "como agrupadora para subturmas.\n",
        "- **id_turma_agrupadora**: Corresponde ao id_turma da agrupadora desta turma.\n",
        "- **qtd_aulas_lançadas**: Quantitativo de aulas lançadas pelo docente.\n",
        "- **situação_turma**: Situação da turma.\n",
        "- **convênio**: Convênio de vínculo com a turma\n",
        "- **modalidade_participantes**: Modalidade de educação para alunos destinados a turma."
      ]
    },
    {
      "metadata": {
        "id": "GN2ppc_UY-Cx",
        "colab_type": "code",
        "colab": {
          "base_uri": "https://localhost:8080/",
          "height": 538
        },
        "outputId": "a5d6e1eb-d529-4771-83fe-b737135ad24c"
      },
      "cell_type": "code",
      "source": [
        "df_turmas.info()"
      ],
      "execution_count": 17,
      "outputs": [
        {
          "output_type": "stream",
          "text": [
            "<class 'pandas.core.frame.DataFrame'>\n",
            "Int64Index: 86527 entries, 0 to 14471\n",
            "Data columns (total 25 columns):\n",
            "id_turma                    86527 non-null int64\n",
            "codigo_turma                86527 non-null object\n",
            "id_docente_interno          86527 non-null object\n",
            "id_docente_externo          86527 non-null object\n",
            "observacao                  86527 non-null object\n",
            "id_componente_curricular    86527 non-null int64\n",
            "nivel_ensino                86527 non-null object\n",
            "campus_turma                86527 non-null object\n",
            "local                       86527 non-null object\n",
            "ano                         86527 non-null int64\n",
            "periodo                     86527 non-null int64\n",
            "data_inicio                 86527 non-null object\n",
            "data_fim                    86527 non-null object\n",
            "descricao_horario           86527 non-null object\n",
            "total_solicitacoes          86527 non-null object\n",
            "capacidade_aluno            86527 non-null object\n",
            "tipo                        86527 non-null object\n",
            "distancia                   86527 non-null object\n",
            "data_consolidacao           86527 non-null object\n",
            "agrupadora                  86527 non-null object\n",
            "id_turma_agrupadora         86527 non-null object\n",
            "qtd_aulas_lancadas          86527 non-null object\n",
            "situacao_turma              86527 non-null object\n",
            "convenio                    86527 non-null object\n",
            "modalidade_participantes    86527 non-null object\n",
            "dtypes: int64(4), object(21)\n",
            "memory usage: 17.2+ MB\n"
          ],
          "name": "stdout"
        }
      ]
    },
    {
      "metadata": {
        "id": "xEwNqxhtZGSi",
        "colab_type": "text"
      },
      "cell_type": "markdown",
      "source": [
        "- É possível observar que esse dataset não possui dados nulos."
      ]
    },
    {
      "metadata": {
        "id": "xRJqArsNZwod",
        "colab_type": "code",
        "colab": {
          "base_uri": "https://localhost:8080/",
          "height": 493
        },
        "outputId": "3979d8de-7243-4d3f-cfbe-5f8a870ff17a"
      },
      "cell_type": "code",
      "source": [
        "# tabela dos cursos de graduação da UFRN\n",
        "cursos = pd.read_csv('datasets/cursos-graduacao.csv',sep=';')\n",
        "\n",
        "print(\"Tabela dos cursos de graduação da UFRN:\")\n",
        "print(cursos.shape)\n",
        "display(cursos.head())"
      ],
      "execution_count": 7,
      "outputs": [
        {
          "output_type": "stream",
          "text": [
            "Tabela dos cursos de graduação da UFRN:\n",
            "(116, 23)\n"
          ],
          "name": "stdout"
        },
        {
          "output_type": "display_data",
          "data": {
            "text/html": [
              "<div>\n",
              "<style scoped>\n",
              "    .dataframe tbody tr th:only-of-type {\n",
              "        vertical-align: middle;\n",
              "    }\n",
              "\n",
              "    .dataframe tbody tr th {\n",
              "        vertical-align: top;\n",
              "    }\n",
              "\n",
              "    .dataframe thead th {\n",
              "        text-align: right;\n",
              "    }\n",
              "</style>\n",
              "<table border=\"1\" class=\"dataframe\">\n",
              "  <thead>\n",
              "    <tr style=\"text-align: right;\">\n",
              "      <th></th>\n",
              "      <th>id_curso</th>\n",
              "      <th>nome</th>\n",
              "      <th>id_coordenador</th>\n",
              "      <th>coordenador</th>\n",
              "      <th>situacao_curso</th>\n",
              "      <th>nivel_ensino</th>\n",
              "      <th>grau_academico</th>\n",
              "      <th>modalidade_educacao</th>\n",
              "      <th>area_conhecimento</th>\n",
              "      <th>tipo_oferta</th>\n",
              "      <th>...</th>\n",
              "      <th>campus</th>\n",
              "      <th>id_unidade_responsavel</th>\n",
              "      <th>unidade_responsavel</th>\n",
              "      <th>website</th>\n",
              "      <th>data_funcionamento</th>\n",
              "      <th>codigo_inep</th>\n",
              "      <th>dou</th>\n",
              "      <th>portaria_reconhecimento</th>\n",
              "      <th>convenio_academico</th>\n",
              "      <th>Unnamed: 22</th>\n",
              "    </tr>\n",
              "  </thead>\n",
              "  <tbody>\n",
              "    <tr>\n",
              "      <th>0</th>\n",
              "      <td>2000004</td>\n",
              "      <td>ADMINISTRAÇÃO</td>\n",
              "      <td>24415.0</td>\n",
              "      <td>ANDREA CRISTINA SANTOS DE JESUS</td>\n",
              "      <td>ATIVO</td>\n",
              "      <td>GRADUAÇÃO</td>\n",
              "      <td>BACHARELADO</td>\n",
              "      <td>Presencial</td>\n",
              "      <td>Ciências Sociais Aplicadas</td>\n",
              "      <td>Regular</td>\n",
              "      <td>...</td>\n",
              "      <td>Campus Currais Novos</td>\n",
              "      <td>1482</td>\n",
              "      <td>CENTRO DE  ENSINO SUPERIOR DO SERIDÓ</td>\n",
              "      <td>NaN</td>\n",
              "      <td>1978-09-15</td>\n",
              "      <td>12355.0</td>\n",
              "      <td>2017-04-04</td>\n",
              "      <td>Portaria nº 272/2017 - MEC</td>\n",
              "      <td>NaN</td>\n",
              "      <td>NaN</td>\n",
              "    </tr>\n",
              "    <tr>\n",
              "      <th>1</th>\n",
              "      <td>15315770</td>\n",
              "      <td>ADMINISTRAÇÃO PÚBLICA</td>\n",
              "      <td>23122.0</td>\n",
              "      <td>MATILDE MEDEIROS DE ARAÚJO</td>\n",
              "      <td>ATIVO</td>\n",
              "      <td>GRADUAÇÃO</td>\n",
              "      <td>BACHARELADO</td>\n",
              "      <td>A Distância</td>\n",
              "      <td>Ciências Sociais Aplicadas</td>\n",
              "      <td>Regular</td>\n",
              "      <td>...</td>\n",
              "      <td>NaN</td>\n",
              "      <td>443</td>\n",
              "      <td>CENTRO DE CIÊNCIAS SOCIAIS APLICADAS</td>\n",
              "      <td>NaN</td>\n",
              "      <td>NaN</td>\n",
              "      <td>1151028.0</td>\n",
              "      <td>2014-04-11</td>\n",
              "      <td>Portaria nº 226/2014 - DIREG/MEC</td>\n",
              "      <td>NaN</td>\n",
              "      <td>NaN</td>\n",
              "    </tr>\n",
              "    <tr>\n",
              "      <th>2</th>\n",
              "      <td>2576632</td>\n",
              "      <td>AGRONOMIA</td>\n",
              "      <td>5758350.0</td>\n",
              "      <td>JOSE HAMILTON DA COSTA FILHO</td>\n",
              "      <td>ATIVO</td>\n",
              "      <td>GRADUAÇÃO</td>\n",
              "      <td>BACHARELADO</td>\n",
              "      <td>Presencial</td>\n",
              "      <td>Ciências Agrárias</td>\n",
              "      <td>Regular</td>\n",
              "      <td>...</td>\n",
              "      <td>NaN</td>\n",
              "      <td>351</td>\n",
              "      <td>ESCOLA AGRÍCOLA DE JUNDIAÍ</td>\n",
              "      <td>NaN</td>\n",
              "      <td>NaN</td>\n",
              "      <td>1127694.0</td>\n",
              "      <td>2018-03-02</td>\n",
              "      <td>Portaria Nº 133/2018 - MEC</td>\n",
              "      <td>NaN</td>\n",
              "      <td>NaN</td>\n",
              "    </tr>\n",
              "    <tr>\n",
              "      <th>3</th>\n",
              "      <td>94598200</td>\n",
              "      <td>ANÁLISE E DESENVOLVIMENTO DE SISTEMAS</td>\n",
              "      <td>5757908.0</td>\n",
              "      <td>TANIRO CHACON RODRIGUES</td>\n",
              "      <td>ATIVO</td>\n",
              "      <td>GRADUAÇÃO</td>\n",
              "      <td>TECNOLÓGICO</td>\n",
              "      <td>Presencial</td>\n",
              "      <td>Outra</td>\n",
              "      <td>Anual</td>\n",
              "      <td>...</td>\n",
              "      <td>NaN</td>\n",
              "      <td>351</td>\n",
              "      <td>ESCOLA AGRÍCOLA DE JUNDIAÍ</td>\n",
              "      <td>NaN</td>\n",
              "      <td>NaN</td>\n",
              "      <td>1188193.0</td>\n",
              "      <td>2015-12-24</td>\n",
              "      <td>Portaria nº 1034/2015 - DIREG/MEC</td>\n",
              "      <td>NaN</td>\n",
              "      <td>NaN</td>\n",
              "    </tr>\n",
              "    <tr>\n",
              "      <th>4</th>\n",
              "      <td>2000005</td>\n",
              "      <td>ARQUITETURA E URBANISMO</td>\n",
              "      <td>5756800.0</td>\n",
              "      <td>GLAUCE LILIAN ALVES DE ALBUQUERQUE</td>\n",
              "      <td>ATIVO</td>\n",
              "      <td>GRADUAÇÃO</td>\n",
              "      <td>BACHARELADO</td>\n",
              "      <td>Presencial</td>\n",
              "      <td>Engenharias</td>\n",
              "      <td>Regular</td>\n",
              "      <td>...</td>\n",
              "      <td>Campus Central</td>\n",
              "      <td>445</td>\n",
              "      <td>CENTRO DE TECNOLOGIA</td>\n",
              "      <td>NaN</td>\n",
              "      <td>1973-08-13</td>\n",
              "      <td>12343.0</td>\n",
              "      <td>2015-12-30</td>\n",
              "      <td>Portaria nº 1098/2015 - DIREG/MEC</td>\n",
              "      <td>NaN</td>\n",
              "      <td>NaN</td>\n",
              "    </tr>\n",
              "  </tbody>\n",
              "</table>\n",
              "<p>5 rows × 23 columns</p>\n",
              "</div>"
            ],
            "text/plain": [
              "   id_curso                                   nome  id_coordenador  \\\n",
              "0   2000004                          ADMINISTRAÇÃO         24415.0   \n",
              "1  15315770                  ADMINISTRAÇÃO PÚBLICA         23122.0   \n",
              "2   2576632                              AGRONOMIA       5758350.0   \n",
              "3  94598200  ANÁLISE E DESENVOLVIMENTO DE SISTEMAS       5757908.0   \n",
              "4   2000005                ARQUITETURA E URBANISMO       5756800.0   \n",
              "\n",
              "                          coordenador situacao_curso nivel_ensino  \\\n",
              "0     ANDREA CRISTINA SANTOS DE JESUS          ATIVO    GRADUAÇÃO   \n",
              "1          MATILDE MEDEIROS DE ARAÚJO          ATIVO    GRADUAÇÃO   \n",
              "2        JOSE HAMILTON DA COSTA FILHO          ATIVO    GRADUAÇÃO   \n",
              "3             TANIRO CHACON RODRIGUES          ATIVO    GRADUAÇÃO   \n",
              "4  GLAUCE LILIAN ALVES DE ALBUQUERQUE          ATIVO    GRADUAÇÃO   \n",
              "\n",
              "  grau_academico modalidade_educacao           area_conhecimento tipo_oferta  \\\n",
              "0    BACHARELADO          Presencial  Ciências Sociais Aplicadas     Regular   \n",
              "1    BACHARELADO         A Distância  Ciências Sociais Aplicadas     Regular   \n",
              "2    BACHARELADO          Presencial           Ciências Agrárias     Regular   \n",
              "3    TECNOLÓGICO          Presencial                       Outra       Anual   \n",
              "4    BACHARELADO          Presencial                 Engenharias     Regular   \n",
              "\n",
              "      ...                    campus id_unidade_responsavel  \\\n",
              "0     ...      Campus Currais Novos                   1482   \n",
              "1     ...                       NaN                    443   \n",
              "2     ...                       NaN                    351   \n",
              "3     ...                       NaN                    351   \n",
              "4     ...            Campus Central                    445   \n",
              "\n",
              "                    unidade_responsavel website  data_funcionamento  \\\n",
              "0  CENTRO DE  ENSINO SUPERIOR DO SERIDÓ     NaN          1978-09-15   \n",
              "1  CENTRO DE CIÊNCIAS SOCIAIS APLICADAS     NaN                 NaN   \n",
              "2            ESCOLA AGRÍCOLA DE JUNDIAÍ     NaN                 NaN   \n",
              "3            ESCOLA AGRÍCOLA DE JUNDIAÍ     NaN                 NaN   \n",
              "4                  CENTRO DE TECNOLOGIA     NaN          1973-08-13   \n",
              "\n",
              "  codigo_inep         dou            portaria_reconhecimento  \\\n",
              "0     12355.0  2017-04-04         Portaria nº 272/2017 - MEC   \n",
              "1   1151028.0  2014-04-11   Portaria nº 226/2014 - DIREG/MEC   \n",
              "2   1127694.0  2018-03-02         Portaria Nº 133/2018 - MEC   \n",
              "3   1188193.0  2015-12-24  Portaria nº 1034/2015 - DIREG/MEC   \n",
              "4     12343.0  2015-12-30  Portaria nº 1098/2015 - DIREG/MEC   \n",
              "\n",
              "   convenio_academico Unnamed: 22  \n",
              "0                 NaN         NaN  \n",
              "1                 NaN         NaN  \n",
              "2                 NaN         NaN  \n",
              "3                 NaN         NaN  \n",
              "4                 NaN         NaN  \n",
              "\n",
              "[5 rows x 23 columns]"
            ]
          },
          "metadata": {
            "tags": []
          }
        }
      ]
    },
    {
      "metadata": {
        "id": "fGPtu6absiy7",
        "colab_type": "text"
      },
      "cell_type": "markdown",
      "source": [
        "Acima tem-se a relação dos cursos de graduação, onde suas colunas são:\n",
        "- **id_curso**: Identificador do curso.\n",
        "- **nome**: Nome do curso.\n",
        "- **id_coordenador**: Identificador do coordenador (id_servidor) do curso.\n",
        "- **coordenador**: Nome do coordenador do curso.\n",
        "- **situacao_curso**: Situação de controle curso.\n",
        "- **nivel_ensino**: Nível de ensino do curso.\n",
        "- **grau_academico**: Grau acadêmico do curso. \n",
        "- **modalidade_educacao**: Modalidade de educação em relação a forma de oferta.\n",
        "- **area_conhecimento**: Área de conhecimento do curso.\n",
        "- **tipo_oferta**: Tipo de oferta do curso.\n",
        "- **turno**: Turno do curso.\n",
        "- **tipo_ciclo_formacao**: Ciclo de formação do curso: Um ciclo ou Dois\n",
        "ciclos.\n",
        "- **municipio**: Município de atuação do curso.\n",
        "- **campus**: Campus onde é oferecido o curso.\n",
        "- **id_unidade_responsavel**: Identificador da unidade acadêmica responsável pelo curso.\n",
        "- **unidade_responsavel**: Unidade acadêmica responsável pelo curso.\n",
        "- **website**: Site contendo mais informação sobre o curso.\n",
        "- **data_funcionamento**: Data de inicio de funcionamento do curso.\n",
        "- **codigo_inep**: Código INEP do curso junto ao MEC.\n",
        "- **dou**: Data da portaria de liberação do curso.\n",
        "- **portaria_reconhecimento**: Portaria de reconhecimento junto ao MEC.\n",
        "- **convenio_academico**: Convênio acadêmico do curso.\n"
      ]
    },
    {
      "metadata": {
        "id": "heE6cdkksf2Z",
        "colab_type": "code",
        "colab": {
          "base_uri": "https://localhost:8080/",
          "height": 503
        },
        "outputId": "86816a7f-421b-4345-f0ed-80bce33a303b"
      },
      "cell_type": "code",
      "source": [
        "cursos.info()"
      ],
      "execution_count": 19,
      "outputs": [
        {
          "output_type": "stream",
          "text": [
            "<class 'pandas.core.frame.DataFrame'>\n",
            "RangeIndex: 116 entries, 0 to 115\n",
            "Data columns (total 23 columns):\n",
            "id_curso                   116 non-null int64\n",
            "nome                       116 non-null object\n",
            "id_coordenador             114 non-null float64\n",
            "coordenador                114 non-null object\n",
            "situacao_curso             116 non-null object\n",
            "nivel_ensino               116 non-null object\n",
            "grau_academico             116 non-null object\n",
            "modalidade_educacao        116 non-null object\n",
            "area_conhecimento          116 non-null object\n",
            "tipo_oferta                116 non-null object\n",
            "turno                      70 non-null object\n",
            "tipo_ciclo_formacao        116 non-null object\n",
            "municipio                  116 non-null object\n",
            "campus                     65 non-null object\n",
            "id_unidade_responsavel     116 non-null int64\n",
            "unidade_responsavel        116 non-null object\n",
            "website                    68 non-null object\n",
            "data_funcionamento         70 non-null object\n",
            "codigo_inep                115 non-null float64\n",
            "dou                        111 non-null object\n",
            "portaria_reconhecimento    111 non-null object\n",
            "convenio_academico         3 non-null object\n",
            "Unnamed: 22                0 non-null float64\n",
            "dtypes: float64(3), int64(2), object(18)\n",
            "memory usage: 20.9+ KB\n"
          ],
          "name": "stdout"
        }
      ]
    },
    {
      "metadata": {
        "id": "HP9nmxDDa1T5",
        "colab_type": "code",
        "colab": {
          "base_uri": "https://localhost:8080/",
          "height": 443
        },
        "outputId": "b5615fc1-e5af-4d39-ef82-fb05a4bff86f"
      },
      "cell_type": "code",
      "source": [
        "# tabela dos componentes curriculares presenciais dos cursos da UFRN\n",
        "componentes = pd.read_csv('datasets/componentes-curriculares-presenciais.csv')\n",
        "\n",
        "print(\"\\nTabela dos componentes curriculares presenciais dos cursos:\")\n",
        "print(componentes.shape)\n",
        "display(componentes.head())"
      ],
      "execution_count": 8,
      "outputs": [
        {
          "output_type": "stream",
          "text": [
            "\n",
            "Tabela dos componentes curriculares presenciais dos cursos:\n",
            "(34951, 30)\n"
          ],
          "name": "stdout"
        },
        {
          "output_type": "display_data",
          "data": {
            "text/html": [
              "<div>\n",
              "<style scoped>\n",
              "    .dataframe tbody tr th:only-of-type {\n",
              "        vertical-align: middle;\n",
              "    }\n",
              "\n",
              "    .dataframe tbody tr th {\n",
              "        vertical-align: top;\n",
              "    }\n",
              "\n",
              "    .dataframe thead th {\n",
              "        text-align: right;\n",
              "    }\n",
              "</style>\n",
              "<table border=\"1\" class=\"dataframe\">\n",
              "  <thead>\n",
              "    <tr style=\"text-align: right;\">\n",
              "      <th></th>\n",
              "      <th>Unnamed: 0</th>\n",
              "      <th>id_componente</th>\n",
              "      <th>tipo_componente</th>\n",
              "      <th>codigo</th>\n",
              "      <th>nivel</th>\n",
              "      <th>nome</th>\n",
              "      <th>unidade_responsavel</th>\n",
              "      <th>ch_teorico</th>\n",
              "      <th>ch_pratico</th>\n",
              "      <th>ch_estagio</th>\n",
              "      <th>...</th>\n",
              "      <th>ementa</th>\n",
              "      <th>bibliografia</th>\n",
              "      <th>objetivos</th>\n",
              "      <th>conteudo</th>\n",
              "      <th>competencias_habilidades</th>\n",
              "      <th>referencias</th>\n",
              "      <th>ano_programa</th>\n",
              "      <th>periodo_programa</th>\n",
              "      <th>modalidade</th>\n",
              "      <th>curso_componente</th>\n",
              "    </tr>\n",
              "  </thead>\n",
              "  <tbody>\n",
              "    <tr>\n",
              "      <th>0</th>\n",
              "      <td>0</td>\n",
              "      <td>18643</td>\n",
              "      <td>DISCIPLINA</td>\n",
              "      <td>MUT508</td>\n",
              "      <td>T</td>\n",
              "      <td>COMPOSIÇÃO EM MÚSICA POPULAR III</td>\n",
              "      <td>ESCOLA DE MÚSICA</td>\n",
              "      <td>60</td>\n",
              "      <td>0</td>\n",
              "      <td>0</td>\n",
              "      <td>...</td>\n",
              "      <td>NaN</td>\n",
              "      <td>NaN</td>\n",
              "      <td>NaN</td>\n",
              "      <td>NaN</td>\n",
              "      <td>NaN</td>\n",
              "      <td>NaN</td>\n",
              "      <td>NaN</td>\n",
              "      <td>NaN</td>\n",
              "      <td>Presencial</td>\n",
              "      <td>NaN</td>\n",
              "    </tr>\n",
              "    <tr>\n",
              "      <th>1</th>\n",
              "      <td>1</td>\n",
              "      <td>18644</td>\n",
              "      <td>DISCIPLINA</td>\n",
              "      <td>MUT516</td>\n",
              "      <td>T</td>\n",
              "      <td>CO-REPETIÇÃO</td>\n",
              "      <td>ESCOLA DE MÚSICA</td>\n",
              "      <td>30</td>\n",
              "      <td>0</td>\n",
              "      <td>0</td>\n",
              "      <td>...</td>\n",
              "      <td>NaN</td>\n",
              "      <td>NaN</td>\n",
              "      <td>NaN</td>\n",
              "      <td>NaN</td>\n",
              "      <td>NaN</td>\n",
              "      <td>NaN</td>\n",
              "      <td>NaN</td>\n",
              "      <td>NaN</td>\n",
              "      <td>Presencial</td>\n",
              "      <td>NaN</td>\n",
              "    </tr>\n",
              "    <tr>\n",
              "      <th>2</th>\n",
              "      <td>2</td>\n",
              "      <td>18645</td>\n",
              "      <td>DISCIPLINA</td>\n",
              "      <td>MUT520</td>\n",
              "      <td>T</td>\n",
              "      <td>CONTRABAIXO ACÚSTICO I</td>\n",
              "      <td>ESCOLA DE MÚSICA</td>\n",
              "      <td>30</td>\n",
              "      <td>0</td>\n",
              "      <td>0</td>\n",
              "      <td>...</td>\n",
              "      <td>NaN</td>\n",
              "      <td>NaN</td>\n",
              "      <td>NaN</td>\n",
              "      <td>NaN</td>\n",
              "      <td>NaN</td>\n",
              "      <td>NaN</td>\n",
              "      <td>NaN</td>\n",
              "      <td>NaN</td>\n",
              "      <td>Presencial</td>\n",
              "      <td>NaN</td>\n",
              "    </tr>\n",
              "    <tr>\n",
              "      <th>3</th>\n",
              "      <td>3</td>\n",
              "      <td>18646</td>\n",
              "      <td>DISCIPLINA</td>\n",
              "      <td>MUT165</td>\n",
              "      <td>T</td>\n",
              "      <td>PIANO COMPLEMENTAR I</td>\n",
              "      <td>ESCOLA DE MÚSICA</td>\n",
              "      <td>15</td>\n",
              "      <td>0</td>\n",
              "      <td>0</td>\n",
              "      <td>...</td>\n",
              "      <td>NaN</td>\n",
              "      <td>NaN</td>\n",
              "      <td>NaN</td>\n",
              "      <td>NaN</td>\n",
              "      <td>NaN</td>\n",
              "      <td>NaN</td>\n",
              "      <td>NaN</td>\n",
              "      <td>NaN</td>\n",
              "      <td>Presencial</td>\n",
              "      <td>NaN</td>\n",
              "    </tr>\n",
              "    <tr>\n",
              "      <th>4</th>\n",
              "      <td>4</td>\n",
              "      <td>18647</td>\n",
              "      <td>DISCIPLINA</td>\n",
              "      <td>MUT167</td>\n",
              "      <td>T</td>\n",
              "      <td>PIANO COMPLEMENTAR III</td>\n",
              "      <td>ESCOLA DE MÚSICA</td>\n",
              "      <td>15</td>\n",
              "      <td>0</td>\n",
              "      <td>0</td>\n",
              "      <td>...</td>\n",
              "      <td>NaN</td>\n",
              "      <td>NaN</td>\n",
              "      <td>NaN</td>\n",
              "      <td>NaN</td>\n",
              "      <td>NaN</td>\n",
              "      <td>NaN</td>\n",
              "      <td>NaN</td>\n",
              "      <td>NaN</td>\n",
              "      <td>Presencial</td>\n",
              "      <td>NaN</td>\n",
              "    </tr>\n",
              "  </tbody>\n",
              "</table>\n",
              "<p>5 rows × 30 columns</p>\n",
              "</div>"
            ],
            "text/plain": [
              "   Unnamed: 0  id_componente tipo_componente  codigo nivel  \\\n",
              "0           0          18643      DISCIPLINA  MUT508     T   \n",
              "1           1          18644      DISCIPLINA  MUT516     T   \n",
              "2           2          18645      DISCIPLINA  MUT520     T   \n",
              "3           3          18646      DISCIPLINA  MUT165     T   \n",
              "4           4          18647      DISCIPLINA  MUT167     T   \n",
              "\n",
              "                               nome unidade_responsavel  ch_teorico  \\\n",
              "0  COMPOSIÇÃO EM MÚSICA POPULAR III    ESCOLA DE MÚSICA          60   \n",
              "1                      CO-REPETIÇÃO    ESCOLA DE MÚSICA          30   \n",
              "2            CONTRABAIXO ACÚSTICO I    ESCOLA DE MÚSICA          30   \n",
              "3              PIANO COMPLEMENTAR I    ESCOLA DE MÚSICA          15   \n",
              "4            PIANO COMPLEMENTAR III    ESCOLA DE MÚSICA          15   \n",
              "\n",
              "   ch_pratico  ch_estagio       ...         ementa  bibliografia  objetivos  \\\n",
              "0           0           0       ...            NaN           NaN        NaN   \n",
              "1           0           0       ...            NaN           NaN        NaN   \n",
              "2           0           0       ...            NaN           NaN        NaN   \n",
              "3           0           0       ...            NaN           NaN        NaN   \n",
              "4           0           0       ...            NaN           NaN        NaN   \n",
              "\n",
              "   conteudo competencias_habilidades  referencias ano_programa  \\\n",
              "0       NaN                      NaN          NaN          NaN   \n",
              "1       NaN                      NaN          NaN          NaN   \n",
              "2       NaN                      NaN          NaN          NaN   \n",
              "3       NaN                      NaN          NaN          NaN   \n",
              "4       NaN                      NaN          NaN          NaN   \n",
              "\n",
              "  periodo_programa  modalidade curso_componente  \n",
              "0              NaN  Presencial              NaN  \n",
              "1              NaN  Presencial              NaN  \n",
              "2              NaN  Presencial              NaN  \n",
              "3              NaN  Presencial              NaN  \n",
              "4              NaN  Presencial              NaN  \n",
              "\n",
              "[5 rows x 30 columns]"
            ]
          },
          "metadata": {
            "tags": []
          }
        }
      ]
    },
    {
      "metadata": {
        "id": "wPQIaAvNud51",
        "colab_type": "text"
      },
      "cell_type": "markdown",
      "source": [
        "Relação de componentes curriculares oferecidos pela UFRN na modalidade de ensino presencial. Sendo as colunas:\n",
        "- **id_componente**: Identificador do componente curricular.\n",
        "- **tipo_componente**: Informa o tipo de componente curricular.\n",
        "- **codigo**: Código do componente curricular. \n",
        "- **nivel**: Nível de ensino acadêmico.\n",
        "- **nome**: Nome do componente.\n",
        "- **unidade_responsavel**: Unidade acadêmica de responsabilidade sobre o componente.\n",
        "- **ch_teorico**: Valor da carga horária teórica do componente.\n",
        "- **ch_pratico**: Valor da carga horária prática do componente.\n",
        "- **ch_estagio**: Valor da carga horária de estágio do componente.\n",
        "- **ch_total**: Valor da carga horária total do componente.\n",
        "- **ch_dedicada_docente**: Valor da carga horária de dedicação exclusiva do docente as turmas do componente.\n",
        "- **ch_ead**: Valor da carga horária de ensino a distância do componente.\n",
        "- **cr_max_ead**: Porcentagem máxima permitida de créditos de aula à distância em relação ao total de créditos.\n",
        "- **permite_horario_flexivel**: Indica se o componente permite horário flexível.\n",
        "- **qtd_unidades**: Número de unidades de avaliações.\n",
        "- **procedimentos_avaliacao**: Procedimentos acadêmicos utilizados para avaliação das competências dos alunos sobre o componente curricular.\n",
        "- **equivalencia**: Componentes equivalentes ao componente curricular.\n",
        "- **pre_requisito**: Componentes pré-requisitos para o componente curricular.\n",
        "- **co_requisito**: Componentes co-requisitos do componente curricular.\n",
        "- **ementa**: Ementa referente ao componente curricular.\n",
        "- **bibliografia**: Referências bibliográficas. \n",
        "- **objetivos**: Objetivos alcançados no cumprimento do componente.\n",
        "- **conteudo**: Conteúdo descritivo do componente.\n",
        "- **competencias_habilidades**: Competências e habilidade adquiridas ao término do componente curricular.\n",
        "- **referencias**: Referências de estudo para o componente.\n",
        "- **ano_programa**: Ano letivo do último conteúdo programático registrado.\n",
        "- **periodo_programa**: Período letivo do último conteúdo programático registrado.\n",
        "- **modalidade**: Modalidade de educação aplicada no componente, conforme sua natureza, se presencial ou distância.\n",
        "- **curso_componente**: Lista de cursos que utilizam o componente em sua estrutura curricular."
      ]
    },
    {
      "metadata": {
        "id": "hZoH8rABuSvI",
        "colab_type": "code",
        "colab": {
          "base_uri": "https://localhost:8080/",
          "height": 625
        },
        "outputId": "d14c9c39-fb94-402b-c56e-3cc95ccca5b8"
      },
      "cell_type": "code",
      "source": [
        "componentes.info()"
      ],
      "execution_count": 21,
      "outputs": [
        {
          "output_type": "stream",
          "text": [
            "<class 'pandas.core.frame.DataFrame'>\n",
            "RangeIndex: 34951 entries, 0 to 34950\n",
            "Data columns (total 30 columns):\n",
            "Unnamed: 0                  34951 non-null int64\n",
            "id_componente               34951 non-null int64\n",
            "tipo_componente             34951 non-null object\n",
            "codigo                      34951 non-null object\n",
            "nivel                       34951 non-null object\n",
            "nome                        34950 non-null object\n",
            "unidade_responsavel         34951 non-null object\n",
            "ch_teorico                  34951 non-null int64\n",
            "ch_pratico                  34951 non-null int64\n",
            "ch_estagio                  34951 non-null int64\n",
            "ch_total                    34951 non-null int64\n",
            "ch_dedicada_docente         34951 non-null int64\n",
            "ch_ead                      34951 non-null int64\n",
            "cr_max_ead                  34951 non-null int64\n",
            "permite_horario_flexivel    34951 non-null object\n",
            "qtd_unidades                28194 non-null float64\n",
            "procedimentos_avaliacao     4448 non-null object\n",
            "equivalencia                10332 non-null object\n",
            "pre_requisito               9030 non-null object\n",
            "co_requisito                870 non-null object\n",
            "ementa                      29718 non-null object\n",
            "bibliografia                0 non-null float64\n",
            "objetivos                   9737 non-null object\n",
            "conteudo                    9735 non-null object\n",
            "competencias_habilidades    9579 non-null object\n",
            "referencias                 4445 non-null object\n",
            "ano_programa                9693 non-null float64\n",
            "periodo_programa            9693 non-null float64\n",
            "modalidade                  34951 non-null object\n",
            "curso_componente            8348 non-null object\n",
            "dtypes: float64(4), int64(9), object(17)\n",
            "memory usage: 8.0+ MB\n"
          ],
          "name": "stdout"
        }
      ]
    },
    {
      "metadata": {
        "id": "JIu0SsA2bZrp",
        "colab_type": "text"
      },
      "cell_type": "markdown",
      "source": [
        "## 2.4 Filtrando os valores que importam"
      ]
    },
    {
      "metadata": {
        "id": "Bxx7CAvHbfiX",
        "colab_type": "text"
      },
      "cell_type": "markdown",
      "source": [
        "Atualmente, temos todos os dados dos anos de 2015 a 2017 dos alunos da UFRN, agora será filtrado as notas dos alunos nas turmas de Cálculo I do curso de Ciências e Tecnologia.\n",
        "\n",
        "Para obter esses dados, primeiro será preciso o ID do curso de Ciências e Tecnologia que será obtido na tabela \"cursos de graduação\"."
      ]
    },
    {
      "metadata": {
        "id": "j7NpJV1Lcfbk",
        "colab_type": "code",
        "colab": {
          "base_uri": "https://localhost:8080/",
          "height": 249
        },
        "outputId": "d55b53df-bc5b-4451-fd13-346744afe347"
      },
      "cell_type": "code",
      "source": [
        "id_cet = cursos[cursos['nome']=='CIÊNCIAS E TECNOLOGIA'].id_curso\n",
        "print(\"ID de CeT:\"+str(id_cet.values)+\"\\n\")\n",
        "\n",
        "df_matriculasCeT = df_matriculas[df_matriculas['id_curso']==float(id_cet)].reset_index()\n",
        "\n",
        "colunas = ['descricao',\t'discente',\t'faltas_unidade',\t'id_turma',\n",
        "           'media_final',\t'nota',\t'numero_total_faltas',\t'reposicao',\t'unidade']\n",
        "df_matriculasCeT = df_matriculasCeT[colunas]\n",
        "\n",
        "df_matriculasCeT.head(3)"
      ],
      "execution_count": 9,
      "outputs": [
        {
          "output_type": "stream",
          "text": [
            "ID de CeT:[10320810]\n",
            "\n"
          ],
          "name": "stdout"
        },
        {
          "output_type": "execute_result",
          "data": {
            "text/html": [
              "<div>\n",
              "<style scoped>\n",
              "    .dataframe tbody tr th:only-of-type {\n",
              "        vertical-align: middle;\n",
              "    }\n",
              "\n",
              "    .dataframe tbody tr th {\n",
              "        vertical-align: top;\n",
              "    }\n",
              "\n",
              "    .dataframe thead th {\n",
              "        text-align: right;\n",
              "    }\n",
              "</style>\n",
              "<table border=\"1\" class=\"dataframe\">\n",
              "  <thead>\n",
              "    <tr style=\"text-align: right;\">\n",
              "      <th></th>\n",
              "      <th>descricao</th>\n",
              "      <th>discente</th>\n",
              "      <th>faltas_unidade</th>\n",
              "      <th>id_turma</th>\n",
              "      <th>media_final</th>\n",
              "      <th>nota</th>\n",
              "      <th>numero_total_faltas</th>\n",
              "      <th>reposicao</th>\n",
              "      <th>unidade</th>\n",
              "    </tr>\n",
              "  </thead>\n",
              "  <tbody>\n",
              "    <tr>\n",
              "      <th>0</th>\n",
              "      <td>APROVADO POR NOTA</td>\n",
              "      <td>dbe7197a41191f5a94486623cb99d2bf</td>\n",
              "      <td>0.0</td>\n",
              "      <td>1242771</td>\n",
              "      <td>6.7</td>\n",
              "      <td>7.5</td>\n",
              "      <td>0.0</td>\n",
              "      <td>f</td>\n",
              "      <td>1.0</td>\n",
              "    </tr>\n",
              "    <tr>\n",
              "      <th>1</th>\n",
              "      <td>APROVADO POR NOTA</td>\n",
              "      <td>dbe7197a41191f5a94486623cb99d2bf</td>\n",
              "      <td>0.0</td>\n",
              "      <td>1242771</td>\n",
              "      <td>6.7</td>\n",
              "      <td>5.0</td>\n",
              "      <td>0.0</td>\n",
              "      <td>f</td>\n",
              "      <td>2.0</td>\n",
              "    </tr>\n",
              "    <tr>\n",
              "      <th>2</th>\n",
              "      <td>APROVADO POR NOTA</td>\n",
              "      <td>dbe7197a41191f5a94486623cb99d2bf</td>\n",
              "      <td>0.0</td>\n",
              "      <td>1242771</td>\n",
              "      <td>6.7</td>\n",
              "      <td>7.5</td>\n",
              "      <td>0.0</td>\n",
              "      <td>f</td>\n",
              "      <td>3.0</td>\n",
              "    </tr>\n",
              "  </tbody>\n",
              "</table>\n",
              "</div>"
            ],
            "text/plain": [
              "           descricao                          discente  faltas_unidade  \\\n",
              "0  APROVADO POR NOTA  dbe7197a41191f5a94486623cb99d2bf             0.0   \n",
              "1  APROVADO POR NOTA  dbe7197a41191f5a94486623cb99d2bf             0.0   \n",
              "2  APROVADO POR NOTA  dbe7197a41191f5a94486623cb99d2bf             0.0   \n",
              "\n",
              "   id_turma  media_final  nota  numero_total_faltas reposicao  unidade  \n",
              "0   1242771          6.7   7.5                  0.0         f      1.0  \n",
              "1   1242771          6.7   5.0                  0.0         f      2.0  \n",
              "2   1242771          6.7   7.5                  0.0         f      3.0  "
            ]
          },
          "metadata": {
            "tags": []
          },
          "execution_count": 9
        }
      ]
    },
    {
      "metadata": {
        "id": "PZJt_J_1jJH_",
        "colab_type": "text"
      },
      "cell_type": "markdown",
      "source": [
        "Através do *id_turma* de *df_matriculasCeT* será selecionada apenas os dados de cálculo I, para isso, faremos a relação de *id componente* da disciplina com *id turma* através das tabelas dos componentes curriculares e das turmas."
      ]
    },
    {
      "metadata": {
        "id": "QZAPYpSFjRkx",
        "colab_type": "code",
        "colab": {
          "base_uri": "https://localhost:8080/",
          "height": 35
        },
        "outputId": "7ac84aaf-a0a1-4019-ce46-4fff16d7be77"
      },
      "cell_type": "code",
      "source": [
        "# criando um tipo series que é composto pelos ids da disciplina cálculo I\n",
        "componente_calc = componentes[(componentes['nome']=='CÁLCULO I') & \n",
        "                            (componentes['unidade_responsavel']=='ESCOLA DE CIÊNCIAS E TECNOLOGIA')]\n",
        "\n",
        "series_idCalc = componente_calc['id_componente']\n",
        "print(series_idCalc.values)"
      ],
      "execution_count": 10,
      "outputs": [
        {
          "output_type": "stream",
          "text": [
            "[  48582   57587 2050801]\n"
          ],
          "name": "stdout"
        }
      ]
    },
    {
      "metadata": {
        "id": "_CT5e343mS5Z",
        "colab_type": "code",
        "colab": {
          "base_uri": "https://localhost:8080/",
          "height": 160
        },
        "outputId": "1ba32769-dabb-416c-93ce-4d4e48d7d786"
      },
      "cell_type": "code",
      "source": [
        "# criando um DataFrame que possui todos os ids turmas de cálculo I\n",
        "df_TurmasComp = df_turmas[['id_turma', 'id_componente_curricular','ano','periodo']]\n",
        "turmas_calc = df_TurmasComp[df_TurmasComp['id_componente_curricular'].isin(series_idCalc)].reset_index()\n",
        "print(turmas_calc.shape)\n",
        "turmas_calc.head(3)"
      ],
      "execution_count": 11,
      "outputs": [
        {
          "output_type": "stream",
          "text": [
            "(52, 5)\n"
          ],
          "name": "stdout"
        },
        {
          "output_type": "execute_result",
          "data": {
            "text/html": [
              "<div>\n",
              "<style scoped>\n",
              "    .dataframe tbody tr th:only-of-type {\n",
              "        vertical-align: middle;\n",
              "    }\n",
              "\n",
              "    .dataframe tbody tr th {\n",
              "        vertical-align: top;\n",
              "    }\n",
              "\n",
              "    .dataframe thead th {\n",
              "        text-align: right;\n",
              "    }\n",
              "</style>\n",
              "<table border=\"1\" class=\"dataframe\">\n",
              "  <thead>\n",
              "    <tr style=\"text-align: right;\">\n",
              "      <th></th>\n",
              "      <th>index</th>\n",
              "      <th>id_turma</th>\n",
              "      <th>id_componente_curricular</th>\n",
              "      <th>ano</th>\n",
              "      <th>periodo</th>\n",
              "    </tr>\n",
              "  </thead>\n",
              "  <tbody>\n",
              "    <tr>\n",
              "      <th>0</th>\n",
              "      <td>5819</td>\n",
              "      <td>1242580</td>\n",
              "      <td>57587</td>\n",
              "      <td>2015</td>\n",
              "      <td>1</td>\n",
              "    </tr>\n",
              "    <tr>\n",
              "      <th>1</th>\n",
              "      <td>5824</td>\n",
              "      <td>1242585</td>\n",
              "      <td>57587</td>\n",
              "      <td>2015</td>\n",
              "      <td>1</td>\n",
              "    </tr>\n",
              "    <tr>\n",
              "      <th>2</th>\n",
              "      <td>5828</td>\n",
              "      <td>1242589</td>\n",
              "      <td>57587</td>\n",
              "      <td>2015</td>\n",
              "      <td>1</td>\n",
              "    </tr>\n",
              "  </tbody>\n",
              "</table>\n",
              "</div>"
            ],
            "text/plain": [
              "   index  id_turma  id_componente_curricular   ano  periodo\n",
              "0   5819   1242580                     57587  2015        1\n",
              "1   5824   1242585                     57587  2015        1\n",
              "2   5828   1242589                     57587  2015        1"
            ]
          },
          "metadata": {
            "tags": []
          },
          "execution_count": 11
        }
      ]
    },
    {
      "metadata": {
        "id": "mPVxzCzIpx_-",
        "colab_type": "code",
        "colab": {
          "base_uri": "https://localhost:8080/",
          "height": 35
        },
        "outputId": "2d7deae0-536b-4165-8832-8ccebf67a973"
      },
      "cell_type": "code",
      "source": [
        "# filtrando apenas as notas de cálculo I\n",
        "df_calc = df_matriculasCeT[df_matriculasCeT['id_turma'].isin(turmas_calc['id_turma'])]\n",
        "df_calc.shape"
      ],
      "execution_count": 12,
      "outputs": [
        {
          "output_type": "execute_result",
          "data": {
            "text/plain": [
              "(19174, 9)"
            ]
          },
          "metadata": {
            "tags": []
          },
          "execution_count": 12
        }
      ]
    },
    {
      "metadata": {
        "id": "5rTfeb0nEz0t",
        "colab_type": "code",
        "colab": {
          "base_uri": "https://localhost:8080/",
          "height": 269
        },
        "outputId": "d0718522-0688-42d9-fdf8-e2f362ba9827"
      },
      "cell_type": "code",
      "source": [
        "df_calc.info()"
      ],
      "execution_count": 13,
      "outputs": [
        {
          "output_type": "stream",
          "text": [
            "<class 'pandas.core.frame.DataFrame'>\n",
            "Int64Index: 19174 entries, 2107 to 415768\n",
            "Data columns (total 9 columns):\n",
            "descricao              19174 non-null object\n",
            "discente               19174 non-null object\n",
            "faltas_unidade         15330 non-null float64\n",
            "id_turma               19174 non-null int64\n",
            "media_final            14793 non-null float64\n",
            "nota                   14842 non-null float64\n",
            "numero_total_faltas    15051 non-null float64\n",
            "reposicao              15330 non-null object\n",
            "unidade                15330 non-null float64\n",
            "dtypes: float64(5), int64(1), object(3)\n",
            "memory usage: 1.5+ MB\n"
          ],
          "name": "stdout"
        }
      ]
    },
    {
      "metadata": {
        "id": "4HbGvWVTENTu",
        "colab_type": "code",
        "colab": {}
      },
      "cell_type": "code",
      "source": [
        "# merge para pegar o período que o discente cursou a disciplina\n",
        "# e pegar apenas a primeira vez que foi cursada\n",
        "\n",
        "col_anoperiodo = (turmas_calc['ano'].map(str)+turmas_calc['periodo'].map(str))\n",
        "turmas_calc['anoperiodo'] = col_anoperiodo\n",
        "turmas_for_merge = turmas_calc[['id_turma','anoperiodo']]\n",
        "turmas_for_merge.loc['anoperiodo'] = turmas_for_merge.anoperiodo.astype(int)\n",
        "\n",
        "df_final = pd.DataFrame()\n",
        "df_final = pd.merge(df_calc,turmas_for_merge, how='inner',on='id_turma')\n",
        "df_final = df_final.sort_values(by='anoperiodo')\n",
        "# o drop_duplicates pega o primeiro que encontra e elimina o resto\n",
        "df_finalSemDup = df_final.drop_duplicates(['discente','unidade'])"
      ],
      "execution_count": 0,
      "outputs": []
    },
    {
      "metadata": {
        "id": "QXdquQijZPfM",
        "colab_type": "code",
        "colab": {
          "base_uri": "https://localhost:8080/",
          "height": 35
        },
        "outputId": "0c0597a6-9740-4831-b562-80fd2da27b0a"
      },
      "cell_type": "code",
      "source": [
        "df_finalSemDup.shape"
      ],
      "execution_count": 16,
      "outputs": [
        {
          "output_type": "execute_result",
          "data": {
            "text/plain": [
              "(12388, 10)"
            ]
          },
          "metadata": {
            "tags": []
          },
          "execution_count": 16
        }
      ]
    },
    {
      "metadata": {
        "id": "xpEHzE9cE3EE",
        "colab_type": "code",
        "colab": {
          "base_uri": "https://localhost:8080/",
          "height": 287
        },
        "outputId": "14ac7dd6-114b-4fe8-83fb-6cac8a27036f"
      },
      "cell_type": "code",
      "source": [
        "df_finalSemDup.info()"
      ],
      "execution_count": 18,
      "outputs": [
        {
          "output_type": "stream",
          "text": [
            "<class 'pandas.core.frame.DataFrame'>\n",
            "Int64Index: 12388 entries, 0 to 20263\n",
            "Data columns (total 10 columns):\n",
            "descricao              12388 non-null object\n",
            "discente               12388 non-null object\n",
            "faltas_unidade         10134 non-null float64\n",
            "id_turma               12388 non-null object\n",
            "media_final            9765 non-null float64\n",
            "nota                   9795 non-null float64\n",
            "numero_total_faltas    9906 non-null float64\n",
            "reposicao              10134 non-null object\n",
            "unidade                10134 non-null float64\n",
            "anoperiodo             12388 non-null object\n",
            "dtypes: float64(5), object(5)\n",
            "memory usage: 1.0+ MB\n"
          ],
          "name": "stdout"
        }
      ]
    },
    {
      "metadata": {
        "id": "Gp5la6gZxbWT",
        "colab_type": "code",
        "colab": {
          "base_uri": "https://localhost:8080/",
          "height": 297
        },
        "outputId": "d63246b8-3a55-4f49-a007-e46feccb8101"
      },
      "cell_type": "code",
      "source": [
        "# resumo dos atributos numéricos\n",
        "for_describe = df_finalSemDup[['faltas_unidade','media_final','nota','numero_total_faltas']]\n",
        "for_describe.describe()"
      ],
      "execution_count": 19,
      "outputs": [
        {
          "output_type": "execute_result",
          "data": {
            "text/html": [
              "<div>\n",
              "<style scoped>\n",
              "    .dataframe tbody tr th:only-of-type {\n",
              "        vertical-align: middle;\n",
              "    }\n",
              "\n",
              "    .dataframe tbody tr th {\n",
              "        vertical-align: top;\n",
              "    }\n",
              "\n",
              "    .dataframe thead th {\n",
              "        text-align: right;\n",
              "    }\n",
              "</style>\n",
              "<table border=\"1\" class=\"dataframe\">\n",
              "  <thead>\n",
              "    <tr style=\"text-align: right;\">\n",
              "      <th></th>\n",
              "      <th>faltas_unidade</th>\n",
              "      <th>media_final</th>\n",
              "      <th>nota</th>\n",
              "      <th>numero_total_faltas</th>\n",
              "    </tr>\n",
              "  </thead>\n",
              "  <tbody>\n",
              "    <tr>\n",
              "      <th>count</th>\n",
              "      <td>10134.0</td>\n",
              "      <td>9765.000000</td>\n",
              "      <td>9795.000000</td>\n",
              "      <td>9906.000000</td>\n",
              "    </tr>\n",
              "    <tr>\n",
              "      <th>mean</th>\n",
              "      <td>0.0</td>\n",
              "      <td>2.917081</td>\n",
              "      <td>2.814609</td>\n",
              "      <td>11.126893</td>\n",
              "    </tr>\n",
              "    <tr>\n",
              "      <th>std</th>\n",
              "      <td>0.0</td>\n",
              "      <td>3.126537</td>\n",
              "      <td>3.303004</td>\n",
              "      <td>19.183283</td>\n",
              "    </tr>\n",
              "    <tr>\n",
              "      <th>min</th>\n",
              "      <td>0.0</td>\n",
              "      <td>0.000000</td>\n",
              "      <td>0.000000</td>\n",
              "      <td>0.000000</td>\n",
              "    </tr>\n",
              "    <tr>\n",
              "      <th>25%</th>\n",
              "      <td>0.0</td>\n",
              "      <td>0.000000</td>\n",
              "      <td>0.000000</td>\n",
              "      <td>0.000000</td>\n",
              "    </tr>\n",
              "    <tr>\n",
              "      <th>50%</th>\n",
              "      <td>0.0</td>\n",
              "      <td>1.500000</td>\n",
              "      <td>1.200000</td>\n",
              "      <td>0.000000</td>\n",
              "    </tr>\n",
              "    <tr>\n",
              "      <th>75%</th>\n",
              "      <td>0.0</td>\n",
              "      <td>5.500000</td>\n",
              "      <td>5.200000</td>\n",
              "      <td>14.000000</td>\n",
              "    </tr>\n",
              "    <tr>\n",
              "      <th>max</th>\n",
              "      <td>0.0</td>\n",
              "      <td>10.000000</td>\n",
              "      <td>10.000000</td>\n",
              "      <td>80.000000</td>\n",
              "    </tr>\n",
              "  </tbody>\n",
              "</table>\n",
              "</div>"
            ],
            "text/plain": [
              "       faltas_unidade  media_final         nota  numero_total_faltas\n",
              "count         10134.0  9765.000000  9795.000000          9906.000000\n",
              "mean              0.0     2.917081     2.814609            11.126893\n",
              "std               0.0     3.126537     3.303004            19.183283\n",
              "min               0.0     0.000000     0.000000             0.000000\n",
              "25%               0.0     0.000000     0.000000             0.000000\n",
              "50%               0.0     1.500000     1.200000             0.000000\n",
              "75%               0.0     5.500000     5.200000            14.000000\n",
              "max               0.0    10.000000    10.000000            80.000000"
            ]
          },
          "metadata": {
            "tags": []
          },
          "execution_count": 19
        }
      ]
    },
    {
      "metadata": {
        "id": "xbvgOuL0r8y5",
        "colab_type": "text"
      },
      "cell_type": "markdown",
      "source": [
        "## 2.5 Histograma"
      ]
    },
    {
      "metadata": {
        "id": "HY1fcPfR03EJ",
        "colab_type": "code",
        "colab": {
          "base_uri": "https://localhost:8080/",
          "height": 385
        },
        "outputId": "e2d2e6de-c397-451b-8d9d-9ef467416ae9"
      },
      "cell_type": "code",
      "source": [
        "import matplotlib.pyplot as plt\n",
        "\n",
        "df_finalSemDup[['media_final','nota']].hist(bins=50, figsize=(12,5))\n",
        "plt.tight_layout()\n",
        "plt.show()"
      ],
      "execution_count": 20,
      "outputs": [
        {
          "output_type": "display_data",
          "data": {
            "image/png": "[encoded data removed]",
            "text/plain": [
              "<matplotlib.figure.Figure at 0x7fc3e6ce4400>"
            ]
          },
          "metadata": {
            "tags": []
          }
        }
      ]
    },
    {
      "metadata": {
        "id": "GorP1xQx1j00",
        "colab_type": "code",
        "colab": {
          "base_uri": "https://localhost:8080/",
          "height": 385
        },
        "outputId": "ad59a1a5-d2b6-4705-c044-1d1fcf3c5463"
      },
      "cell_type": "code",
      "source": [
        "# retirando as notas zero pra ver melhor o comportamento das outras notas\n",
        "sem_zero = df_finalSemDup[(df_finalSemDup['media_final']!=0) &\n",
        "                          (df_finalSemDup['nota']!=0)]\n",
        "sem_zero[['media_final','nota']].hist(bins=50, figsize=(12,5))\n",
        "plt.tight_layout()\n",
        "plt.show()"
      ],
      "execution_count": 21,
      "outputs": [
        {
          "output_type": "display_data",
          "data": {
            "image/png": "[encoded data removed]",
            "text/plain": [
              "<matplotlib.figure.Figure at 0x7fc3e6e52668>"
            ]
          },
          "metadata": {
            "tags": []
          }
        }
      ]
    },
    {
      "metadata": {
        "id": "OCZND56q2Wc7",
        "colab_type": "code",
        "colab": {}
      },
      "cell_type": "code",
      "source": [
        "# criando um DataFrame onde as colunas são as notas das unidade\n",
        "# função que retorna as colunas sendo as notas das unidades\n",
        "# específica para o caso de 3 unidades\n",
        "def cols_unidades(dataFrame):\n",
        "  notas_1 = dataFrame[dataFrame['unidade']==1.0]\n",
        "  notas_1 = notas_1[['discente','nota']]\n",
        "  notas_1 = notas_1.rename(index=str, columns={\"nota\": \"nota_1\"})\n",
        "\n",
        "  notas_2 = dataFrame[dataFrame['unidade']==2.0]\n",
        "  notas_2 = notas_2[['discente','nota']]\n",
        "  notas_2 = notas_2.rename(index=str, columns={\"nota\": \"nota_2\"})\n",
        "\n",
        "  notas_3 = dataFrame[dataFrame['unidade']==3.0]\n",
        "  notas_3 = notas_3[['discente','nota']]\n",
        "  notas_3 = notas_3.rename(index=str, columns={\"nota\": \"nota_3\"})\n",
        "\n",
        "  notas_12 = pd.merge(notas_1,notas_2,on='discente')\n",
        "  df_porUnidade = pd.merge(notas_12,notas_3,on='discente')\n",
        "  \n",
        "  return df_porUnidade"
      ],
      "execution_count": 0,
      "outputs": []
    },
    {
      "metadata": {
        "id": "71tuyfzkaW30",
        "colab_type": "code",
        "colab": {
          "base_uri": "https://localhost:8080/",
          "height": 179
        },
        "outputId": "1b1d993b-8ec6-40be-c237-dd8e522e92ab"
      },
      "cell_type": "code",
      "source": [
        "df_porUnidade = cols_unidades(df_finalSemDup)\n",
        "df_porUnidade.info()"
      ],
      "execution_count": 23,
      "outputs": [
        {
          "output_type": "stream",
          "text": [
            "<class 'pandas.core.frame.DataFrame'>\n",
            "Int64Index: 3378 entries, 0 to 3377\n",
            "Data columns (total 4 columns):\n",
            "discente    3378 non-null object\n",
            "nota_1      3275 non-null float64\n",
            "nota_2      3265 non-null float64\n",
            "nota_3      3255 non-null float64\n",
            "dtypes: float64(3), object(1)\n",
            "memory usage: 132.0+ KB\n"
          ],
          "name": "stdout"
        }
      ]
    },
    {
      "metadata": {
        "id": "LZFLxGoI7YZV",
        "colab_type": "code",
        "colab": {
          "base_uri": "https://localhost:8080/",
          "height": 385
        },
        "outputId": "d0fad263-9590-4cc4-a3cf-dbc5808f5dfa"
      },
      "cell_type": "code",
      "source": [
        "sem_zero2 = df_porUnidade[(df_porUnidade['nota_1']!=0) &\n",
        "                          (df_porUnidade['nota_2']!=0) &\n",
        "                          (df_porUnidade['nota_3']!=0)]\n",
        "\n",
        "sem_zero2.hist(bins=70, figsize=(12,5))\n",
        "plt.tight_layout()\n",
        "plt.show()"
      ],
      "execution_count": 25,
      "outputs": [
        {
          "output_type": "display_data",
          "data": {
            "image/png": "[encoded data removed]",
            "text/plain": [
              "<matplotlib.figure.Figure at 0x7fc3e75a71d0>"
            ]
          },
          "metadata": {
            "tags": []
          }
        }
      ]
    },
    {
      "metadata": {
        "id": "XnbfEDfgr-zj",
        "colab_type": "text"
      },
      "cell_type": "markdown",
      "source": [
        "## 2.6 Conjunto de Teste"
      ]
    },
    {
      "metadata": {
        "id": "TKlRYSdB-dhn",
        "colab_type": "code",
        "colab": {
          "base_uri": "https://localhost:8080/",
          "height": 71
        },
        "outputId": "f7b9ccea-0734-4e9a-d03d-e0c67bd4a6e1"
      },
      "cell_type": "code",
      "source": [
        "from sklearn.model_selection import train_test_split\n",
        "\n",
        "train_set, test_set = train_test_split(df_finalSemDup, \n",
        "                                       test_size=0.2, \n",
        "                                       random_state=35)\n",
        "\n",
        "print(\"data has {} instances\\n {} train instances\\n {} test intances\".\n",
        "      format(len(df_finalSemDup),len(train_set),len(test_set)))"
      ],
      "execution_count": 26,
      "outputs": [
        {
          "output_type": "stream",
          "text": [
            "data has 12388 instances\n",
            " 9910 train instances\n",
            " 2478 test intances\n"
          ],
          "name": "stdout"
        }
      ]
    },
    {
      "metadata": {
        "id": "h4Eh06yXLy7F",
        "colab_type": "text"
      },
      "cell_type": "markdown",
      "source": [
        "# 3.0 Visualizando os dados"
      ]
    },
    {
      "metadata": {
        "id": "yx58jwGuQ89y",
        "colab_type": "code",
        "colab": {}
      },
      "cell_type": "code",
      "source": [
        "treinamento = train_set.copy()"
      ],
      "execution_count": 0,
      "outputs": []
    },
    {
      "metadata": {
        "id": "joPzp31KNxsl",
        "colab_type": "code",
        "colab": {}
      },
      "cell_type": "code",
      "source": [
        "cols_train = ['descricao','discente','id_turma','media_final','nota','reposicao','unidade']\n",
        "treinamento = treinamento[cols_train]"
      ],
      "execution_count": 0,
      "outputs": []
    },
    {
      "metadata": {
        "id": "oQdmgKP1TCte",
        "colab_type": "code",
        "colab": {
          "base_uri": "https://localhost:8080/",
          "height": 376
        },
        "outputId": "bd3a6688-d84e-47e5-aba2-1b055b114998"
      },
      "cell_type": "code",
      "source": [
        "treinamento.plot(kind=\"scatter\", x=\"media_final\", y=\"nota\", alpha=0.4,\n",
        "           c=\"unidade\", cmap=plt.get_cmap(\"jet\"), colorbar=True)\n",
        "plt.legend()"
      ],
      "execution_count": 29,
      "outputs": [
        {
          "output_type": "stream",
          "text": [
            "No handles with labels found to put in legend.\n"
          ],
          "name": "stderr"
        },
        {
          "output_type": "execute_result",
          "data": {
            "text/plain": [
              "<matplotlib.legend.Legend at 0x7fc3e79d96d8>"
            ]
          },
          "metadata": {
            "tags": []
          },
          "execution_count": 29
        },
        {
          "output_type": "display_data",
          "data": {
            "image/png": "[encoded data removed]",
            "text/plain": [
              "<matplotlib.figure.Figure at 0x7fc3e79d9898>"
            ]
          },
          "metadata": {
            "tags": []
          }
        }
      ]
    },
    {
      "metadata": {
        "id": "Dt0FKHJbUXkF",
        "colab_type": "text"
      },
      "cell_type": "markdown",
      "source": [
        "- Há uma concentração de notas aproximadamente zero na terceira unidade e essas pessoas obtiveram uma média final baixa.\n",
        "- Há também um pequeno grupo que se deu bem nas notas da terceira unidade, aproximadamente 9 e sua média final está entre 5 e 6, mostra que se recuperaram ao longe das unidades."
      ]
    },
    {
      "metadata": {
        "id": "D1bE-5PyVeXL",
        "colab_type": "code",
        "colab": {
          "base_uri": "https://localhost:8080/",
          "height": 89
        },
        "outputId": "22ce6974-fbb5-47a0-ac84-694c6b3119fd"
      },
      "cell_type": "code",
      "source": [
        "corr_matrix = treinamento.corr()\n",
        "corr_matrix[\"nota\"].sort_values(ascending=False)"
      ],
      "execution_count": 30,
      "outputs": [
        {
          "output_type": "execute_result",
          "data": {
            "text/plain": [
              "nota           1.000000\n",
              "media_final    0.915609\n",
              "unidade       -0.060077\n",
              "Name: nota, dtype: float64"
            ]
          },
          "metadata": {
            "tags": []
          },
          "execution_count": 30
        }
      ]
    },
    {
      "metadata": {
        "id": "RsmVAMjEarQK",
        "colab_type": "code",
        "colab": {
          "base_uri": "https://localhost:8080/",
          "height": 365
        },
        "outputId": "f5b4cbb1-97ff-45a5-cd70-c128f10d0d4c"
      },
      "cell_type": "code",
      "source": [
        "import seaborn as sns\n",
        "\n",
        "sns.heatmap(treinamento.corr(), annot=True, fmt=\".2f\")"
      ],
      "execution_count": 31,
      "outputs": [
        {
          "output_type": "execute_result",
          "data": {
            "text/plain": [
              "<matplotlib.axes._subplots.AxesSubplot at 0x7fc3e7a6a5c0>"
            ]
          },
          "metadata": {
            "tags": []
          },
          "execution_count": 31
        },
        {
          "output_type": "display_data",
          "data": {
            "image/png": "[encoded data removed]",
            "text/plain": [
              "<matplotlib.figure.Figure at 0x7fc3e7abf278>"
            ]
          },
          "metadata": {
            "tags": []
          }
        }
      ]
    },
    {
      "metadata": {
        "id": "qH3w4eqBbrKh",
        "colab_type": "text"
      },
      "cell_type": "markdown",
      "source": [
        "A correlação apenas confirma o que já é óbvio, que as notas das unidades influenciam na média final do discente."
      ]
    },
    {
      "metadata": {
        "id": "DWDIq5QtcP5L",
        "colab_type": "code",
        "colab": {
          "base_uri": "https://localhost:8080/",
          "height": 369
        },
        "outputId": "1649d7c9-f26c-4804-e6fe-232763ea84e5"
      },
      "cell_type": "code",
      "source": [
        "sns.heatmap(df_porUnidade.corr(), annot=True, fmt=\".2f\")"
      ],
      "execution_count": 32,
      "outputs": [
        {
          "output_type": "execute_result",
          "data": {
            "text/plain": [
              "<matplotlib.axes._subplots.AxesSubplot at 0x7fc3e7af72b0>"
            ]
          },
          "metadata": {
            "tags": []
          },
          "execution_count": 32
        },
        {
          "output_type": "display_data",
          "data": {
            "image/png": "[encoded data removed]",
            "text/plain": [
              "<matplotlib.figure.Figure at 0x7fc3e7b2edd8>"
            ]
          },
          "metadata": {
            "tags": []
          }
        }
      ]
    },
    {
      "metadata": {
        "id": "tVKdCfigcZ2P",
        "colab_type": "text"
      },
      "cell_type": "markdown",
      "source": [
        "Acima, é possível observar a correlação entre as notas das unidades."
      ]
    },
    {
      "metadata": {
        "id": "kEB0q-a-dIZt",
        "colab_type": "code",
        "colab": {
          "base_uri": "https://localhost:8080/",
          "height": 255
        },
        "outputId": "bc6811f8-1d81-4424-f3dc-415fc5a49fc2"
      },
      "cell_type": "code",
      "source": [
        "treinamento.head()"
      ],
      "execution_count": 33,
      "outputs": [
        {
          "output_type": "execute_result",
          "data": {
            "text/html": [
              "<div>\n",
              "<style scoped>\n",
              "    .dataframe tbody tr th:only-of-type {\n",
              "        vertical-align: middle;\n",
              "    }\n",
              "\n",
              "    .dataframe tbody tr th {\n",
              "        vertical-align: top;\n",
              "    }\n",
              "\n",
              "    .dataframe thead th {\n",
              "        text-align: right;\n",
              "    }\n",
              "</style>\n",
              "<table border=\"1\" class=\"dataframe\">\n",
              "  <thead>\n",
              "    <tr style=\"text-align: right;\">\n",
              "      <th></th>\n",
              "      <th>descricao</th>\n",
              "      <th>discente</th>\n",
              "      <th>id_turma</th>\n",
              "      <th>media_final</th>\n",
              "      <th>nota</th>\n",
              "      <th>reposicao</th>\n",
              "      <th>unidade</th>\n",
              "    </tr>\n",
              "  </thead>\n",
              "  <tbody>\n",
              "    <tr>\n",
              "      <th>1989</th>\n",
              "      <td>APROVADO POR NOTA</td>\n",
              "      <td>6383e6aacfd2aa8a91b33b04ed3db69a</td>\n",
              "      <td>1242595</td>\n",
              "      <td>5.7</td>\n",
              "      <td>2.3</td>\n",
              "      <td>t</td>\n",
              "      <td>2.0</td>\n",
              "    </tr>\n",
              "    <tr>\n",
              "      <th>10612</th>\n",
              "      <td>REPROVADO POR MÉDIA E POR FALTAS</td>\n",
              "      <td>abe06fe4287a886d52fc0e464cbe9819</td>\n",
              "      <td>57585724</td>\n",
              "      <td>0.0</td>\n",
              "      <td>0.0</td>\n",
              "      <td>f</td>\n",
              "      <td>3.0</td>\n",
              "    </tr>\n",
              "    <tr>\n",
              "      <th>14029</th>\n",
              "      <td>REPROVADO</td>\n",
              "      <td>83f9b88bb4e1b945543ebee90a3549e1</td>\n",
              "      <td>57585709</td>\n",
              "      <td>0.0</td>\n",
              "      <td>0.0</td>\n",
              "      <td>f</td>\n",
              "      <td>2.0</td>\n",
              "    </tr>\n",
              "    <tr>\n",
              "      <th>13842</th>\n",
              "      <td>REPROVADO</td>\n",
              "      <td>0f7491d43540602955431a8d7086914a</td>\n",
              "      <td>57585709</td>\n",
              "      <td>1.0</td>\n",
              "      <td>2.0</td>\n",
              "      <td>f</td>\n",
              "      <td>1.0</td>\n",
              "    </tr>\n",
              "    <tr>\n",
              "      <th>17031</th>\n",
              "      <td>REPROVADO</td>\n",
              "      <td>30d35140f1087638c8eab23835cc6c0f</td>\n",
              "      <td>57595053</td>\n",
              "      <td>3.6</td>\n",
              "      <td>2.2</td>\n",
              "      <td>f</td>\n",
              "      <td>1.0</td>\n",
              "    </tr>\n",
              "  </tbody>\n",
              "</table>\n",
              "</div>"
            ],
            "text/plain": [
              "                              descricao                          discente  \\\n",
              "1989                  APROVADO POR NOTA  6383e6aacfd2aa8a91b33b04ed3db69a   \n",
              "10612  REPROVADO POR MÉDIA E POR FALTAS  abe06fe4287a886d52fc0e464cbe9819   \n",
              "14029                         REPROVADO  83f9b88bb4e1b945543ebee90a3549e1   \n",
              "13842                         REPROVADO  0f7491d43540602955431a8d7086914a   \n",
              "17031                         REPROVADO  30d35140f1087638c8eab23835cc6c0f   \n",
              "\n",
              "       id_turma  media_final  nota reposicao  unidade  \n",
              "1989    1242595          5.7   2.3         t      2.0  \n",
              "10612  57585724          0.0   0.0         f      3.0  \n",
              "14029  57585709          0.0   0.0         f      2.0  \n",
              "13842  57585709          1.0   2.0         f      1.0  \n",
              "17031  57595053          3.6   2.2         f      1.0  "
            ]
          },
          "metadata": {
            "tags": []
          },
          "execution_count": 33
        }
      ]
    },
    {
      "metadata": {
        "id": "adv2zapSMcKl",
        "colab_type": "text"
      },
      "cell_type": "markdown",
      "source": [
        "# 4.0 Tratando os dados"
      ]
    },
    {
      "metadata": {
        "id": "K-YwnsnBfGVk",
        "colab_type": "code",
        "colab": {
          "base_uri": "https://localhost:8080/",
          "height": 197
        },
        "outputId": "2f23d2da-31e1-4227-bc69-df35780f329f"
      },
      "cell_type": "code",
      "source": [
        "train_setCopy = train_set.copy()\n",
        "\n",
        "train_setUni = cols_unidades(train_setCopy)\n",
        "print(train_setUni.shape)\n",
        "train_setUni.info()"
      ],
      "execution_count": 60,
      "outputs": [
        {
          "output_type": "stream",
          "text": [
            "(1715, 4)\n",
            "<class 'pandas.core.frame.DataFrame'>\n",
            "Int64Index: 1715 entries, 0 to 1714\n",
            "Data columns (total 4 columns):\n",
            "discente    1715 non-null object\n",
            "nota_1      1668 non-null float64\n",
            "nota_2      1664 non-null float64\n",
            "nota_3      1659 non-null float64\n",
            "dtypes: float64(3), object(1)\n",
            "memory usage: 67.0+ KB\n"
          ],
          "name": "stdout"
        }
      ]
    },
    {
      "metadata": {
        "id": "Fncrqu5UBwpl",
        "colab_type": "code",
        "colab": {}
      },
      "cell_type": "code",
      "source": [
        "train_X = train_setUni.drop(\"nota_3\", axis=1)\n",
        "\n",
        "# y = nota da segunda unidade\n",
        "train_y = train_setUni.nota_3.copy()\n"
      ],
      "execution_count": 0,
      "outputs": []
    },
    {
      "metadata": {
        "id": "WAiTP_xLf6op",
        "colab_type": "text"
      },
      "cell_type": "markdown",
      "source": [
        "## 4.1 Limpeza de Dados"
      ]
    },
    {
      "metadata": {
        "id": "s_4_Ht4_f-7S",
        "colab_type": "code",
        "colab": {
          "base_uri": "https://localhost:8080/",
          "height": 89
        },
        "outputId": "43c49787-97c2-4cd2-8f45-091435e14bc1"
      },
      "cell_type": "code",
      "source": [
        "# vendo a quantidade de elementos ausentes\n",
        "train_X.isnull().sum()"
      ],
      "execution_count": 95,
      "outputs": [
        {
          "output_type": "execute_result",
          "data": {
            "text/plain": [
              "discente     0\n",
              "nota_1      47\n",
              "nota_2      51\n",
              "dtype: int64"
            ]
          },
          "metadata": {
            "tags": []
          },
          "execution_count": 95
        }
      ]
    },
    {
      "metadata": {
        "id": "EVAwSI0ehdT9",
        "colab_type": "code",
        "colab": {
          "base_uri": "https://localhost:8080/",
          "height": 71
        },
        "outputId": "f97fc69c-72e9-4ed9-e19f-9196d22e101d"
      },
      "cell_type": "code",
      "source": [
        "train_set.columns"
      ],
      "execution_count": 96,
      "outputs": [
        {
          "output_type": "execute_result",
          "data": {
            "text/plain": [
              "Index(['descricao', 'discente', 'faltas_unidade', 'id_turma', 'media_final',\n",
              "       'nota', 'numero_total_faltas', 'reposicao', 'unidade', 'anoperiodo'],\n",
              "      dtype='object')"
            ]
          },
          "metadata": {
            "tags": []
          },
          "execution_count": 96
        }
      ]
    },
    {
      "metadata": {
        "id": "6R2fwX05gdll",
        "colab_type": "code",
        "colab": {
          "base_uri": "https://localhost:8080/",
          "height": 35
        },
        "outputId": "db1b9f25-de36-4ac7-f414-70b334dfad8b"
      },
      "cell_type": "code",
      "source": [
        "# substituindo os valores ausentes pela média dos outros valores\n",
        "# da respectiva coluna\n",
        "\n",
        "from sklearn.preprocessing import Imputer\n",
        "imputer = Imputer(strategy=\"median\")\n",
        "\n",
        "# criando uma copia sem os elementos não numéricos\n",
        "train_X_num = train_X.drop(\"discente\", axis=1)\n",
        "\n",
        "# Now you can fit the imputer instance to the training data using \n",
        "# the fit() method:\n",
        "imputer.fit(train_X_num)"
      ],
      "execution_count": 97,
      "outputs": [
        {
          "output_type": "execute_result",
          "data": {
            "text/plain": [
              "Imputer(axis=0, copy=True, missing_values='NaN', strategy='median', verbose=0)"
            ]
          },
          "metadata": {
            "tags": []
          },
          "execution_count": 97
        }
      ]
    },
    {
      "metadata": {
        "id": "jEEsYK6-iHtG",
        "colab_type": "code",
        "colab": {
          "base_uri": "https://localhost:8080/",
          "height": 35
        },
        "outputId": "2a8e133b-8969-4d56-ded7-2c2bc696aea6"
      },
      "cell_type": "code",
      "source": [
        "imputer.statistics_"
      ],
      "execution_count": 98,
      "outputs": [
        {
          "output_type": "execute_result",
          "data": {
            "text/plain": [
              "array([2.20000005, 1.5       ])"
            ]
          },
          "metadata": {
            "tags": []
          },
          "execution_count": 98
        }
      ]
    },
    {
      "metadata": {
        "id": "kjNBuw6miMi7",
        "colab_type": "code",
        "colab": {
          "base_uri": "https://localhost:8080/",
          "height": 35
        },
        "outputId": "7b364978-7061-4184-ada6-ca38596b52c6"
      },
      "cell_type": "code",
      "source": [
        "train_X_num.median().values"
      ],
      "execution_count": 99,
      "outputs": [
        {
          "output_type": "execute_result",
          "data": {
            "text/plain": [
              "array([2.20000005, 1.5       ])"
            ]
          },
          "metadata": {
            "tags": []
          },
          "execution_count": 99
        }
      ]
    },
    {
      "metadata": {
        "id": "VnbM5Nz8igbv",
        "colab_type": "code",
        "colab": {}
      },
      "cell_type": "code",
      "source": [
        "# substituindo os valores ausentes pela média encontrada\n",
        "train_X_num_array = imputer.transform(train_X_num)\n",
        "train_X_num_df = pd.DataFrame(train_X_num_array, columns=train_X_num.columns)"
      ],
      "execution_count": 0,
      "outputs": []
    },
    {
      "metadata": {
        "id": "pK9gRu10iqFR",
        "colab_type": "code",
        "colab": {
          "base_uri": "https://localhost:8080/",
          "height": 143
        },
        "outputId": "141a099a-7f88-461b-dc9b-104402c9092a"
      },
      "cell_type": "code",
      "source": [
        "train_X_num_df.info()"
      ],
      "execution_count": 101,
      "outputs": [
        {
          "output_type": "stream",
          "text": [
            "<class 'pandas.core.frame.DataFrame'>\n",
            "RangeIndex: 1715 entries, 0 to 1714\n",
            "Data columns (total 2 columns):\n",
            "nota_1    1715 non-null float64\n",
            "nota_2    1715 non-null float64\n",
            "dtypes: float64(2)\n",
            "memory usage: 26.9 KB\n"
          ],
          "name": "stdout"
        }
      ]
    },
    {
      "metadata": {
        "id": "McOEWUGRpmEM",
        "colab_type": "text"
      },
      "cell_type": "markdown",
      "source": [
        "## 4.2 Transformadores Personalizados"
      ]
    },
    {
      "metadata": {
        "id": "ptsBs8Sspmph",
        "colab_type": "code",
        "colab": {}
      },
      "cell_type": "code",
      "source": [
        "import numpy as np\n",
        "from sklearn.base import BaseEstimator, TransformerMixin\n",
        "\n",
        "# indices das colunas\n",
        "nota_1ix, nota_2ix = 0, 1\n",
        "\n",
        "class CombinedAttributesAdder(BaseEstimator, TransformerMixin):\n",
        "\n",
        "  def __init__(self, add_uni1_pela_uni2 = True):\n",
        "    self.add_uni1_pela_uni2 = add_uni1_pela_uni2\n",
        "    \n",
        "  def fit(self, X, y=None):\n",
        "    return self\n",
        "  \n",
        "  def transform(self, X, y=None):\n",
        "    denominador = X[:, nota_2ix]\n",
        "    denominador[denominador<.000001] = .000001\n",
        "    \n",
        "    uni1_pela_uni2 = X[:, nota_1ix] / denominador\n",
        "      \n",
        "    return np.c_[X, uni1_pela_uni2]"
      ],
      "execution_count": 0,
      "outputs": []
    },
    {
      "metadata": {
        "id": "-K6At79ZmQaB",
        "colab_type": "text"
      },
      "cell_type": "markdown",
      "source": [
        "## 4.3 Pipelines de Transformação"
      ]
    },
    {
      "metadata": {
        "id": "ErXGvUsLtJ6A",
        "colab_type": "code",
        "colab": {
          "base_uri": "https://localhost:8080/",
          "height": 204
        },
        "outputId": "2521e810-d7bc-432a-ef85-2148a16e92bd"
      },
      "cell_type": "code",
      "source": [
        "train_X_num_df.head()"
      ],
      "execution_count": 105,
      "outputs": [
        {
          "output_type": "execute_result",
          "data": {
            "text/html": [
              "<div>\n",
              "<style scoped>\n",
              "    .dataframe tbody tr th:only-of-type {\n",
              "        vertical-align: middle;\n",
              "    }\n",
              "\n",
              "    .dataframe tbody tr th {\n",
              "        vertical-align: top;\n",
              "    }\n",
              "\n",
              "    .dataframe thead th {\n",
              "        text-align: right;\n",
              "    }\n",
              "</style>\n",
              "<table border=\"1\" class=\"dataframe\">\n",
              "  <thead>\n",
              "    <tr style=\"text-align: right;\">\n",
              "      <th></th>\n",
              "      <th>nota_1</th>\n",
              "      <th>nota_2</th>\n",
              "    </tr>\n",
              "  </thead>\n",
              "  <tbody>\n",
              "    <tr>\n",
              "      <th>0</th>\n",
              "      <td>0.0</td>\n",
              "      <td>0.0</td>\n",
              "    </tr>\n",
              "    <tr>\n",
              "      <th>1</th>\n",
              "      <td>5.2</td>\n",
              "      <td>1.0</td>\n",
              "    </tr>\n",
              "    <tr>\n",
              "      <th>2</th>\n",
              "      <td>10.0</td>\n",
              "      <td>8.8</td>\n",
              "    </tr>\n",
              "    <tr>\n",
              "      <th>3</th>\n",
              "      <td>4.9</td>\n",
              "      <td>5.1</td>\n",
              "    </tr>\n",
              "    <tr>\n",
              "      <th>4</th>\n",
              "      <td>4.0</td>\n",
              "      <td>4.0</td>\n",
              "    </tr>\n",
              "  </tbody>\n",
              "</table>\n",
              "</div>"
            ],
            "text/plain": [
              "   nota_1  nota_2\n",
              "0     0.0     0.0\n",
              "1     5.2     1.0\n",
              "2    10.0     8.8\n",
              "3     4.9     5.1\n",
              "4     4.0     4.0"
            ]
          },
          "metadata": {
            "tags": []
          },
          "execution_count": 105
        }
      ]
    },
    {
      "metadata": {
        "id": "URdNt3h5mTQh",
        "colab_type": "code",
        "colab": {}
      },
      "cell_type": "code",
      "source": [
        "from sklearn.pipeline import Pipeline\n",
        "from sklearn.preprocessing import StandardScaler\n",
        "\n",
        "\n",
        "num_pipeline = Pipeline([('imputer', Imputer(strategy=\"median\")),\n",
        "                         ('attribs_adder', CombinedAttributesAdder()),\n",
        "                         ('std_scaler', StandardScaler())\n",
        "                        ])\n",
        "train_X_num_pipeline = num_pipeline.fit_transform(train_X_num_df)"
      ],
      "execution_count": 0,
      "outputs": []
    },
    {
      "metadata": {
        "id": "NEQzN7rSpbs2",
        "colab_type": "code",
        "colab": {
          "base_uri": "https://localhost:8080/",
          "height": 143
        },
        "outputId": "2d9f09d2-be05-4d6e-c664-485a3f2dc1f6"
      },
      "cell_type": "code",
      "source": [
        "train_X_num_pipeline"
      ],
      "execution_count": 114,
      "outputs": [
        {
          "output_type": "execute_result",
          "data": {
            "text/plain": [
              "array([[-0.96772412, -0.86917306, -0.2892435 ],\n",
              "       [ 0.66137704, -0.55927065, -0.28923781],\n",
              "       [ 2.16516285,  1.85797067, -0.28924226],\n",
              "       ...,\n",
              "       [ 1.44459884,  2.04391225, -0.2892426 ],\n",
              "       [-0.96772412, -0.86917306, -0.2892435 ],\n",
              "       [-0.65443543, -0.86917306,  0.80434376]])"
            ]
          },
          "metadata": {
            "tags": []
          },
          "execution_count": 114
        }
      ]
    },
    {
      "metadata": {
        "id": "wBL8VSeDMv4N",
        "colab_type": "text"
      },
      "cell_type": "markdown",
      "source": [
        "# 5.0 Selecionando e Treinando o Modelo"
      ]
    },
    {
      "metadata": {
        "id": "eBOx-JDTNIIw",
        "colab_type": "code",
        "colab": {}
      },
      "cell_type": "code",
      "source": [
        ""
      ],
      "execution_count": 0,
      "outputs": []
    },
    {
      "metadata": {
        "id": "x3ci9yUwN-D9",
        "colab_type": "text"
      },
      "cell_type": "markdown",
      "source": [
        "# 6.0 Melhorar o Modelo"
      ]
    },
    {
      "metadata": {
        "id": "Qbeq4PquOJtL",
        "colab_type": "text"
      },
      "cell_type": "markdown",
      "source": [
        "# 7.0 Apresentando a Solução"
      ]
    },
    {
      "metadata": {
        "id": "1rt4dECBOM5Y",
        "colab_type": "code",
        "colab": {}
      },
      "cell_type": "code",
      "source": [
        ""
      ],
      "execution_count": 0,
      "outputs": []
    }
  ]
}