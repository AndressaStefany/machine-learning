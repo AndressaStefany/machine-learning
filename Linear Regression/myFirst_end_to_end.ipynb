{
  "nbformat": 4,
  "nbformat_minor": 0,
  "metadata": {
    "colab": {
      "name": "myFirst-end-to-end.ipynb",
      "version": "0.3.2",
      "provenance": [],
      "collapsed_sections": [],
      "toc_visible": true
    }
  },
  "cells": [
    {
      "metadata": {
        "id": "Jcsn7t5F-AhN",
        "colab_type": "text"
      },
      "cell_type": "markdown",
      "source": [
        "#Projeto fim a fim utilizando Regressão Linear\n",
        "---"
      ]
    },
    {
      "metadata": {
        "id": "r70_pTdr9f-_",
        "colab_type": "text"
      },
      "cell_type": "markdown",
      "source": [
        "# 1.0 Introdução"
      ]
    },
    {
      "metadata": {
        "id": "EAPWy8qnOQqp",
        "colab_type": "text"
      },
      "cell_type": "markdown",
      "source": [
        "O dataset utilizado possui notas dos alunos de vários cursos da UFRN do ano de 2015 a 2017. A ideia é achar a relação entre as notas da primeira unidade e da segunda unidade da matéria de Cálculo I.\n",
        "\n",
        "Para padronizar o conteúdo estudade em cada unidade pelos alunos, será selecionado apenas os alunos do curso de Ciências e Tecnologia, visto que a amostra é um conjunto de dados com uma quantidade significante."
      ]
    },
    {
      "metadata": {
        "id": "kunjXwhOc_br",
        "colab_type": "text"
      },
      "cell_type": "markdown",
      "source": [
        "## 1.1 Medida de desempenho"
      ]
    },
    {
      "metadata": {
        "id": "PFBvUVS8LuHo",
        "colab_type": "text"
      },
      "cell_type": "markdown",
      "source": [
        "# 2.0 Carregando os dados"
      ]
    },
    {
      "metadata": {
        "id": "hYifU7AZzUU8",
        "colab_type": "text"
      },
      "cell_type": "markdown",
      "source": [
        "## 2.1 Acesar arquivo do drive"
      ]
    },
    {
      "metadata": {
        "id": "8-Ibp1DezYao",
        "colab_type": "code",
        "colab": {}
      },
      "cell_type": "code",
      "source": [
        "#1. Install a Drive FUSE wrapper google-drive-ocamlfuse.\n",
        "!apt-get install -y -qq software-properties-common python-software-properties module-init-tools\n",
        "!add-apt-repository -y ppa:alessandro-strada/ppa 2>&1 > /dev/null\n",
        "!apt-get update -qq 2>&1 > /dev/null\n",
        "!apt-get -y install -qq google-drive-ocamlfuse fuse"
      ],
      "execution_count": 0,
      "outputs": []
    },
    {
      "metadata": {
        "id": "CSyiuS5KzdYC",
        "colab_type": "code",
        "colab": {}
      },
      "cell_type": "code",
      "source": [
        "#2. Generate auth tokens for Colab\n",
        "from google.colab import auth\n",
        "auth.authenticate_user()"
      ],
      "execution_count": 0,
      "outputs": []
    },
    {
      "metadata": {
        "id": "44iUSz0kzd7x",
        "colab_type": "code",
        "colab": {}
      },
      "cell_type": "code",
      "source": [
        "#3. Generate creds for the Drive FUSE library.\n",
        "from oauth2client.client import GoogleCredentials\n",
        "creds = GoogleCredentials.get_application_default()\n",
        "import getpass\n",
        "!google-drive-ocamlfuse -headless -id={creds.client_id} -secret={creds.client_secret} < /dev/null 2>&1 | grep URL\n",
        "vcode = getpass.getpass()\n",
        "!echo {vcode} | google-drive-ocamlfuse -headless -id={creds.client_id} -secret={creds.client_secret}"
      ],
      "execution_count": 0,
      "outputs": []
    },
    {
      "metadata": {
        "id": "5293NpPSzhzS",
        "colab_type": "code",
        "colab": {}
      },
      "cell_type": "code",
      "source": [
        "#4. Create a directory and mount Google Drive using that directory.\n",
        "!mkdir -p drive\n",
        "!google-drive-ocamlfuse drive"
      ],
      "execution_count": 0,
      "outputs": []
    },
    {
      "metadata": {
        "id": "GGNjGae06vJZ",
        "colab_type": "code",
        "colab": {}
      },
      "cell_type": "code",
      "source": [
        "# commando to umount \n",
        "# !fusermount -u ML"
      ],
      "execution_count": 0,
      "outputs": []
    },
    {
      "metadata": {
        "id": "9JgY_cRbzijL",
        "colab_type": "code",
        "colab": {}
      },
      "cell_type": "code",
      "source": [
        "import os\n",
        "os.chdir(\"/content/\")"
      ],
      "execution_count": 0,
      "outputs": []
    },
    {
      "metadata": {
        "id": "NqxLma9lLw47",
        "colab_type": "code",
        "colab": {}
      },
      "cell_type": "code",
      "source": [
        "!cp -r drive/Mestrado/Primeiro/MachineLearning/MyActivities/LinearRegression/datasets /content/"
      ],
      "execution_count": 0,
      "outputs": []
    },
    {
      "metadata": {
        "id": "NySwIPdY46d-",
        "colab_type": "code",
        "colab": {
          "base_uri": "https://localhost:8080/",
          "height": 269
        },
        "outputId": "93a231d6-229b-40a2-d8d2-20c857cf6720"
      },
      "cell_type": "code",
      "source": [
        "!ls"
      ],
      "execution_count": 222,
      "outputs": [
        {
          "output_type": "stream",
          "text": [
            "adc.json\n",
            "AmesHousing.txt\n",
            "brain_body.txt\n",
            "componentes-curriculares-presenciais.csv\n",
            "datasets\n",
            "drive\n",
            "housing.csv\n",
            "idTurma-idComponente-2015a2017.csv\n",
            "idTurma-idComponente-componentes-2015a2017.csv\n",
            "matriculas2015-2017 (1).csv\n",
            "matriculas2015-2017.csv\n",
            "matriculas-de-2015.1.csv\n",
            "sample_data\n",
            "turmas2015-2017.csv\n"
          ],
          "name": "stdout"
        }
      ]
    },
    {
      "metadata": {
        "id": "vfLe8-htfL-V",
        "colab_type": "text"
      },
      "cell_type": "markdown",
      "source": [
        "## 2.2 Carregando os arquivos locais"
      ]
    },
    {
      "metadata": {
        "id": "_lcvjQcOfSJ7",
        "colab_type": "code",
        "colab": {}
      },
      "cell_type": "code",
      "source": [
        "!cp -r drive/Mestrado/Primeiro/MachineLearning/MyActivities/LinearRegression/datasets /content/"
      ],
      "execution_count": 0,
      "outputs": []
    },
    {
      "metadata": {
        "id": "kjG43eSlEDbK",
        "colab_type": "code",
        "colab": {
          "base_uri": "https://localhost:8080/",
          "height": 53
        },
        "outputId": "3024a50c-3318-4e1e-8636-08b5d075111b"
      },
      "cell_type": "code",
      "source": [
        "!ls datasets/"
      ],
      "execution_count": 104,
      "outputs": [
        {
          "output_type": "stream",
          "text": [
            "componentes-curriculares-presenciais.csv  matriculas\n",
            "cursos-graduacao.csv\t\t\t  turmas\n"
          ],
          "name": "stdout"
        }
      ]
    },
    {
      "metadata": {
        "id": "rSWPJTcRtViP",
        "colab_type": "text"
      },
      "cell_type": "markdown",
      "source": [
        "## 2.3 Estrutura dos dados"
      ]
    },
    {
      "metadata": {
        "id": "42XsR5-iGyIM",
        "colab_type": "code",
        "colab": {}
      },
      "cell_type": "code",
      "source": [
        "import pandas as pd"
      ],
      "execution_count": 0,
      "outputs": []
    },
    {
      "metadata": {
        "id": "Jp9ZugLmLyZX",
        "colab_type": "code",
        "colab": {
          "base_uri": "https://localhost:8080/",
          "height": 403
        },
        "outputId": "e1638967-9ef3-4849-dd56-dfd5dca9f120"
      },
      "cell_type": "code",
      "source": [
        "df_matriculas = pd.DataFrame()\n",
        "\n",
        "# importando matriculas de 2015 a 2017\n",
        "for i in range(15,18):\n",
        "    for j in range(1,3):\n",
        "        print('20'+str(i)+str(j))\n",
        "        df_matricula = pd.read_csv('datasets/matriculas/matriculas-de-20'+str(i)+str(j)+'.csv',sep=';')\n",
        "        #concatena as tabelas\n",
        "        df_matriculas = pd.concat([df_matriculas, df_matricula])\n",
        "        \n",
        "print(\"\\nDataFrame de Matrículas:\")\n",
        "print(df_matriculas.shape)\n",
        "display(df_matriculas.head())"
      ],
      "execution_count": 98,
      "outputs": [
        {
          "output_type": "stream",
          "text": [
            "20151\n",
            "20152\n",
            "20161\n",
            "20162\n",
            "20171\n",
            "20172\n",
            "\n",
            "DataFrame de Matrículas:\n",
            "(4089836, 11)\n"
          ],
          "name": "stdout"
        },
        {
          "output_type": "display_data",
          "data": {
            "text/plain": [
              "   Unnamed: 10  descricao                          discente  faltas_unidade  \\\n",
              "0          NaN  REPROVADO  8833c0e056f90497742882bfcc81b685             0.0   \n",
              "1          NaN  REPROVADO  8833c0e056f90497742882bfcc81b685             0.0   \n",
              "2          NaN   APROVADO  7a0a661326418111f7d17aab098757aa             0.0   \n",
              "3          NaN   APROVADO  7a0a661326418111f7d17aab098757aa             0.0   \n",
              "4          NaN   APROVADO  7a0a661326418111f7d17aab098757aa             0.0   \n",
              "\n",
              "      id_curso  id_turma  media_final  nota  numero_total_faltas reposicao  \\\n",
              "0  100300443.0  57562481          0.0   0.0                  0.0         f   \n",
              "1  100300443.0  57562481          0.0   0.0                  0.0         f   \n",
              "2  100300443.0  57562481          8.9   8.9                  0.0         f   \n",
              "3  100300443.0  57562481          8.9   8.9                  0.0         f   \n",
              "4  100300443.0  57562481          8.9   8.9                  0.0         f   \n",
              "\n",
              "   unidade  \n",
              "0      2.0  \n",
              "1      3.0  \n",
              "2      1.0  \n",
              "3      2.0  \n",
              "4      3.0  "
            ],
            "text/html": [
              "<div>\n",
              "<style scoped>\n",
              "    .dataframe tbody tr th:only-of-type {\n",
              "        vertical-align: middle;\n",
              "    }\n",
              "\n",
              "    .dataframe tbody tr th {\n",
              "        vertical-align: top;\n",
              "    }\n",
              "\n",
              "    .dataframe thead th {\n",
              "        text-align: right;\n",
              "    }\n",
              "</style>\n",
              "<table border=\"1\" class=\"dataframe\">\n",
              "  <thead>\n",
              "    <tr style=\"text-align: right;\">\n",
              "      <th></th>\n",
              "      <th>Unnamed: 10</th>\n",
              "      <th>descricao</th>\n",
              "      <th>discente</th>\n",
              "      <th>faltas_unidade</th>\n",
              "      <th>id_curso</th>\n",
              "      <th>id_turma</th>\n",
              "      <th>media_final</th>\n",
              "      <th>nota</th>\n",
              "      <th>numero_total_faltas</th>\n",
              "      <th>reposicao</th>\n",
              "      <th>unidade</th>\n",
              "    </tr>\n",
              "  </thead>\n",
              "  <tbody>\n",
              "    <tr>\n",
              "      <th>0</th>\n",
              "      <td>NaN</td>\n",
              "      <td>REPROVADO</td>\n",
              "      <td>8833c0e056f90497742882bfcc81b685</td>\n",
              "      <td>0.0</td>\n",
              "      <td>100300443.0</td>\n",
              "      <td>57562481</td>\n",
              "      <td>0.0</td>\n",
              "      <td>0.0</td>\n",
              "      <td>0.0</td>\n",
              "      <td>f</td>\n",
              "      <td>2.0</td>\n",
              "    </tr>\n",
              "    <tr>\n",
              "      <th>1</th>\n",
              "      <td>NaN</td>\n",
              "      <td>REPROVADO</td>\n",
              "      <td>8833c0e056f90497742882bfcc81b685</td>\n",
              "      <td>0.0</td>\n",
              "      <td>100300443.0</td>\n",
              "      <td>57562481</td>\n",
              "      <td>0.0</td>\n",
              "      <td>0.0</td>\n",
              "      <td>0.0</td>\n",
              "      <td>f</td>\n",
              "      <td>3.0</td>\n",
              "    </tr>\n",
              "    <tr>\n",
              "      <th>2</th>\n",
              "      <td>NaN</td>\n",
              "      <td>APROVADO</td>\n",
              "      <td>7a0a661326418111f7d17aab098757aa</td>\n",
              "      <td>0.0</td>\n",
              "      <td>100300443.0</td>\n",
              "      <td>57562481</td>\n",
              "      <td>8.9</td>\n",
              "      <td>8.9</td>\n",
              "      <td>0.0</td>\n",
              "      <td>f</td>\n",
              "      <td>1.0</td>\n",
              "    </tr>\n",
              "    <tr>\n",
              "      <th>3</th>\n",
              "      <td>NaN</td>\n",
              "      <td>APROVADO</td>\n",
              "      <td>7a0a661326418111f7d17aab098757aa</td>\n",
              "      <td>0.0</td>\n",
              "      <td>100300443.0</td>\n",
              "      <td>57562481</td>\n",
              "      <td>8.9</td>\n",
              "      <td>8.9</td>\n",
              "      <td>0.0</td>\n",
              "      <td>f</td>\n",
              "      <td>2.0</td>\n",
              "    </tr>\n",
              "    <tr>\n",
              "      <th>4</th>\n",
              "      <td>NaN</td>\n",
              "      <td>APROVADO</td>\n",
              "      <td>7a0a661326418111f7d17aab098757aa</td>\n",
              "      <td>0.0</td>\n",
              "      <td>100300443.0</td>\n",
              "      <td>57562481</td>\n",
              "      <td>8.9</td>\n",
              "      <td>8.9</td>\n",
              "      <td>0.0</td>\n",
              "      <td>f</td>\n",
              "      <td>3.0</td>\n",
              "    </tr>\n",
              "  </tbody>\n",
              "</table>\n",
              "</div>"
            ]
          },
          "metadata": {
            "tags": []
          }
        }
      ]
    },
    {
      "metadata": {
        "id": "R9-fEPdpRlku",
        "colab_type": "text"
      },
      "cell_type": "markdown",
      "source": [
        "Esse dataset representa a relação das matrículas em componentes dos cursos da instituição. Cada coluna significa:\n",
        "\n",
        "- **descrição**: Situação final do discente nessa turma.\n",
        "- **discente**: Identificador do discente da matrícula.\n",
        "- **faltas_unidade**: Quantidade de faltas na unidade.\n",
        "- **id_curso**: Identificador do curso do discente.\n",
        "- **id_turma**: Identificador da turma do discente.\n",
        "- **media_final**: Média final do discente.\n",
        "- **nota**: Nota do discente na unidade.\n",
        "- **numero_total_faltas**: Quantidade total de faltas.\n",
        "- **reposição**: Indica se o discente ficou em reposição.\n",
        "- **unidade**: Unidade corrente do período letivo."
      ]
    },
    {
      "metadata": {
        "id": "ougv2Z7fxLnA",
        "colab_type": "code",
        "colab": {
          "base_uri": "https://localhost:8080/",
          "height": 305
        },
        "outputId": "d0b20881-8122-49de-d8ea-2ccbdfaa729d"
      },
      "cell_type": "code",
      "source": [
        "df_matriculas.info(null_counts=True)"
      ],
      "execution_count": 100,
      "outputs": [
        {
          "output_type": "stream",
          "text": [
            "<class 'pandas.core.frame.DataFrame'>\n",
            "Int64Index: 4089836 entries, 0 to 632453\n",
            "Data columns (total 11 columns):\n",
            "Unnamed: 10            0 non-null float64\n",
            "descricao              4089836 non-null object\n",
            "discente               4089836 non-null object\n",
            "faltas_unidade         3467465 non-null float64\n",
            "id_curso               4068862 non-null float64\n",
            "id_turma               4089836 non-null int64\n",
            "media_final            3510693 non-null float64\n",
            "nota                   3356750 non-null float64\n",
            "numero_total_faltas    3609525 non-null float64\n",
            "reposicao              3467465 non-null object\n",
            "unidade                3467465 non-null float64\n",
            "dtypes: float64(7), int64(1), object(3)\n",
            "memory usage: 374.4+ MB\n"
          ],
          "name": "stdout"
        }
      ]
    },
    {
      "metadata": {
        "id": "f-7j53mCUkpR",
        "colab_type": "text"
      },
      "cell_type": "markdown",
      "source": [
        "- A primeira coluna do dataset é formado apenas por elementos nulos;\n",
        "- Apenas as colunas \"descrição\", \"discente\" e \"id_turma\" não possuem elementos nulos."
      ]
    },
    {
      "metadata": {
        "id": "DlAGQ6DRVd96",
        "colab_type": "code",
        "colab": {
          "base_uri": "https://localhost:8080/",
          "height": 585
        },
        "outputId": "b4821c41-3b65-4d21-9a97-b04b047904f5"
      },
      "cell_type": "code",
      "source": [
        "# concatenar todas as turmas de 2015 a 2017\n",
        "df_turmas = pd.DataFrame()\n",
        "\n",
        "for i in range(15,18):\n",
        "    for j in range(1,3):\n",
        "        print(\"20\"+str(i)+str(j))\n",
        "        f = open('datasets/turmas/turmas-20'+str(i)+str(j)+'.csv')\n",
        "        d = f.read()\n",
        "        d = d.replace(\"\\n\",\"\")\n",
        "        x = d.split(\"\\\";\\\"\")\n",
        "        a = []\n",
        "        step = 25\n",
        "        for b in range(0, len(x), step):\n",
        "            a.append(x[b:b+step])\n",
        "        df = pd.DataFrame(a[1:],columns=['id_turma']+a[0][1:])\n",
        "        df_turmas = pd.concat([df_turmas, df])\n",
        "        \n",
        "# conversoes\n",
        "df_turmas['id_turma'] = df_turmas.id_turma.astype(int)\n",
        "df_turmas['id_componente_curricular'] = df_turmas.id_componente_curricular.astype(int)\n",
        "df_turmas['ano'] = df_turmas.ano.astype(int)\n",
        "df_turmas['periodo'] = df_turmas.periodo.astype(int)\n",
        "        \n",
        "print(\"\\nDataFrame dos dados das Turmas:\")\n",
        "print(df_turmas.shape)\n",
        "display(df_turmas.head())"
      ],
      "execution_count": 147,
      "outputs": [
        {
          "output_type": "stream",
          "text": [
            "20151\n",
            "20152\n",
            "20161\n",
            "20162\n",
            "20171\n",
            "20172\n",
            "\n",
            "DataFrame dos dados das Turmas:\n",
            "(86527, 25)\n"
          ],
          "name": "stdout"
        },
        {
          "output_type": "display_data",
          "data": {
            "text/plain": [
              "   id_turma codigo_turma id_docente_interno id_docente_externo observacao  \\\n",
              "0   1217099           01              18225                                 \n",
              "1   1217100           01              18695                                 \n",
              "2   1217101           01            5753068                                 \n",
              "3   1217102           01                             109565716              \n",
              "4   1217102           01                             109565745              \n",
              "\n",
              "   id_componente_curricular nivel_ensino campus_turma  \\\n",
              "0                     52922   LATO SENSU                \n",
              "1                     52921   LATO SENSU                \n",
              "2                     52925   LATO SENSU                \n",
              "3                     52920   LATO SENSU                \n",
              "4                     52920   LATO SENSU                \n",
              "\n",
              "                                 local   ano           ...             \\\n",
              "0  Depto. de Oceanografia e Limnologia  2015           ...              \n",
              "1  Depto. de Oceanografia e Limnologia  2015           ...              \n",
              "2  Depto. de Oceanografia e Limnologia  2015           ...              \n",
              "3  Depto. de Oceanografia e Limnologia  2015           ...              \n",
              "4  Depto. de Oceanografia e Limnologia  2015           ...              \n",
              "\n",
              "   capacidade_aluno     tipo distancia        data_consolidacao agrupadora  \\\n",
              "0                26  REGULAR         f  2015-06-01 12:53:14.625          f   \n",
              "1                26  REGULAR         f  2015-10-08 16:19:21.901          f   \n",
              "2                26  REGULAR         f  2015-06-01 12:50:38.962          f   \n",
              "3                26  REGULAR         f  2015-08-26 11:48:34.146          f   \n",
              "4                26  REGULAR         f  2015-08-26 11:48:34.146          f   \n",
              "\n",
              "  id_turma_agrupadora qtd_aulas_lancadas situacao_turma convenio  \\\n",
              "0                                     15    CONSOLIDADA            \n",
              "1                                      8    CONSOLIDADA            \n",
              "2                                     30    CONSOLIDADA            \n",
              "3                                     24    CONSOLIDADA            \n",
              "4                                     24    CONSOLIDADA            \n",
              "\n",
              "  modalidade_participantes  \n",
              "0               Presencial  \n",
              "1               Presencial  \n",
              "2               Presencial  \n",
              "3               Presencial  \n",
              "4               Presencial  \n",
              "\n",
              "[5 rows x 25 columns]"
            ],
            "text/html": [
              "<div>\n",
              "<style scoped>\n",
              "    .dataframe tbody tr th:only-of-type {\n",
              "        vertical-align: middle;\n",
              "    }\n",
              "\n",
              "    .dataframe tbody tr th {\n",
              "        vertical-align: top;\n",
              "    }\n",
              "\n",
              "    .dataframe thead th {\n",
              "        text-align: right;\n",
              "    }\n",
              "</style>\n",
              "<table border=\"1\" class=\"dataframe\">\n",
              "  <thead>\n",
              "    <tr style=\"text-align: right;\">\n",
              "      <th></th>\n",
              "      <th>id_turma</th>\n",
              "      <th>codigo_turma</th>\n",
              "      <th>id_docente_interno</th>\n",
              "      <th>id_docente_externo</th>\n",
              "      <th>observacao</th>\n",
              "      <th>id_componente_curricular</th>\n",
              "      <th>nivel_ensino</th>\n",
              "      <th>campus_turma</th>\n",
              "      <th>local</th>\n",
              "      <th>ano</th>\n",
              "      <th>...</th>\n",
              "      <th>capacidade_aluno</th>\n",
              "      <th>tipo</th>\n",
              "      <th>distancia</th>\n",
              "      <th>data_consolidacao</th>\n",
              "      <th>agrupadora</th>\n",
              "      <th>id_turma_agrupadora</th>\n",
              "      <th>qtd_aulas_lancadas</th>\n",
              "      <th>situacao_turma</th>\n",
              "      <th>convenio</th>\n",
              "      <th>modalidade_participantes</th>\n",
              "    </tr>\n",
              "  </thead>\n",
              "  <tbody>\n",
              "    <tr>\n",
              "      <th>0</th>\n",
              "      <td>1217099</td>\n",
              "      <td>01</td>\n",
              "      <td>18225</td>\n",
              "      <td></td>\n",
              "      <td></td>\n",
              "      <td>52922</td>\n",
              "      <td>LATO SENSU</td>\n",
              "      <td></td>\n",
              "      <td>Depto. de Oceanografia e Limnologia</td>\n",
              "      <td>2015</td>\n",
              "      <td>...</td>\n",
              "      <td>26</td>\n",
              "      <td>REGULAR</td>\n",
              "      <td>f</td>\n",
              "      <td>2015-06-01 12:53:14.625</td>\n",
              "      <td>f</td>\n",
              "      <td></td>\n",
              "      <td>15</td>\n",
              "      <td>CONSOLIDADA</td>\n",
              "      <td></td>\n",
              "      <td>Presencial</td>\n",
              "    </tr>\n",
              "    <tr>\n",
              "      <th>1</th>\n",
              "      <td>1217100</td>\n",
              "      <td>01</td>\n",
              "      <td>18695</td>\n",
              "      <td></td>\n",
              "      <td></td>\n",
              "      <td>52921</td>\n",
              "      <td>LATO SENSU</td>\n",
              "      <td></td>\n",
              "      <td>Depto. de Oceanografia e Limnologia</td>\n",
              "      <td>2015</td>\n",
              "      <td>...</td>\n",
              "      <td>26</td>\n",
              "      <td>REGULAR</td>\n",
              "      <td>f</td>\n",
              "      <td>2015-10-08 16:19:21.901</td>\n",
              "      <td>f</td>\n",
              "      <td></td>\n",
              "      <td>8</td>\n",
              "      <td>CONSOLIDADA</td>\n",
              "      <td></td>\n",
              "      <td>Presencial</td>\n",
              "    </tr>\n",
              "    <tr>\n",
              "      <th>2</th>\n",
              "      <td>1217101</td>\n",
              "      <td>01</td>\n",
              "      <td>5753068</td>\n",
              "      <td></td>\n",
              "      <td></td>\n",
              "      <td>52925</td>\n",
              "      <td>LATO SENSU</td>\n",
              "      <td></td>\n",
              "      <td>Depto. de Oceanografia e Limnologia</td>\n",
              "      <td>2015</td>\n",
              "      <td>...</td>\n",
              "      <td>26</td>\n",
              "      <td>REGULAR</td>\n",
              "      <td>f</td>\n",
              "      <td>2015-06-01 12:50:38.962</td>\n",
              "      <td>f</td>\n",
              "      <td></td>\n",
              "      <td>30</td>\n",
              "      <td>CONSOLIDADA</td>\n",
              "      <td></td>\n",
              "      <td>Presencial</td>\n",
              "    </tr>\n",
              "    <tr>\n",
              "      <th>3</th>\n",
              "      <td>1217102</td>\n",
              "      <td>01</td>\n",
              "      <td></td>\n",
              "      <td>109565716</td>\n",
              "      <td></td>\n",
              "      <td>52920</td>\n",
              "      <td>LATO SENSU</td>\n",
              "      <td></td>\n",
              "      <td>Depto. de Oceanografia e Limnologia</td>\n",
              "      <td>2015</td>\n",
              "      <td>...</td>\n",
              "      <td>26</td>\n",
              "      <td>REGULAR</td>\n",
              "      <td>f</td>\n",
              "      <td>2015-08-26 11:48:34.146</td>\n",
              "      <td>f</td>\n",
              "      <td></td>\n",
              "      <td>24</td>\n",
              "      <td>CONSOLIDADA</td>\n",
              "      <td></td>\n",
              "      <td>Presencial</td>\n",
              "    </tr>\n",
              "    <tr>\n",
              "      <th>4</th>\n",
              "      <td>1217102</td>\n",
              "      <td>01</td>\n",
              "      <td></td>\n",
              "      <td>109565745</td>\n",
              "      <td></td>\n",
              "      <td>52920</td>\n",
              "      <td>LATO SENSU</td>\n",
              "      <td></td>\n",
              "      <td>Depto. de Oceanografia e Limnologia</td>\n",
              "      <td>2015</td>\n",
              "      <td>...</td>\n",
              "      <td>26</td>\n",
              "      <td>REGULAR</td>\n",
              "      <td>f</td>\n",
              "      <td>2015-08-26 11:48:34.146</td>\n",
              "      <td>f</td>\n",
              "      <td></td>\n",
              "      <td>24</td>\n",
              "      <td>CONSOLIDADA</td>\n",
              "      <td></td>\n",
              "      <td>Presencial</td>\n",
              "    </tr>\n",
              "  </tbody>\n",
              "</table>\n",
              "<p>5 rows × 25 columns</p>\n",
              "</div>"
            ]
          },
          "metadata": {
            "tags": []
          }
        }
      ]
    },
    {
      "metadata": {
        "id": "y09u4qtaWGgg",
        "colab_type": "text"
      },
      "cell_type": "markdown",
      "source": [
        "O dataset acima possui a relação de turmas dos cursos de nível médio, técnio, graduação e pós-graduação da UFRN. Suas colunas são:\n",
        "- **id_turma**: Identificador da turma.\n",
        "- **codigo_turma**: Código de identificação da turma.\n",
        "- **id_docente_interno**: Identificador do docente interno (id_servidor - caso seja um docente servidor da instituição).\n",
        "- **id_docente_externo**: Identificador do docente externo (caso não seja um docente servidor da instituição).\n",
        "- **observação**: Observação para a turma.\n",
        "- **id_componente_curricular**: Identificador do componente curricular da turma.\n",
        "- **nível**: Nível de ensino da turma.\n",
        "- **campus_turma**: Campus onde a turma é ofertada.\n",
        "- **local**: Local físico de oferta da turma.\n",
        "- **ano**: Ano de oferta da turma.\n",
        "- **período**: Período de oferta da turma.\n",
        "- **data_início**: Data de início da turma.\n",
        "- **data_fim**: Data de término da turma.\n",
        "- **descrição_horário**: Descrição textual da expressão de horário.\n",
        "- **total_solicitações**: Total de solicitações de matrícula cadastradas para a turma.\n",
        "- **capacidade_aluno**: Capacidade de discentes na turma.\n",
        "- **tipo**: Identificador para informar o tipo da Turma.\n",
        "- **distância**: Condicional para informar se a turma é oferta na\n",
        "modalidade a distância.\n",
        "- **data_consolidação**: Data de consolidação da turma.\n",
        "- **agrupadora**: Condicional para informar se a turma funciona\n",
        "como agrupadora para subturmas.\n",
        "- **id_turma_agrupadora**: Corresponde ao id_turma da agrupadora desta turma.\n",
        "- **qtd_aulas_lançadas**: Quantitativo de aulas lançadas pelo docente.\n",
        "- **situação_turma**: Situação da turma.\n",
        "- **convênio**: Convênio de vínculo com a turma\n",
        "- **modalidade_participantes**: Modalidade de educação para alunos destinados a turma."
      ]
    },
    {
      "metadata": {
        "id": "GN2ppc_UY-Cx",
        "colab_type": "code",
        "colab": {
          "base_uri": "https://localhost:8080/",
          "height": 557
        },
        "outputId": "bcf32051-cda5-4b7e-846b-f8ee6b9d5681"
      },
      "cell_type": "code",
      "source": [
        "df_turmas.info()"
      ],
      "execution_count": 148,
      "outputs": [
        {
          "output_type": "stream",
          "text": [
            "<class 'pandas.core.frame.DataFrame'>\n",
            "Int64Index: 86527 entries, 0 to 14471\n",
            "Data columns (total 25 columns):\n",
            "id_turma                    86527 non-null int64\n",
            "codigo_turma                86527 non-null object\n",
            "id_docente_interno          86527 non-null object\n",
            "id_docente_externo          86527 non-null object\n",
            "observacao                  86527 non-null object\n",
            "id_componente_curricular    86527 non-null int64\n",
            "nivel_ensino                86527 non-null object\n",
            "campus_turma                86527 non-null object\n",
            "local                       86527 non-null object\n",
            "ano                         86527 non-null int64\n",
            "periodo                     86527 non-null int64\n",
            "data_inicio                 86527 non-null object\n",
            "data_fim                    86527 non-null object\n",
            "descricao_horario           86527 non-null object\n",
            "total_solicitacoes          86527 non-null object\n",
            "capacidade_aluno            86527 non-null object\n",
            "tipo                        86527 non-null object\n",
            "distancia                   86527 non-null object\n",
            "data_consolidacao           86527 non-null object\n",
            "agrupadora                  86527 non-null object\n",
            "id_turma_agrupadora         86527 non-null object\n",
            "qtd_aulas_lancadas          86527 non-null object\n",
            "situacao_turma              86527 non-null object\n",
            "convenio                    86527 non-null object\n",
            "modalidade_participantes    86527 non-null object\n",
            "dtypes: int64(4), object(21)\n",
            "memory usage: 17.2+ MB\n"
          ],
          "name": "stdout"
        }
      ]
    },
    {
      "metadata": {
        "id": "xEwNqxhtZGSi",
        "colab_type": "text"
      },
      "cell_type": "markdown",
      "source": [
        "- É possível observar que esse dataset não possui dados nulos."
      ]
    },
    {
      "metadata": {
        "id": "xRJqArsNZwod",
        "colab_type": "code",
        "colab": {
          "base_uri": "https://localhost:8080/",
          "height": 493
        },
        "outputId": "63d389c1-954b-4266-e03c-8fd604664594"
      },
      "cell_type": "code",
      "source": [
        "# tabela dos cursos de graduação da UFRN\n",
        "cursos = pd.read_csv('datasets/cursos-graduacao.csv',sep=';')\n",
        "\n",
        "print(\"Tabela dos cursos de graduação da UFRN:\")\n",
        "print(cursos.shape)\n",
        "display(cursos.head())"
      ],
      "execution_count": 170,
      "outputs": [
        {
          "output_type": "stream",
          "text": [
            "Tabela dos cursos de graduação da UFRN:\n",
            "(116, 23)\n"
          ],
          "name": "stdout"
        },
        {
          "output_type": "display_data",
          "data": {
            "text/plain": [
              "   id_curso                                   nome  id_coordenador  \\\n",
              "0   2000004                          ADMINISTRAÇÃO         24415.0   \n",
              "1  15315770                  ADMINISTRAÇÃO PÚBLICA         23122.0   \n",
              "2   2576632                              AGRONOMIA       5758350.0   \n",
              "3  94598200  ANÁLISE E DESENVOLVIMENTO DE SISTEMAS       5757908.0   \n",
              "4   2000005                ARQUITETURA E URBANISMO       5756800.0   \n",
              "\n",
              "                          coordenador situacao_curso nivel_ensino  \\\n",
              "0     ANDREA CRISTINA SANTOS DE JESUS          ATIVO    GRADUAÇÃO   \n",
              "1          MATILDE MEDEIROS DE ARAÚJO          ATIVO    GRADUAÇÃO   \n",
              "2        JOSE HAMILTON DA COSTA FILHO          ATIVO    GRADUAÇÃO   \n",
              "3             TANIRO CHACON RODRIGUES          ATIVO    GRADUAÇÃO   \n",
              "4  GLAUCE LILIAN ALVES DE ALBUQUERQUE          ATIVO    GRADUAÇÃO   \n",
              "\n",
              "  grau_academico modalidade_educacao           area_conhecimento tipo_oferta  \\\n",
              "0    BACHARELADO          Presencial  Ciências Sociais Aplicadas     Regular   \n",
              "1    BACHARELADO         A Distância  Ciências Sociais Aplicadas     Regular   \n",
              "2    BACHARELADO          Presencial           Ciências Agrárias     Regular   \n",
              "3    TECNOLÓGICO          Presencial                       Outra       Anual   \n",
              "4    BACHARELADO          Presencial                 Engenharias     Regular   \n",
              "\n",
              "      ...                    campus id_unidade_responsavel  \\\n",
              "0     ...      Campus Currais Novos                   1482   \n",
              "1     ...                       NaN                    443   \n",
              "2     ...                       NaN                    351   \n",
              "3     ...                       NaN                    351   \n",
              "4     ...            Campus Central                    445   \n",
              "\n",
              "                    unidade_responsavel website  data_funcionamento  \\\n",
              "0  CENTRO DE  ENSINO SUPERIOR DO SERIDÓ     NaN          1978-09-15   \n",
              "1  CENTRO DE CIÊNCIAS SOCIAIS APLICADAS     NaN                 NaN   \n",
              "2            ESCOLA AGRÍCOLA DE JUNDIAÍ     NaN                 NaN   \n",
              "3            ESCOLA AGRÍCOLA DE JUNDIAÍ     NaN                 NaN   \n",
              "4                  CENTRO DE TECNOLOGIA     NaN          1973-08-13   \n",
              "\n",
              "  codigo_inep         dou            portaria_reconhecimento  \\\n",
              "0     12355.0  2017-04-04         Portaria nº 272/2017 - MEC   \n",
              "1   1151028.0  2014-04-11   Portaria nº 226/2014 - DIREG/MEC   \n",
              "2   1127694.0  2018-03-02         Portaria Nº 133/2018 - MEC   \n",
              "3   1188193.0  2015-12-24  Portaria nº 1034/2015 - DIREG/MEC   \n",
              "4     12343.0  2015-12-30  Portaria nº 1098/2015 - DIREG/MEC   \n",
              "\n",
              "   convenio_academico Unnamed: 22  \n",
              "0                 NaN         NaN  \n",
              "1                 NaN         NaN  \n",
              "2                 NaN         NaN  \n",
              "3                 NaN         NaN  \n",
              "4                 NaN         NaN  \n",
              "\n",
              "[5 rows x 23 columns]"
            ],
            "text/html": [
              "<div>\n",
              "<style scoped>\n",
              "    .dataframe tbody tr th:only-of-type {\n",
              "        vertical-align: middle;\n",
              "    }\n",
              "\n",
              "    .dataframe tbody tr th {\n",
              "        vertical-align: top;\n",
              "    }\n",
              "\n",
              "    .dataframe thead th {\n",
              "        text-align: right;\n",
              "    }\n",
              "</style>\n",
              "<table border=\"1\" class=\"dataframe\">\n",
              "  <thead>\n",
              "    <tr style=\"text-align: right;\">\n",
              "      <th></th>\n",
              "      <th>id_curso</th>\n",
              "      <th>nome</th>\n",
              "      <th>id_coordenador</th>\n",
              "      <th>coordenador</th>\n",
              "      <th>situacao_curso</th>\n",
              "      <th>nivel_ensino</th>\n",
              "      <th>grau_academico</th>\n",
              "      <th>modalidade_educacao</th>\n",
              "      <th>area_conhecimento</th>\n",
              "      <th>tipo_oferta</th>\n",
              "      <th>...</th>\n",
              "      <th>campus</th>\n",
              "      <th>id_unidade_responsavel</th>\n",
              "      <th>unidade_responsavel</th>\n",
              "      <th>website</th>\n",
              "      <th>data_funcionamento</th>\n",
              "      <th>codigo_inep</th>\n",
              "      <th>dou</th>\n",
              "      <th>portaria_reconhecimento</th>\n",
              "      <th>convenio_academico</th>\n",
              "      <th>Unnamed: 22</th>\n",
              "    </tr>\n",
              "  </thead>\n",
              "  <tbody>\n",
              "    <tr>\n",
              "      <th>0</th>\n",
              "      <td>2000004</td>\n",
              "      <td>ADMINISTRAÇÃO</td>\n",
              "      <td>24415.0</td>\n",
              "      <td>ANDREA CRISTINA SANTOS DE JESUS</td>\n",
              "      <td>ATIVO</td>\n",
              "      <td>GRADUAÇÃO</td>\n",
              "      <td>BACHARELADO</td>\n",
              "      <td>Presencial</td>\n",
              "      <td>Ciências Sociais Aplicadas</td>\n",
              "      <td>Regular</td>\n",
              "      <td>...</td>\n",
              "      <td>Campus Currais Novos</td>\n",
              "      <td>1482</td>\n",
              "      <td>CENTRO DE  ENSINO SUPERIOR DO SERIDÓ</td>\n",
              "      <td>NaN</td>\n",
              "      <td>1978-09-15</td>\n",
              "      <td>12355.0</td>\n",
              "      <td>2017-04-04</td>\n",
              "      <td>Portaria nº 272/2017 - MEC</td>\n",
              "      <td>NaN</td>\n",
              "      <td>NaN</td>\n",
              "    </tr>\n",
              "    <tr>\n",
              "      <th>1</th>\n",
              "      <td>15315770</td>\n",
              "      <td>ADMINISTRAÇÃO PÚBLICA</td>\n",
              "      <td>23122.0</td>\n",
              "      <td>MATILDE MEDEIROS DE ARAÚJO</td>\n",
              "      <td>ATIVO</td>\n",
              "      <td>GRADUAÇÃO</td>\n",
              "      <td>BACHARELADO</td>\n",
              "      <td>A Distância</td>\n",
              "      <td>Ciências Sociais Aplicadas</td>\n",
              "      <td>Regular</td>\n",
              "      <td>...</td>\n",
              "      <td>NaN</td>\n",
              "      <td>443</td>\n",
              "      <td>CENTRO DE CIÊNCIAS SOCIAIS APLICADAS</td>\n",
              "      <td>NaN</td>\n",
              "      <td>NaN</td>\n",
              "      <td>1151028.0</td>\n",
              "      <td>2014-04-11</td>\n",
              "      <td>Portaria nº 226/2014 - DIREG/MEC</td>\n",
              "      <td>NaN</td>\n",
              "      <td>NaN</td>\n",
              "    </tr>\n",
              "    <tr>\n",
              "      <th>2</th>\n",
              "      <td>2576632</td>\n",
              "      <td>AGRONOMIA</td>\n",
              "      <td>5758350.0</td>\n",
              "      <td>JOSE HAMILTON DA COSTA FILHO</td>\n",
              "      <td>ATIVO</td>\n",
              "      <td>GRADUAÇÃO</td>\n",
              "      <td>BACHARELADO</td>\n",
              "      <td>Presencial</td>\n",
              "      <td>Ciências Agrárias</td>\n",
              "      <td>Regular</td>\n",
              "      <td>...</td>\n",
              "      <td>NaN</td>\n",
              "      <td>351</td>\n",
              "      <td>ESCOLA AGRÍCOLA DE JUNDIAÍ</td>\n",
              "      <td>NaN</td>\n",
              "      <td>NaN</td>\n",
              "      <td>1127694.0</td>\n",
              "      <td>2018-03-02</td>\n",
              "      <td>Portaria Nº 133/2018 - MEC</td>\n",
              "      <td>NaN</td>\n",
              "      <td>NaN</td>\n",
              "    </tr>\n",
              "    <tr>\n",
              "      <th>3</th>\n",
              "      <td>94598200</td>\n",
              "      <td>ANÁLISE E DESENVOLVIMENTO DE SISTEMAS</td>\n",
              "      <td>5757908.0</td>\n",
              "      <td>TANIRO CHACON RODRIGUES</td>\n",
              "      <td>ATIVO</td>\n",
              "      <td>GRADUAÇÃO</td>\n",
              "      <td>TECNOLÓGICO</td>\n",
              "      <td>Presencial</td>\n",
              "      <td>Outra</td>\n",
              "      <td>Anual</td>\n",
              "      <td>...</td>\n",
              "      <td>NaN</td>\n",
              "      <td>351</td>\n",
              "      <td>ESCOLA AGRÍCOLA DE JUNDIAÍ</td>\n",
              "      <td>NaN</td>\n",
              "      <td>NaN</td>\n",
              "      <td>1188193.0</td>\n",
              "      <td>2015-12-24</td>\n",
              "      <td>Portaria nº 1034/2015 - DIREG/MEC</td>\n",
              "      <td>NaN</td>\n",
              "      <td>NaN</td>\n",
              "    </tr>\n",
              "    <tr>\n",
              "      <th>4</th>\n",
              "      <td>2000005</td>\n",
              "      <td>ARQUITETURA E URBANISMO</td>\n",
              "      <td>5756800.0</td>\n",
              "      <td>GLAUCE LILIAN ALVES DE ALBUQUERQUE</td>\n",
              "      <td>ATIVO</td>\n",
              "      <td>GRADUAÇÃO</td>\n",
              "      <td>BACHARELADO</td>\n",
              "      <td>Presencial</td>\n",
              "      <td>Engenharias</td>\n",
              "      <td>Regular</td>\n",
              "      <td>...</td>\n",
              "      <td>Campus Central</td>\n",
              "      <td>445</td>\n",
              "      <td>CENTRO DE TECNOLOGIA</td>\n",
              "      <td>NaN</td>\n",
              "      <td>1973-08-13</td>\n",
              "      <td>12343.0</td>\n",
              "      <td>2015-12-30</td>\n",
              "      <td>Portaria nº 1098/2015 - DIREG/MEC</td>\n",
              "      <td>NaN</td>\n",
              "      <td>NaN</td>\n",
              "    </tr>\n",
              "  </tbody>\n",
              "</table>\n",
              "<p>5 rows × 23 columns</p>\n",
              "</div>"
            ]
          },
          "metadata": {
            "tags": []
          }
        }
      ]
    },
    {
      "metadata": {
        "id": "fGPtu6absiy7",
        "colab_type": "text"
      },
      "cell_type": "markdown",
      "source": [
        "Acima tem-se a relação dos cursos de graduação, onde suas colunas são:\n",
        "- **id_curso**: Identificador do curso.\n",
        "- **nome**: Nome do curso.\n",
        "- **id_coordenador**: Identificador do coordenador (id_servidor) do curso.\n",
        "- **coordenador**: Nome do coordenador do curso.\n",
        "- **situacao_curso**: Situação de controle curso.\n",
        "- **nivel_ensino**: Nível de ensino do curso.\n",
        "- **grau_academico**: Grau acadêmico do curso. \n",
        "- **modalidade_educacao**: Modalidade de educação em relação a forma de oferta.\n",
        "- **area_conhecimento**: Área de conhecimento do curso.\n",
        "- **tipo_oferta**: Tipo de oferta do curso.\n",
        "- **turno**: Turno do curso.\n",
        "- **tipo_ciclo_formacao**: Ciclo de formação do curso: Um ciclo ou Dois\n",
        "ciclos.\n",
        "- **municipio**: Município de atuação do curso.\n",
        "- **campus**: Campus onde é oferecido o curso.\n",
        "- **id_unidade_responsavel**: Identificador da unidade acadêmica responsável pelo curso.\n",
        "- **unidade_responsavel**: Unidade acadêmica responsável pelo curso.\n",
        "- **website**: Site contendo mais informação sobre o curso.\n",
        "- **data_funcionamento**: Data de inicio de funcionamento do curso.\n",
        "- **codigo_inep**: Código INEP do curso junto ao MEC.\n",
        "- **dou**: Data da portaria de liberação do curso.\n",
        "- **portaria_reconhecimento**: Portaria de reconhecimento junto ao MEC.\n",
        "- **convenio_academico**: Convênio acadêmico do curso.\n"
      ]
    },
    {
      "metadata": {
        "id": "heE6cdkksf2Z",
        "colab_type": "code",
        "colab": {
          "base_uri": "https://localhost:8080/",
          "height": 521
        },
        "outputId": "2fb5fe9e-148f-459a-d8c2-0eb5c4db65e4"
      },
      "cell_type": "code",
      "source": [
        "cursos.info()"
      ],
      "execution_count": 171,
      "outputs": [
        {
          "output_type": "stream",
          "text": [
            "<class 'pandas.core.frame.DataFrame'>\n",
            "RangeIndex: 116 entries, 0 to 115\n",
            "Data columns (total 23 columns):\n",
            "id_curso                   116 non-null int64\n",
            "nome                       116 non-null object\n",
            "id_coordenador             114 non-null float64\n",
            "coordenador                114 non-null object\n",
            "situacao_curso             116 non-null object\n",
            "nivel_ensino               116 non-null object\n",
            "grau_academico             116 non-null object\n",
            "modalidade_educacao        116 non-null object\n",
            "area_conhecimento          116 non-null object\n",
            "tipo_oferta                116 non-null object\n",
            "turno                      70 non-null object\n",
            "tipo_ciclo_formacao        116 non-null object\n",
            "municipio                  116 non-null object\n",
            "campus                     65 non-null object\n",
            "id_unidade_responsavel     116 non-null int64\n",
            "unidade_responsavel        116 non-null object\n",
            "website                    68 non-null object\n",
            "data_funcionamento         70 non-null object\n",
            "codigo_inep                115 non-null float64\n",
            "dou                        111 non-null object\n",
            "portaria_reconhecimento    111 non-null object\n",
            "convenio_academico         3 non-null object\n",
            "Unnamed: 22                0 non-null float64\n",
            "dtypes: float64(3), int64(2), object(18)\n",
            "memory usage: 20.9+ KB\n"
          ],
          "name": "stdout"
        }
      ]
    },
    {
      "metadata": {
        "id": "HP9nmxDDa1T5",
        "colab_type": "code",
        "colab": {
          "base_uri": "https://localhost:8080/",
          "height": 443
        },
        "outputId": "9278dc34-e305-421d-86e3-6a98f6dff0ca"
      },
      "cell_type": "code",
      "source": [
        "# tabela dos componentes curriculares presenciais dos cursos da UFRN\n",
        "componentes = pd.read_csv('datasets/componentes-curriculares-presenciais.csv')\n",
        "\n",
        "print(\"\\nTabela dos componentes curriculares presenciais dos cursos:\")\n",
        "print(componentes.shape)\n",
        "display(componentes.head())"
      ],
      "execution_count": 173,
      "outputs": [
        {
          "output_type": "stream",
          "text": [
            "\n",
            "Tabela dos componentes curriculares presenciais dos cursos:\n",
            "(34951, 30)\n"
          ],
          "name": "stdout"
        },
        {
          "output_type": "display_data",
          "data": {
            "text/plain": [
              "   Unnamed: 0  id_componente tipo_componente  codigo nivel  \\\n",
              "0           0          18643      DISCIPLINA  MUT508     T   \n",
              "1           1          18644      DISCIPLINA  MUT516     T   \n",
              "2           2          18645      DISCIPLINA  MUT520     T   \n",
              "3           3          18646      DISCIPLINA  MUT165     T   \n",
              "4           4          18647      DISCIPLINA  MUT167     T   \n",
              "\n",
              "                               nome unidade_responsavel  ch_teorico  \\\n",
              "0  COMPOSIÇÃO EM MÚSICA POPULAR III    ESCOLA DE MÚSICA          60   \n",
              "1                      CO-REPETIÇÃO    ESCOLA DE MÚSICA          30   \n",
              "2            CONTRABAIXO ACÚSTICO I    ESCOLA DE MÚSICA          30   \n",
              "3              PIANO COMPLEMENTAR I    ESCOLA DE MÚSICA          15   \n",
              "4            PIANO COMPLEMENTAR III    ESCOLA DE MÚSICA          15   \n",
              "\n",
              "   ch_pratico  ch_estagio       ...         ementa  bibliografia  objetivos  \\\n",
              "0           0           0       ...            NaN           NaN        NaN   \n",
              "1           0           0       ...            NaN           NaN        NaN   \n",
              "2           0           0       ...            NaN           NaN        NaN   \n",
              "3           0           0       ...            NaN           NaN        NaN   \n",
              "4           0           0       ...            NaN           NaN        NaN   \n",
              "\n",
              "   conteudo competencias_habilidades  referencias ano_programa  \\\n",
              "0       NaN                      NaN          NaN          NaN   \n",
              "1       NaN                      NaN          NaN          NaN   \n",
              "2       NaN                      NaN          NaN          NaN   \n",
              "3       NaN                      NaN          NaN          NaN   \n",
              "4       NaN                      NaN          NaN          NaN   \n",
              "\n",
              "  periodo_programa  modalidade curso_componente  \n",
              "0              NaN  Presencial              NaN  \n",
              "1              NaN  Presencial              NaN  \n",
              "2              NaN  Presencial              NaN  \n",
              "3              NaN  Presencial              NaN  \n",
              "4              NaN  Presencial              NaN  \n",
              "\n",
              "[5 rows x 30 columns]"
            ],
            "text/html": [
              "<div>\n",
              "<style scoped>\n",
              "    .dataframe tbody tr th:only-of-type {\n",
              "        vertical-align: middle;\n",
              "    }\n",
              "\n",
              "    .dataframe tbody tr th {\n",
              "        vertical-align: top;\n",
              "    }\n",
              "\n",
              "    .dataframe thead th {\n",
              "        text-align: right;\n",
              "    }\n",
              "</style>\n",
              "<table border=\"1\" class=\"dataframe\">\n",
              "  <thead>\n",
              "    <tr style=\"text-align: right;\">\n",
              "      <th></th>\n",
              "      <th>Unnamed: 0</th>\n",
              "      <th>id_componente</th>\n",
              "      <th>tipo_componente</th>\n",
              "      <th>codigo</th>\n",
              "      <th>nivel</th>\n",
              "      <th>nome</th>\n",
              "      <th>unidade_responsavel</th>\n",
              "      <th>ch_teorico</th>\n",
              "      <th>ch_pratico</th>\n",
              "      <th>ch_estagio</th>\n",
              "      <th>...</th>\n",
              "      <th>ementa</th>\n",
              "      <th>bibliografia</th>\n",
              "      <th>objetivos</th>\n",
              "      <th>conteudo</th>\n",
              "      <th>competencias_habilidades</th>\n",
              "      <th>referencias</th>\n",
              "      <th>ano_programa</th>\n",
              "      <th>periodo_programa</th>\n",
              "      <th>modalidade</th>\n",
              "      <th>curso_componente</th>\n",
              "    </tr>\n",
              "  </thead>\n",
              "  <tbody>\n",
              "    <tr>\n",
              "      <th>0</th>\n",
              "      <td>0</td>\n",
              "      <td>18643</td>\n",
              "      <td>DISCIPLINA</td>\n",
              "      <td>MUT508</td>\n",
              "      <td>T</td>\n",
              "      <td>COMPOSIÇÃO EM MÚSICA POPULAR III</td>\n",
              "      <td>ESCOLA DE MÚSICA</td>\n",
              "      <td>60</td>\n",
              "      <td>0</td>\n",
              "      <td>0</td>\n",
              "      <td>...</td>\n",
              "      <td>NaN</td>\n",
              "      <td>NaN</td>\n",
              "      <td>NaN</td>\n",
              "      <td>NaN</td>\n",
              "      <td>NaN</td>\n",
              "      <td>NaN</td>\n",
              "      <td>NaN</td>\n",
              "      <td>NaN</td>\n",
              "      <td>Presencial</td>\n",
              "      <td>NaN</td>\n",
              "    </tr>\n",
              "    <tr>\n",
              "      <th>1</th>\n",
              "      <td>1</td>\n",
              "      <td>18644</td>\n",
              "      <td>DISCIPLINA</td>\n",
              "      <td>MUT516</td>\n",
              "      <td>T</td>\n",
              "      <td>CO-REPETIÇÃO</td>\n",
              "      <td>ESCOLA DE MÚSICA</td>\n",
              "      <td>30</td>\n",
              "      <td>0</td>\n",
              "      <td>0</td>\n",
              "      <td>...</td>\n",
              "      <td>NaN</td>\n",
              "      <td>NaN</td>\n",
              "      <td>NaN</td>\n",
              "      <td>NaN</td>\n",
              "      <td>NaN</td>\n",
              "      <td>NaN</td>\n",
              "      <td>NaN</td>\n",
              "      <td>NaN</td>\n",
              "      <td>Presencial</td>\n",
              "      <td>NaN</td>\n",
              "    </tr>\n",
              "    <tr>\n",
              "      <th>2</th>\n",
              "      <td>2</td>\n",
              "      <td>18645</td>\n",
              "      <td>DISCIPLINA</td>\n",
              "      <td>MUT520</td>\n",
              "      <td>T</td>\n",
              "      <td>CONTRABAIXO ACÚSTICO I</td>\n",
              "      <td>ESCOLA DE MÚSICA</td>\n",
              "      <td>30</td>\n",
              "      <td>0</td>\n",
              "      <td>0</td>\n",
              "      <td>...</td>\n",
              "      <td>NaN</td>\n",
              "      <td>NaN</td>\n",
              "      <td>NaN</td>\n",
              "      <td>NaN</td>\n",
              "      <td>NaN</td>\n",
              "      <td>NaN</td>\n",
              "      <td>NaN</td>\n",
              "      <td>NaN</td>\n",
              "      <td>Presencial</td>\n",
              "      <td>NaN</td>\n",
              "    </tr>\n",
              "    <tr>\n",
              "      <th>3</th>\n",
              "      <td>3</td>\n",
              "      <td>18646</td>\n",
              "      <td>DISCIPLINA</td>\n",
              "      <td>MUT165</td>\n",
              "      <td>T</td>\n",
              "      <td>PIANO COMPLEMENTAR I</td>\n",
              "      <td>ESCOLA DE MÚSICA</td>\n",
              "      <td>15</td>\n",
              "      <td>0</td>\n",
              "      <td>0</td>\n",
              "      <td>...</td>\n",
              "      <td>NaN</td>\n",
              "      <td>NaN</td>\n",
              "      <td>NaN</td>\n",
              "      <td>NaN</td>\n",
              "      <td>NaN</td>\n",
              "      <td>NaN</td>\n",
              "      <td>NaN</td>\n",
              "      <td>NaN</td>\n",
              "      <td>Presencial</td>\n",
              "      <td>NaN</td>\n",
              "    </tr>\n",
              "    <tr>\n",
              "      <th>4</th>\n",
              "      <td>4</td>\n",
              "      <td>18647</td>\n",
              "      <td>DISCIPLINA</td>\n",
              "      <td>MUT167</td>\n",
              "      <td>T</td>\n",
              "      <td>PIANO COMPLEMENTAR III</td>\n",
              "      <td>ESCOLA DE MÚSICA</td>\n",
              "      <td>15</td>\n",
              "      <td>0</td>\n",
              "      <td>0</td>\n",
              "      <td>...</td>\n",
              "      <td>NaN</td>\n",
              "      <td>NaN</td>\n",
              "      <td>NaN</td>\n",
              "      <td>NaN</td>\n",
              "      <td>NaN</td>\n",
              "      <td>NaN</td>\n",
              "      <td>NaN</td>\n",
              "      <td>NaN</td>\n",
              "      <td>Presencial</td>\n",
              "      <td>NaN</td>\n",
              "    </tr>\n",
              "  </tbody>\n",
              "</table>\n",
              "<p>5 rows × 30 columns</p>\n",
              "</div>"
            ]
          },
          "metadata": {
            "tags": []
          }
        }
      ]
    },
    {
      "metadata": {
        "id": "wPQIaAvNud51",
        "colab_type": "text"
      },
      "cell_type": "markdown",
      "source": [
        "Relação de componentes curriculares oferecidos pela UFRN na modalidade de ensino presencial. Sendo as colunas:\n",
        "- **id_componente**: Identificador do componente curricular.\n",
        "- **tipo_componente**: Informa o tipo de componente curricular.\n",
        "- **codigo**: Código do componente curricular. \n",
        "- **nivel**: Nível de ensino acadêmico.\n",
        "- **nome**: Nome do componente.\n",
        "- **unidade_responsavel**: Unidade acadêmica de responsabilidade sobre o componente.\n",
        "- **ch_teorico**: Valor da carga horária teórica do componente.\n",
        "- **ch_pratico**: Valor da carga horária prática do componente.\n",
        "- **ch_estagio**: Valor da carga horária de estágio do componente.\n",
        "- **ch_total**: Valor da carga horária total do componente.\n",
        "- **ch_dedicada_docente**: Valor da carga horária de dedicação exclusiva do docente as turmas do componente.\n",
        "- **ch_ead**: Valor da carga horária de ensino a distância do componente.\n",
        "- **cr_max_ead**: Porcentagem máxima permitida de créditos de aula à distância em relação ao total de créditos.\n",
        "- **permite_horario_flexivel**: Indica se o componente permite horário flexível.\n",
        "- **qtd_unidades**: Número de unidades de avaliações.\n",
        "- **procedimentos_avaliacao**: Procedimentos acadêmicos utilizados para avaliação das competências dos alunos sobre o componente curricular.\n",
        "- **equivalencia**: Componentes equivalentes ao componente curricular.\n",
        "- **pre_requisito**: Componentes pré-requisitos para o componente curricular.\n",
        "- **co_requisito**: Componentes co-requisitos do componente curricular.\n",
        "- **ementa**: Ementa referente ao componente curricular.\n",
        "- **bibliografia**: Referências bibliográficas. \n",
        "- **objetivos**: Objetivos alcançados no cumprimento do componente.\n",
        "- **conteudo**: Conteúdo descritivo do componente.\n",
        "- **competencias_habilidades**: Competências e habilidade adquiridas ao término do componente curricular.\n",
        "- **referencias**: Referências de estudo para o componente.\n",
        "- **ano_programa**: Ano letivo do último conteúdo programático registrado.\n",
        "- **periodo_programa**: Período letivo do último conteúdo programático registrado.\n",
        "- **modalidade**: Modalidade de educação aplicada no componente, conforme sua natureza, se presencial ou distância.\n",
        "- **curso_componente**: Lista de cursos que utilizam o componente em sua estrutura curricular."
      ]
    },
    {
      "metadata": {
        "id": "hZoH8rABuSvI",
        "colab_type": "code",
        "colab": {
          "base_uri": "https://localhost:8080/",
          "height": 647
        },
        "outputId": "373a027b-fb0a-4900-9f57-8324dfc41ff7"
      },
      "cell_type": "code",
      "source": [
        "componentes.info()"
      ],
      "execution_count": 174,
      "outputs": [
        {
          "output_type": "stream",
          "text": [
            "<class 'pandas.core.frame.DataFrame'>\n",
            "RangeIndex: 34951 entries, 0 to 34950\n",
            "Data columns (total 30 columns):\n",
            "Unnamed: 0                  34951 non-null int64\n",
            "id_componente               34951 non-null int64\n",
            "tipo_componente             34951 non-null object\n",
            "codigo                      34951 non-null object\n",
            "nivel                       34951 non-null object\n",
            "nome                        34950 non-null object\n",
            "unidade_responsavel         34951 non-null object\n",
            "ch_teorico                  34951 non-null int64\n",
            "ch_pratico                  34951 non-null int64\n",
            "ch_estagio                  34951 non-null int64\n",
            "ch_total                    34951 non-null int64\n",
            "ch_dedicada_docente         34951 non-null int64\n",
            "ch_ead                      34951 non-null int64\n",
            "cr_max_ead                  34951 non-null int64\n",
            "permite_horario_flexivel    34951 non-null object\n",
            "qtd_unidades                28194 non-null float64\n",
            "procedimentos_avaliacao     4448 non-null object\n",
            "equivalencia                10332 non-null object\n",
            "pre_requisito               9030 non-null object\n",
            "co_requisito                870 non-null object\n",
            "ementa                      29718 non-null object\n",
            "bibliografia                0 non-null float64\n",
            "objetivos                   9737 non-null object\n",
            "conteudo                    9735 non-null object\n",
            "competencias_habilidades    9579 non-null object\n",
            "referencias                 4445 non-null object\n",
            "ano_programa                9693 non-null float64\n",
            "periodo_programa            9693 non-null float64\n",
            "modalidade                  34951 non-null object\n",
            "curso_componente            8348 non-null object\n",
            "dtypes: float64(4), int64(9), object(17)\n",
            "memory usage: 8.0+ MB\n"
          ],
          "name": "stdout"
        }
      ]
    },
    {
      "metadata": {
        "id": "JIu0SsA2bZrp",
        "colab_type": "text"
      },
      "cell_type": "markdown",
      "source": [
        "## 2.4 Filtrando os valores que importam"
      ]
    },
    {
      "metadata": {
        "id": "Bxx7CAvHbfiX",
        "colab_type": "text"
      },
      "cell_type": "markdown",
      "source": [
        "Atualmente, temos todos os dados dos anos de 2015 a 2017 dos alunos da UFRN, agora será filtrado as notas dos alunos nas turmas de Cálculo I do curso de Ciências e Tecnologia.\n",
        "\n",
        "Para obter esses dados, primeiro será preciso o ID do curso de Ciências e Tecnologia que será obtido na tabela \"cursos de graduação\"."
      ]
    },
    {
      "metadata": {
        "id": "j7NpJV1Lcfbk",
        "colab_type": "code",
        "colab": {
          "base_uri": "https://localhost:8080/",
          "height": 249
        },
        "outputId": "aca81a27-172e-4058-9a2b-40c8c96ec678"
      },
      "cell_type": "code",
      "source": [
        "id_cet = cursos[cursos['nome']=='CIÊNCIAS E TECNOLOGIA'].id_curso\n",
        "print(\"ID de CeT:\"+str(id_cet.values)+\"\\n\")\n",
        "\n",
        "df_matriculasCeT = df_matriculas[df_matriculas['id_curso']==float(id_cet)].reset_index()\n",
        "\n",
        "colunas = ['descricao',\t'discente',\t'faltas_unidade',\t'id_turma',\n",
        "           'media_final',\t'nota',\t'numero_total_faltas',\t'reposicao',\t'unidade']\n",
        "df_matriculasCeT = df_matriculasCeT[colunas]\n",
        "\n",
        "df_matriculasCeT.head(3)"
      ],
      "execution_count": 128,
      "outputs": [
        {
          "output_type": "stream",
          "text": [
            "ID de CeT:[10320810]\n",
            "\n"
          ],
          "name": "stdout"
        },
        {
          "output_type": "execute_result",
          "data": {
            "text/html": [
              "<div>\n",
              "<style scoped>\n",
              "    .dataframe tbody tr th:only-of-type {\n",
              "        vertical-align: middle;\n",
              "    }\n",
              "\n",
              "    .dataframe tbody tr th {\n",
              "        vertical-align: top;\n",
              "    }\n",
              "\n",
              "    .dataframe thead th {\n",
              "        text-align: right;\n",
              "    }\n",
              "</style>\n",
              "<table border=\"1\" class=\"dataframe\">\n",
              "  <thead>\n",
              "    <tr style=\"text-align: right;\">\n",
              "      <th></th>\n",
              "      <th>descricao</th>\n",
              "      <th>discente</th>\n",
              "      <th>faltas_unidade</th>\n",
              "      <th>id_turma</th>\n",
              "      <th>media_final</th>\n",
              "      <th>nota</th>\n",
              "      <th>numero_total_faltas</th>\n",
              "      <th>reposicao</th>\n",
              "      <th>unidade</th>\n",
              "    </tr>\n",
              "  </thead>\n",
              "  <tbody>\n",
              "    <tr>\n",
              "      <th>0</th>\n",
              "      <td>APROVADO POR NOTA</td>\n",
              "      <td>dbe7197a41191f5a94486623cb99d2bf</td>\n",
              "      <td>0.0</td>\n",
              "      <td>1242771</td>\n",
              "      <td>6.7</td>\n",
              "      <td>7.5</td>\n",
              "      <td>0.0</td>\n",
              "      <td>f</td>\n",
              "      <td>1.0</td>\n",
              "    </tr>\n",
              "    <tr>\n",
              "      <th>1</th>\n",
              "      <td>APROVADO POR NOTA</td>\n",
              "      <td>dbe7197a41191f5a94486623cb99d2bf</td>\n",
              "      <td>0.0</td>\n",
              "      <td>1242771</td>\n",
              "      <td>6.7</td>\n",
              "      <td>5.0</td>\n",
              "      <td>0.0</td>\n",
              "      <td>f</td>\n",
              "      <td>2.0</td>\n",
              "    </tr>\n",
              "    <tr>\n",
              "      <th>2</th>\n",
              "      <td>APROVADO POR NOTA</td>\n",
              "      <td>dbe7197a41191f5a94486623cb99d2bf</td>\n",
              "      <td>0.0</td>\n",
              "      <td>1242771</td>\n",
              "      <td>6.7</td>\n",
              "      <td>7.5</td>\n",
              "      <td>0.0</td>\n",
              "      <td>f</td>\n",
              "      <td>3.0</td>\n",
              "    </tr>\n",
              "  </tbody>\n",
              "</table>\n",
              "</div>"
            ],
            "text/plain": [
              "           descricao                          discente  faltas_unidade  \\\n",
              "0  APROVADO POR NOTA  dbe7197a41191f5a94486623cb99d2bf             0.0   \n",
              "1  APROVADO POR NOTA  dbe7197a41191f5a94486623cb99d2bf             0.0   \n",
              "2  APROVADO POR NOTA  dbe7197a41191f5a94486623cb99d2bf             0.0   \n",
              "\n",
              "   id_turma  media_final  nota  numero_total_faltas reposicao  unidade  \n",
              "0   1242771          6.7   7.5                  0.0         f      1.0  \n",
              "1   1242771          6.7   5.0                  0.0         f      2.0  \n",
              "2   1242771          6.7   7.5                  0.0         f      3.0  "
            ]
          },
          "metadata": {
            "tags": []
          },
          "execution_count": 128
        }
      ]
    },
    {
      "metadata": {
        "id": "PZJt_J_1jJH_",
        "colab_type": "text"
      },
      "cell_type": "markdown",
      "source": [
        "Através do *id_turma* de *df_matriculasCeT* será selecionada apenas os dados de cálculo I, para isso, faremos a relação de *id componente* da disciplina com *id turma* através das tabelas dos componentes curriculares e das turmas."
      ]
    },
    {
      "metadata": {
        "id": "QZAPYpSFjRkx",
        "colab_type": "code",
        "colab": {
          "base_uri": "https://localhost:8080/",
          "height": 35
        },
        "outputId": "09947f83-6926-46f2-dd7e-7d3e21ce7fe0"
      },
      "cell_type": "code",
      "source": [
        "# criando um tipo series que é composto pelos ids da disciplina cálculo I\n",
        "componente_calc = componentes[(componentes['nome']=='CÁLCULO I') & \n",
        "                            (componentes['unidade_responsavel']=='ESCOLA DE CIÊNCIAS E TECNOLOGIA')]\n",
        "\n",
        "series_idCalc = componente_calc['id_componente']\n",
        "print(series_idCalc.values)"
      ],
      "execution_count": 149,
      "outputs": [
        {
          "output_type": "stream",
          "text": [
            "[  48582   57587 2050801]\n"
          ],
          "name": "stdout"
        }
      ]
    },
    {
      "metadata": {
        "id": "_CT5e343mS5Z",
        "colab_type": "code",
        "colab": {
          "base_uri": "https://localhost:8080/",
          "height": 160
        },
        "outputId": "3459cdc7-06b6-449e-83f7-5abb4218884d"
      },
      "cell_type": "code",
      "source": [
        "# criando um DataFrame que possui todas os ids turmas de cálculo I\n",
        "df_TurmasComp = df_turmas[['id_turma', 'id_componente_curricular']]\n",
        "turmas_calc = df_TurmasComp[df_TurmasComp['id_componente_curricular'].isin(series_idCalc)].reset_index()\n",
        "print(turmas_calc.shape)\n",
        "turmas_calc.head(3)"
      ],
      "execution_count": 157,
      "outputs": [
        {
          "output_type": "stream",
          "text": [
            "(52, 3)\n"
          ],
          "name": "stdout"
        },
        {
          "output_type": "execute_result",
          "data": {
            "text/html": [
              "<div>\n",
              "<style scoped>\n",
              "    .dataframe tbody tr th:only-of-type {\n",
              "        vertical-align: middle;\n",
              "    }\n",
              "\n",
              "    .dataframe tbody tr th {\n",
              "        vertical-align: top;\n",
              "    }\n",
              "\n",
              "    .dataframe thead th {\n",
              "        text-align: right;\n",
              "    }\n",
              "</style>\n",
              "<table border=\"1\" class=\"dataframe\">\n",
              "  <thead>\n",
              "    <tr style=\"text-align: right;\">\n",
              "      <th></th>\n",
              "      <th>index</th>\n",
              "      <th>id_turma</th>\n",
              "      <th>id_componente_curricular</th>\n",
              "    </tr>\n",
              "  </thead>\n",
              "  <tbody>\n",
              "    <tr>\n",
              "      <th>0</th>\n",
              "      <td>5819</td>\n",
              "      <td>1242580</td>\n",
              "      <td>57587</td>\n",
              "    </tr>\n",
              "    <tr>\n",
              "      <th>1</th>\n",
              "      <td>5824</td>\n",
              "      <td>1242585</td>\n",
              "      <td>57587</td>\n",
              "    </tr>\n",
              "    <tr>\n",
              "      <th>2</th>\n",
              "      <td>5828</td>\n",
              "      <td>1242589</td>\n",
              "      <td>57587</td>\n",
              "    </tr>\n",
              "  </tbody>\n",
              "</table>\n",
              "</div>"
            ],
            "text/plain": [
              "   index  id_turma  id_componente_curricular\n",
              "0   5819   1242580                     57587\n",
              "1   5824   1242585                     57587\n",
              "2   5828   1242589                     57587"
            ]
          },
          "metadata": {
            "tags": []
          },
          "execution_count": 157
        }
      ]
    },
    {
      "metadata": {
        "id": "mPVxzCzIpx_-",
        "colab_type": "code",
        "colab": {
          "base_uri": "https://localhost:8080/",
          "height": 35
        },
        "outputId": "d64c67a9-534f-4ed3-fc7f-e2ca774170e4"
      },
      "cell_type": "code",
      "source": [
        "# filtrando apenas as notas de cálculo I\n",
        "df_final = df_matriculasCeT[df_matriculasCeT['id_turma'].isin(turmas_calc['id_turma'])]\n",
        "df_final.shape"
      ],
      "execution_count": 176,
      "outputs": [
        {
          "output_type": "execute_result",
          "data": {
            "text/plain": [
              "(19174, 9)"
            ]
          },
          "metadata": {
            "tags": []
          },
          "execution_count": 176
        }
      ]
    },
    {
      "metadata": {
        "id": "Gp5la6gZxbWT",
        "colab_type": "code",
        "colab": {
          "base_uri": "https://localhost:8080/",
          "height": 297
        },
        "outputId": "f085b80f-90af-4531-e911-ef7cf6a5f379"
      },
      "cell_type": "code",
      "source": [
        "# resumo dos atributos numéricos\n",
        "for_describe = df_final[['faltas_unidade','media_final','nota','numero_total_faltas']]\n",
        "for_describe.describe()"
      ],
      "execution_count": 185,
      "outputs": [
        {
          "output_type": "execute_result",
          "data": {
            "text/html": [
              "<div>\n",
              "<style scoped>\n",
              "    .dataframe tbody tr th:only-of-type {\n",
              "        vertical-align: middle;\n",
              "    }\n",
              "\n",
              "    .dataframe tbody tr th {\n",
              "        vertical-align: top;\n",
              "    }\n",
              "\n",
              "    .dataframe thead th {\n",
              "        text-align: right;\n",
              "    }\n",
              "</style>\n",
              "<table border=\"1\" class=\"dataframe\">\n",
              "  <thead>\n",
              "    <tr style=\"text-align: right;\">\n",
              "      <th></th>\n",
              "      <th>faltas_unidade</th>\n",
              "      <th>media_final</th>\n",
              "      <th>nota</th>\n",
              "      <th>numero_total_faltas</th>\n",
              "    </tr>\n",
              "  </thead>\n",
              "  <tbody>\n",
              "    <tr>\n",
              "      <th>count</th>\n",
              "      <td>15330.0</td>\n",
              "      <td>14793.000000</td>\n",
              "      <td>14842.000000</td>\n",
              "      <td>15051.000000</td>\n",
              "    </tr>\n",
              "    <tr>\n",
              "      <th>mean</th>\n",
              "      <td>0.0</td>\n",
              "      <td>2.803508</td>\n",
              "      <td>2.681781</td>\n",
              "      <td>12.882998</td>\n",
              "    </tr>\n",
              "    <tr>\n",
              "      <th>std</th>\n",
              "      <td>0.0</td>\n",
              "      <td>3.004307</td>\n",
              "      <td>3.173561</td>\n",
              "      <td>20.053478</td>\n",
              "    </tr>\n",
              "    <tr>\n",
              "      <th>min</th>\n",
              "      <td>0.0</td>\n",
              "      <td>0.000000</td>\n",
              "      <td>0.000000</td>\n",
              "      <td>0.000000</td>\n",
              "    </tr>\n",
              "    <tr>\n",
              "      <th>25%</th>\n",
              "      <td>0.0</td>\n",
              "      <td>0.000000</td>\n",
              "      <td>0.000000</td>\n",
              "      <td>0.000000</td>\n",
              "    </tr>\n",
              "    <tr>\n",
              "      <th>50%</th>\n",
              "      <td>0.0</td>\n",
              "      <td>1.400000</td>\n",
              "      <td>1.100000</td>\n",
              "      <td>2.000000</td>\n",
              "    </tr>\n",
              "    <tr>\n",
              "      <th>75%</th>\n",
              "      <td>0.0</td>\n",
              "      <td>5.300000</td>\n",
              "      <td>5.000000</td>\n",
              "      <td>18.000000</td>\n",
              "    </tr>\n",
              "    <tr>\n",
              "      <th>max</th>\n",
              "      <td>0.0</td>\n",
              "      <td>10.000000</td>\n",
              "      <td>10.000000</td>\n",
              "      <td>80.000000</td>\n",
              "    </tr>\n",
              "  </tbody>\n",
              "</table>\n",
              "</div>"
            ],
            "text/plain": [
              "       faltas_unidade   media_final          nota  numero_total_faltas\n",
              "count         15330.0  14793.000000  14842.000000         15051.000000\n",
              "mean              0.0      2.803508      2.681781            12.882998\n",
              "std               0.0      3.004307      3.173561            20.053478\n",
              "min               0.0      0.000000      0.000000             0.000000\n",
              "25%               0.0      0.000000      0.000000             0.000000\n",
              "50%               0.0      1.400000      1.100000             2.000000\n",
              "75%               0.0      5.300000      5.000000            18.000000\n",
              "max               0.0     10.000000     10.000000            80.000000"
            ]
          },
          "metadata": {
            "tags": []
          },
          "execution_count": 185
        }
      ]
    },
    {
      "metadata": {
        "id": "xbvgOuL0r8y5",
        "colab_type": "text"
      },
      "cell_type": "markdown",
      "source": [
        "## 2.5 Histograma"
      ]
    },
    {
      "metadata": {
        "id": "HY1fcPfR03EJ",
        "colab_type": "code",
        "colab": {
          "base_uri": "https://localhost:8080/",
          "height": 365
        },
        "outputId": "075232f4-adce-4ec9-fc9e-0505a859d5b9"
      },
      "cell_type": "code",
      "source": [
        "import matplotlib.pyplot as plt\n",
        "\n",
        "df_final[['media_final','nota']].hist(bins=50, figsize=(12,5))\n",
        "plt.tight_layout()\n",
        "plt.show()"
      ],
      "execution_count": 194,
      "outputs": [
        {
          "output_type": "display_data",
          "data": {
            "image/png": "[encoded data removed]",
            "text/plain": [
              "<matplotlib.figure.Figure at 0x7f287b8e5910>"
            ]
          },
          "metadata": {
            "tags": []
          }
        }
      ]
    },
    {
      "metadata": {
        "id": "GorP1xQx1j00",
        "colab_type": "code",
        "colab": {
          "base_uri": "https://localhost:8080/",
          "height": 365
        },
        "outputId": "2aab8e14-059f-46a0-89e7-2b7817e39242"
      },
      "cell_type": "code",
      "source": [
        "# retirando as notas zero pra ver melhor o comportamento das outras notas\n",
        "sem_zero = df_final[(df_final['media_final']!=0) & (df_final['nota']!=0)]\n",
        "sem_zero[['media_final','nota']].hist(bins=50, figsize=(12,5))\n",
        "plt.tight_layout()\n",
        "plt.show()"
      ],
      "execution_count": 196,
      "outputs": [
        {
          "output_type": "display_data",
          "data": {
            "image/png": "[encoded data removed]",
            "text/plain": [
              "<matplotlib.figure.Figure at 0x7f287b518250>"
            ]
          },
          "metadata": {
            "tags": []
          }
        }
      ]
    },
    {
      "metadata": {
        "id": "OCZND56q2Wc7",
        "colab_type": "code",
        "colab": {
          "base_uri": "https://localhost:8080/",
          "height": 179
        },
        "outputId": "4bff9412-6775-4dfe-dc41-0c2509a29295"
      },
      "cell_type": "code",
      "source": [
        "notas_1 = df_final[df_final['unidade']==1.0]\n",
        "notas_1 = notas_1[['discente','nota']]\n",
        "notas_1 = notas_1.rename(index=str, columns={\"nota\": \"nota_1\"})\n",
        "\n",
        "notas_2 = df_final[df_final['unidade']==2.0]\n",
        "notas_2 = notas_2[['discente','nota']]\n",
        "notas_2 = notas_2.rename(index=str, columns={\"nota\": \"nota_2\"})\n",
        "\n",
        "notas_3 = df_final[df_final['unidade']==3.0]\n",
        "notas_3 = notas_3[['discente','nota']]\n",
        "notas_3 = notas_3.rename(index=str, columns={\"nota\": \"nota_3\"})\n",
        "\n",
        "notas_12 = pd.merge(notas_1,notas_2,on='discente')\n",
        "df_porUnidade = pd.merge(notas_12,notas_3,on='discente')\n",
        "\n",
        "df_porUnidade.info()"
      ],
      "execution_count": 214,
      "outputs": [
        {
          "output_type": "stream",
          "text": [
            "<class 'pandas.core.frame.DataFrame'>\n",
            "Int64Index: 25234 entries, 0 to 25233\n",
            "Data columns (total 4 columns):\n",
            "discente    25234 non-null object\n",
            "nota_1      24694 non-null float64\n",
            "nota_2      24503 non-null float64\n",
            "nota_3      24473 non-null float64\n",
            "dtypes: float64(3), object(1)\n",
            "memory usage: 985.7+ KB\n"
          ],
          "name": "stdout"
        }
      ]
    },
    {
      "metadata": {
        "id": "LZFLxGoI7YZV",
        "colab_type": "code",
        "colab": {
          "base_uri": "https://localhost:8080/",
          "height": 365
        },
        "outputId": "db1aa12a-df86-4670-8a7d-5899c4ceb74e"
      },
      "cell_type": "code",
      "source": [
        "sem_zero2 = df_porUnidade[(df_porUnidade['nota_1']!=0) &\n",
        "                          (df_porUnidade['nota_2']!=0) &\n",
        "                          (df_porUnidade['nota_3']!=0)]\n",
        "\n",
        "sem_zero2.hist(bins=70, figsize=(12,5))\n",
        "plt.tight_layout()\n",
        "plt.show()"
      ],
      "execution_count": 217,
      "outputs": [
        {
          "output_type": "display_data",
          "data": {
            "image/png": "[encoded data removed]",
            "text/plain": [
              "<matplotlib.figure.Figure at 0x7f287b38a650>"
            ]
          },
          "metadata": {
            "tags": []
          }
        }
      ]
    },
    {
      "metadata": {
        "id": "XnbfEDfgr-zj",
        "colab_type": "text"
      },
      "cell_type": "markdown",
      "source": [
        "## 2.6 Conjunto de Teste"
      ]
    },
    {
      "metadata": {
        "id": "reRInxT_85cm",
        "colab_type": "code",
        "colab": {}
      },
      "cell_type": "code",
      "source": [
        "# import numpy as np\n",
        "\n",
        "# # data - dataset\n",
        "# # test_ratio - percentage used to the test set\n",
        "# def split_train_test(data, test_ratio):\n",
        "  \n",
        "#   #scramble the position\n",
        "#   shuffled_indices = np.random.permutation(len(data))\n",
        "#   #find the test set size\n",
        "#   test_set_size = int(len(data) * test_ratio)\n",
        "#   #split the indices\n",
        "#   test_indices = shuffled_indices[:test_set_size]\n",
        "#   train_indices = shuffled_indices[test_set_size:]\n",
        "  \n",
        "#   return data.iloc[train_indices], data.iloc[test_indices]"
      ],
      "execution_count": 0,
      "outputs": []
    },
    {
      "metadata": {
        "id": "LsaTWRdo9QFD",
        "colab_type": "code",
        "colab": {
          "base_uri": "https://localhost:8080/",
          "height": 35
        },
        "outputId": "2b2b8c52-1f07-4a04-a188-577f256d7349"
      },
      "cell_type": "code",
      "source": [
        "# train_set, test_set = split_train_test(df_final, 0.2)\n",
        "# print(\"data has {} atributes, that is the same of {}\\\n",
        "# train instances + {} test intances ({})\".\n",
        "#       format(len(data),len(train_set),len(test_set),len(train_set)+len(test_set)))"
      ],
      "execution_count": 219,
      "outputs": [
        {
          "output_type": "stream",
          "text": [
            "data has 69775 atributes, that is the same of 15340train instances + 3834 test intances (19174)\n"
          ],
          "name": "stdout"
        }
      ]
    },
    {
      "metadata": {
        "id": "TKlRYSdB-dhn",
        "colab_type": "code",
        "colab": {
          "base_uri": "https://localhost:8080/",
          "height": 71
        },
        "outputId": "3fc61460-8125-4169-8520-27221d9dce39"
      },
      "cell_type": "code",
      "source": [
        "from sklearn.model_selection import train_test_split\n",
        "\n",
        "train_set, test_set = train_test_split(df_final, \n",
        "                                       test_size=0.2, \n",
        "                                       random_state=35)\n",
        "\n",
        "print(\"data has {} instances\\n {} train instances\\n {} test intances\".\n",
        "      format(len(data),len(train_set),len(test_set)))"
      ],
      "execution_count": 224,
      "outputs": [
        {
          "output_type": "stream",
          "text": [
            "data has 69775 instances\n",
            " 15339 train instances\n",
            " 3835 test intances\n"
          ],
          "name": "stdout"
        }
      ]
    },
    {
      "metadata": {
        "id": "h4Eh06yXLy7F",
        "colab_type": "text"
      },
      "cell_type": "markdown",
      "source": [
        "# 3.0 Visualizando os dados"
      ]
    },
    {
      "metadata": {
        "id": "adv2zapSMcKl",
        "colab_type": "text"
      },
      "cell_type": "markdown",
      "source": [
        "# 4.0 Tratando os dados"
      ]
    },
    {
      "metadata": {
        "id": "VBdSuSh_mVn7",
        "colab_type": "text"
      },
      "cell_type": "markdown",
      "source": [
        "pegar o id componente de C1 > id das turmas"
      ]
    },
    {
      "metadata": {
        "id": "wBL8VSeDMv4N",
        "colab_type": "text"
      },
      "cell_type": "markdown",
      "source": [
        "# 5.0 Selecionando e Treinando o Modelo"
      ]
    },
    {
      "metadata": {
        "id": "eBOx-JDTNIIw",
        "colab_type": "code",
        "colab": {}
      },
      "cell_type": "code",
      "source": [
        ""
      ],
      "execution_count": 0,
      "outputs": []
    },
    {
      "metadata": {
        "id": "x3ci9yUwN-D9",
        "colab_type": "text"
      },
      "cell_type": "markdown",
      "source": [
        "# 6.0 Melhorar o Modelo"
      ]
    },
    {
      "metadata": {
        "id": "Qbeq4PquOJtL",
        "colab_type": "text"
      },
      "cell_type": "markdown",
      "source": [
        "# 7.0 Apresentando a Solução"
      ]
    },
    {
      "metadata": {
        "id": "1rt4dECBOM5Y",
        "colab_type": "code",
        "colab": {}
      },
      "cell_type": "code",
      "source": [
        ""
      ],
      "execution_count": 0,
      "outputs": []
    }
  ]
}